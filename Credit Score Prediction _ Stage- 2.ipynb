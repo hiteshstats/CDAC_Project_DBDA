{
 "cells": [
  {
   "cell_type": "markdown",
   "metadata": {
    "application/vnd.databricks.v1+cell": {
     "cellMetadata": {},
     "inputWidgets": {},
     "nuid": "e96033cd-75ce-4a92-99b1-a130e7b2ba2c",
     "showTitle": false,
     "title": ""
    }
   },
   "source": [
    "##  <p style=\"padding:10px;background-color:Pink ;margin:10;color:#000000;font-family:newtimeroman;font-size:100%;border-radius: 10px 10px ;overflow:hidden;font-weight:50\">Data Ingestion</p>\n"
   ]
  },
  {
   "cell_type": "code",
   "execution_count": 0,
   "metadata": {
    "application/vnd.databricks.v1+cell": {
     "cellMetadata": {
      "byteLimit": 2048000,
      "rowLimit": 10000
     },
     "inputWidgets": {},
     "nuid": "64d7c4a2-b4d6-48a3-a35d-f4a722c83dfa",
     "showTitle": false,
     "title": ""
    }
   },
   "outputs": [
    {
     "output_type": "display_data",
     "data": {
      "text/html": [
       "<style scoped>\n",
       "  .table-result-container {\n",
       "    max-height: 300px;\n",
       "    overflow: auto;\n",
       "  }\n",
       "  table, th, td {\n",
       "    border: 1px solid black;\n",
       "    border-collapse: collapse;\n",
       "  }\n",
       "  th, td {\n",
       "    padding: 5px;\n",
       "  }\n",
       "  th {\n",
       "    text-align: left;\n",
       "  }\n",
       "</style><div class='table-result-container'><table class='table-result'><thead style='background-color: white'><tr><th>ID</th><th>Customer_ID</th><th>Month</th><th>Name</th><th>Age3</th><th>SSN</th><th>Monthly_Inhand_Salary</th><th>Num_Bank_Accounts1</th><th>Delay_from_due_date1</th><th>Num_Credit_Card</th><th>Interest_Rate</th><th>Type_of_Loan</th><th>Num_Credit_Inquiries</th><th>Credit_Utilization_Ratio</th><th>Credit_History_Age</th><th>Payment_of_Min_Amount</th><th>Total_EMI_per_month</th><th>Occupation1</th><th>Annual_Income1</th><th>Credit_Mix1</th><th>Outstanding_Debt1</th><th>Num_of_Delayed_Payment2</th><th>Num_of_Loan2</th><th>Amount_invested_monthly1</th><th>Monthly_Balance1</th><th>Payment_Behaviour1</th><th>Changed_Credit_Limit2</th><th>Credit_Score</th></tr></thead><tbody><tr><td>0x1602</td><td>CUS_0xd40</td><td>January</td><td>Aaron Maashoh</td><td>23</td><td>821-00-0265</td><td>1824.8433333333328</td><td>3</td><td>3</td><td>4</td><td>3</td><td>Auto Loan, Credit-Builder Loan, Personal Loan, and Home Equity Loan</td><td>4.0</td><td>26.822619623699016</td><td>22 Years and 1 Months</td><td>No</td><td>49.57494921489417</td><td>Scientist</td><td>19114.12</td><td></td><td>809.98</td><td>7</td><td>4</td><td>80.4153</td><td>312.49408</td><td>High_spent_Small_value_payments</td><td>11.27</td><td>Good</td></tr><tr><td>0x1603</td><td>CUS_0xd40</td><td>February</td><td>Aaron Maashoh</td><td>23</td><td>821-00-0265</td><td>null</td><td>3</td><td>1</td><td>4</td><td>3</td><td>Auto Loan, Credit-Builder Loan, Personal Loan, and Home Equity Loan</td><td>4.0</td><td>31.94496005538421</td><td>NA</td><td>No</td><td>49.57494921489417</td><td>Scientist</td><td>19114.12</td><td>Good</td><td>809.98</td><td>null</td><td>4</td><td>118.28022</td><td>284.62915</td><td>Low_spent_Large_value_payments</td><td>11.27</td><td>Good</td></tr><tr><td>0x1604</td><td>CUS_0xd40</td><td>March</td><td>Aaron Maashoh</td><td>null</td><td>821-00-0265</td><td>null</td><td>3</td><td>3</td><td>4</td><td>3</td><td>Auto Loan, Credit-Builder Loan, Personal Loan, and Home Equity Loan</td><td>4.0</td><td>28.60935202206993</td><td>22 Years and 3 Months</td><td>No</td><td>49.57494921489417</td><td>Scientist</td><td>19114.12</td><td>Good</td><td>809.98</td><td>7</td><td>4</td><td>81.699524</td><td>331.20987</td><td>Low_spent_Medium_value_payments</td><td>null</td><td>Good</td></tr><tr><td>0x1605</td><td>CUS_0xd40</td><td>April</td><td>Aaron Maashoh</td><td>23</td><td>821-00-0265</td><td>null</td><td>3</td><td>5</td><td>4</td><td>3</td><td>Auto Loan, Credit-Builder Loan, Personal Loan, and Home Equity Loan</td><td>4.0</td><td>31.377861869582354</td><td>22 Years and 4 Months</td><td>No</td><td>49.57494921489417</td><td>Scientist</td><td>19114.12</td><td>Good</td><td>809.98</td><td>4</td><td>4</td><td>199.45807</td><td>223.45131</td><td>Low_spent_Small_value_payments</td><td>6.27</td><td>Good</td></tr><tr><td>0x1606</td><td>CUS_0xd40</td><td>May</td><td>Aaron Maashoh</td><td>23</td><td>821-00-0265</td><td>1824.8433333333328</td><td>3</td><td>6</td><td>4</td><td>3</td><td>Auto Loan, Credit-Builder Loan, Personal Loan, and Home Equity Loan</td><td>4.0</td><td>24.797346908844986</td><td>22 Years and 5 Months</td><td>No</td><td>49.57494921489417</td><td>Scientist</td><td>19114.12</td><td>Good</td><td>809.98</td><td>null</td><td>4</td><td>41.420155</td><td>341.48923</td><td>High_spent_Medium_value_payments</td><td>11.27</td><td>Good</td></tr></tbody></table></div>"
      ]
     },
     "metadata": {
      "application/vnd.databricks.v1+output": {
       "addedWidgets": {},
       "aggData": [],
       "aggError": "",
       "aggOverflow": false,
       "aggSchema": [],
       "aggSeriesLimitReached": false,
       "aggType": "",
       "arguments": {},
       "columnCustomDisplayInfos": {},
       "data": [
        [
         "0x1602",
         "CUS_0xd40",
         "January",
         "Aaron Maashoh",
         23,
         "821-00-0265",
         1824.8433333333328,
         3,
         3,
         4,
         3,
         "Auto Loan, Credit-Builder Loan, Personal Loan, and Home Equity Loan",
         4.0,
         26.822619623699016,
         "22 Years and 1 Months",
         "No",
         49.57494921489417,
         "Scientist",
         "19114.12",
         "",
         "809.98",
         7,
         4,
         80.4153,
         312.49408,
         "High_spent_Small_value_payments",
         11.27,
         "Good"
        ],
        [
         "0x1603",
         "CUS_0xd40",
         "February",
         "Aaron Maashoh",
         23,
         "821-00-0265",
         null,
         3,
         1,
         4,
         3,
         "Auto Loan, Credit-Builder Loan, Personal Loan, and Home Equity Loan",
         4.0,
         31.94496005538421,
         "NA",
         "No",
         49.57494921489417,
         "Scientist",
         "19114.12",
         "Good",
         "809.98",
         null,
         4,
         118.28022,
         284.62915,
         "Low_spent_Large_value_payments",
         11.27,
         "Good"
        ],
        [
         "0x1604",
         "CUS_0xd40",
         "March",
         "Aaron Maashoh",
         null,
         "821-00-0265",
         null,
         3,
         3,
         4,
         3,
         "Auto Loan, Credit-Builder Loan, Personal Loan, and Home Equity Loan",
         4.0,
         28.60935202206993,
         "22 Years and 3 Months",
         "No",
         49.57494921489417,
         "Scientist",
         "19114.12",
         "Good",
         "809.98",
         7,
         4,
         81.699524,
         331.20987,
         "Low_spent_Medium_value_payments",
         null,
         "Good"
        ],
        [
         "0x1605",
         "CUS_0xd40",
         "April",
         "Aaron Maashoh",
         23,
         "821-00-0265",
         null,
         3,
         5,
         4,
         3,
         "Auto Loan, Credit-Builder Loan, Personal Loan, and Home Equity Loan",
         4.0,
         31.377861869582354,
         "22 Years and 4 Months",
         "No",
         49.57494921489417,
         "Scientist",
         "19114.12",
         "Good",
         "809.98",
         4,
         4,
         199.45807,
         223.45131,
         "Low_spent_Small_value_payments",
         6.27,
         "Good"
        ],
        [
         "0x1606",
         "CUS_0xd40",
         "May",
         "Aaron Maashoh",
         23,
         "821-00-0265",
         1824.8433333333328,
         3,
         6,
         4,
         3,
         "Auto Loan, Credit-Builder Loan, Personal Loan, and Home Equity Loan",
         4.0,
         24.797346908844986,
         "22 Years and 5 Months",
         "No",
         49.57494921489417,
         "Scientist",
         "19114.12",
         "Good",
         "809.98",
         null,
         4,
         41.420155,
         341.48923,
         "High_spent_Medium_value_payments",
         11.27,
         "Good"
        ]
       ],
       "datasetInfos": [],
       "dbfsResultPath": null,
       "isJsonSchema": true,
       "metadata": {},
       "overflow": false,
       "plotOptions": {
        "customPlotOptions": {},
        "displayType": "table",
        "pivotAggregation": null,
        "pivotColumns": null,
        "xColumns": null,
        "yColumns": null
       },
       "removedWidgets": [],
       "schema": [
        {
         "metadata": "{}",
         "name": "ID",
         "type": "\"string\""
        },
        {
         "metadata": "{}",
         "name": "Customer_ID",
         "type": "\"string\""
        },
        {
         "metadata": "{}",
         "name": "Month",
         "type": "\"string\""
        },
        {
         "metadata": "{}",
         "name": "Name",
         "type": "\"string\""
        },
        {
         "metadata": "{}",
         "name": "Age3",
         "type": "\"integer\""
        },
        {
         "metadata": "{}",
         "name": "SSN",
         "type": "\"string\""
        },
        {
         "metadata": "{}",
         "name": "Monthly_Inhand_Salary",
         "type": "\"double\""
        },
        {
         "metadata": "{}",
         "name": "Num_Bank_Accounts1",
         "type": "\"integer\""
        },
        {
         "metadata": "{}",
         "name": "Delay_from_due_date1",
         "type": "\"long\""
        },
        {
         "metadata": "{}",
         "name": "Num_Credit_Card",
         "type": "\"long\""
        },
        {
         "metadata": "{}",
         "name": "Interest_Rate",
         "type": "\"long\""
        },
        {
         "metadata": "{}",
         "name": "Type_of_Loan",
         "type": "\"string\""
        },
        {
         "metadata": "{}",
         "name": "Num_Credit_Inquiries",
         "type": "\"double\""
        },
        {
         "metadata": "{}",
         "name": "Credit_Utilization_Ratio",
         "type": "\"double\""
        },
        {
         "metadata": "{}",
         "name": "Credit_History_Age",
         "type": "\"string\""
        },
        {
         "metadata": "{}",
         "name": "Payment_of_Min_Amount",
         "type": "\"string\""
        },
        {
         "metadata": "{}",
         "name": "Total_EMI_per_month",
         "type": "\"double\""
        },
        {
         "metadata": "{}",
         "name": "Occupation1",
         "type": "\"string\""
        },
        {
         "metadata": "{}",
         "name": "Annual_Income1",
         "type": "\"string\""
        },
        {
         "metadata": "{}",
         "name": "Credit_Mix1",
         "type": "\"string\""
        },
        {
         "metadata": "{}",
         "name": "Outstanding_Debt1",
         "type": "\"string\""
        },
        {
         "metadata": "{}",
         "name": "Num_of_Delayed_Payment2",
         "type": "\"integer\""
        },
        {
         "metadata": "{}",
         "name": "Num_of_Loan2",
         "type": "\"integer\""
        },
        {
         "metadata": "{}",
         "name": "Amount_invested_monthly1",
         "type": "\"float\""
        },
        {
         "metadata": "{}",
         "name": "Monthly_Balance1",
         "type": "\"float\""
        },
        {
         "metadata": "{}",
         "name": "Payment_Behaviour1",
         "type": "\"string\""
        },
        {
         "metadata": "{}",
         "name": "Changed_Credit_Limit2",
         "type": "\"float\""
        },
        {
         "metadata": "{}",
         "name": "Credit_Score",
         "type": "\"string\""
        }
       ],
       "type": "table"
      }
     },
     "output_type": "display_data"
    }
   ],
   "source": [
    "# Ingestion of data stored in azure data lake storage after stage 1\n",
    "A=spark.read.parquet(\"dbfs:/mnt/ADLS_Landing/Bank_Data/silver/2024/08/09/part-merged.snappy.parquet\",inferSchema=True)\n",
    "display(A.limit(5))"
   ]
  },
  {
   "cell_type": "code",
   "execution_count": 0,
   "metadata": {
    "application/vnd.databricks.v1+cell": {
     "cellMetadata": {
      "byteLimit": 2048000,
      "rowLimit": 10000
     },
     "inputWidgets": {},
     "nuid": "27427204-b2a0-4b70-83c3-47dbdbdf52cd",
     "showTitle": false,
     "title": ""
    }
   },
   "outputs": [],
   "source": [
    "from pyspark.sql.functions import col,cast\n",
    "A=A.withColumn(\"Outstanding_Debt\",col(\"Outstanding_Debt1\").cast('float'))\n",
    "A=A.withColumn(\"Annual_Income\",col(\"Annual_Income1\").cast('float'))\n",
    "A=A.drop(col(\"Annual_Income1\"),col(\"Outstanding_Debt1\"))"
   ]
  },
  {
   "cell_type": "code",
   "execution_count": 0,
   "metadata": {
    "application/vnd.databricks.v1+cell": {
     "cellMetadata": {
      "byteLimit": 2048000,
      "rowLimit": 10000
     },
     "inputWidgets": {},
     "nuid": "6b1d5c8a-fe79-4439-a1d3-e0e6554e4600",
     "showTitle": false,
     "title": ""
    }
   },
   "outputs": [
    {
     "output_type": "display_data",
     "data": {
      "text/html": [
       "<style scoped>\n",
       "  .table-result-container {\n",
       "    max-height: 300px;\n",
       "    overflow: auto;\n",
       "  }\n",
       "  table, th, td {\n",
       "    border: 1px solid black;\n",
       "    border-collapse: collapse;\n",
       "  }\n",
       "  th, td {\n",
       "    padding: 5px;\n",
       "  }\n",
       "  th {\n",
       "    text-align: left;\n",
       "  }\n",
       "</style><div class='table-result-container'><table class='table-result'><thead style='background-color: white'><tr><th>ID</th><th>Customer_ID</th><th>Month</th><th>Name</th><th>Age3</th><th>SSN</th><th>Monthly_Inhand_Salary</th><th>Num_Bank_Accounts1</th><th>Delay_from_due_date1</th><th>Num_Credit_Card</th><th>Interest_Rate</th><th>Type_of_Loan</th><th>Num_Credit_Inquiries</th><th>Credit_Utilization_Ratio</th><th>Credit_History_Age</th><th>Payment_of_Min_Amount</th><th>Total_EMI_per_month</th><th>Occupation1</th><th>Credit_Mix1</th><th>Num_of_Delayed_Payment2</th><th>Num_of_Loan2</th><th>Amount_invested_monthly1</th><th>Monthly_Balance1</th><th>Payment_Behaviour1</th><th>Changed_Credit_Limit2</th><th>Credit_Score</th><th>Outstanding_Debt</th><th>Annual_Income</th></tr></thead><tbody><tr><td>0x1602</td><td>CUS_0xd40</td><td>January</td><td>Aaron Maashoh</td><td>23</td><td>821-00-0265</td><td>1824.8433333333328</td><td>3</td><td>3</td><td>4</td><td>3</td><td>Auto Loan, Credit-Builder Loan, Personal Loan, and Home Equity Loan</td><td>4.0</td><td>26.822619623699016</td><td>22 Years and 1 Months</td><td>No</td><td>49.57494921489417</td><td>Scientist</td><td></td><td>7</td><td>4</td><td>80.4153</td><td>312.49408</td><td>High_spent_Small_value_payments</td><td>11.27</td><td>Good</td><td>809.98</td><td>19114.12</td></tr><tr><td>0x1603</td><td>CUS_0xd40</td><td>February</td><td>Aaron Maashoh</td><td>23</td><td>821-00-0265</td><td>null</td><td>3</td><td>1</td><td>4</td><td>3</td><td>Auto Loan, Credit-Builder Loan, Personal Loan, and Home Equity Loan</td><td>4.0</td><td>31.94496005538421</td><td>NA</td><td>No</td><td>49.57494921489417</td><td>Scientist</td><td>Good</td><td>null</td><td>4</td><td>118.28022</td><td>284.62915</td><td>Low_spent_Large_value_payments</td><td>11.27</td><td>Good</td><td>809.98</td><td>19114.12</td></tr><tr><td>0x1604</td><td>CUS_0xd40</td><td>March</td><td>Aaron Maashoh</td><td>null</td><td>821-00-0265</td><td>null</td><td>3</td><td>3</td><td>4</td><td>3</td><td>Auto Loan, Credit-Builder Loan, Personal Loan, and Home Equity Loan</td><td>4.0</td><td>28.60935202206993</td><td>22 Years and 3 Months</td><td>No</td><td>49.57494921489417</td><td>Scientist</td><td>Good</td><td>7</td><td>4</td><td>81.699524</td><td>331.20987</td><td>Low_spent_Medium_value_payments</td><td>null</td><td>Good</td><td>809.98</td><td>19114.12</td></tr><tr><td>0x1605</td><td>CUS_0xd40</td><td>April</td><td>Aaron Maashoh</td><td>23</td><td>821-00-0265</td><td>null</td><td>3</td><td>5</td><td>4</td><td>3</td><td>Auto Loan, Credit-Builder Loan, Personal Loan, and Home Equity Loan</td><td>4.0</td><td>31.377861869582354</td><td>22 Years and 4 Months</td><td>No</td><td>49.57494921489417</td><td>Scientist</td><td>Good</td><td>4</td><td>4</td><td>199.45807</td><td>223.45131</td><td>Low_spent_Small_value_payments</td><td>6.27</td><td>Good</td><td>809.98</td><td>19114.12</td></tr><tr><td>0x1606</td><td>CUS_0xd40</td><td>May</td><td>Aaron Maashoh</td><td>23</td><td>821-00-0265</td><td>1824.8433333333328</td><td>3</td><td>6</td><td>4</td><td>3</td><td>Auto Loan, Credit-Builder Loan, Personal Loan, and Home Equity Loan</td><td>4.0</td><td>24.797346908844986</td><td>22 Years and 5 Months</td><td>No</td><td>49.57494921489417</td><td>Scientist</td><td>Good</td><td>null</td><td>4</td><td>41.420155</td><td>341.48923</td><td>High_spent_Medium_value_payments</td><td>11.27</td><td>Good</td><td>809.98</td><td>19114.12</td></tr></tbody></table></div>"
      ]
     },
     "metadata": {
      "application/vnd.databricks.v1+output": {
       "addedWidgets": {},
       "aggData": [],
       "aggError": "",
       "aggOverflow": false,
       "aggSchema": [],
       "aggSeriesLimitReached": false,
       "aggType": "",
       "arguments": {},
       "columnCustomDisplayInfos": {},
       "data": [
        [
         "0x1602",
         "CUS_0xd40",
         "January",
         "Aaron Maashoh",
         23,
         "821-00-0265",
         1824.8433333333328,
         3,
         3,
         4,
         3,
         "Auto Loan, Credit-Builder Loan, Personal Loan, and Home Equity Loan",
         4.0,
         26.822619623699016,
         "22 Years and 1 Months",
         "No",
         49.57494921489417,
         "Scientist",
         "",
         7,
         4,
         80.4153,
         312.49408,
         "High_spent_Small_value_payments",
         11.27,
         "Good",
         809.98,
         19114.12
        ],
        [
         "0x1603",
         "CUS_0xd40",
         "February",
         "Aaron Maashoh",
         23,
         "821-00-0265",
         null,
         3,
         1,
         4,
         3,
         "Auto Loan, Credit-Builder Loan, Personal Loan, and Home Equity Loan",
         4.0,
         31.94496005538421,
         "NA",
         "No",
         49.57494921489417,
         "Scientist",
         "Good",
         null,
         4,
         118.28022,
         284.62915,
         "Low_spent_Large_value_payments",
         11.27,
         "Good",
         809.98,
         19114.12
        ],
        [
         "0x1604",
         "CUS_0xd40",
         "March",
         "Aaron Maashoh",
         null,
         "821-00-0265",
         null,
         3,
         3,
         4,
         3,
         "Auto Loan, Credit-Builder Loan, Personal Loan, and Home Equity Loan",
         4.0,
         28.60935202206993,
         "22 Years and 3 Months",
         "No",
         49.57494921489417,
         "Scientist",
         "Good",
         7,
         4,
         81.699524,
         331.20987,
         "Low_spent_Medium_value_payments",
         null,
         "Good",
         809.98,
         19114.12
        ],
        [
         "0x1605",
         "CUS_0xd40",
         "April",
         "Aaron Maashoh",
         23,
         "821-00-0265",
         null,
         3,
         5,
         4,
         3,
         "Auto Loan, Credit-Builder Loan, Personal Loan, and Home Equity Loan",
         4.0,
         31.377861869582354,
         "22 Years and 4 Months",
         "No",
         49.57494921489417,
         "Scientist",
         "Good",
         4,
         4,
         199.45807,
         223.45131,
         "Low_spent_Small_value_payments",
         6.27,
         "Good",
         809.98,
         19114.12
        ],
        [
         "0x1606",
         "CUS_0xd40",
         "May",
         "Aaron Maashoh",
         23,
         "821-00-0265",
         1824.8433333333328,
         3,
         6,
         4,
         3,
         "Auto Loan, Credit-Builder Loan, Personal Loan, and Home Equity Loan",
         4.0,
         24.797346908844986,
         "22 Years and 5 Months",
         "No",
         49.57494921489417,
         "Scientist",
         "Good",
         null,
         4,
         41.420155,
         341.48923,
         "High_spent_Medium_value_payments",
         11.27,
         "Good",
         809.98,
         19114.12
        ]
       ],
       "datasetInfos": [],
       "dbfsResultPath": null,
       "isJsonSchema": true,
       "metadata": {},
       "overflow": false,
       "plotOptions": {
        "customPlotOptions": {},
        "displayType": "table",
        "pivotAggregation": null,
        "pivotColumns": null,
        "xColumns": null,
        "yColumns": null
       },
       "removedWidgets": [],
       "schema": [
        {
         "metadata": "{}",
         "name": "ID",
         "type": "\"string\""
        },
        {
         "metadata": "{}",
         "name": "Customer_ID",
         "type": "\"string\""
        },
        {
         "metadata": "{}",
         "name": "Month",
         "type": "\"string\""
        },
        {
         "metadata": "{}",
         "name": "Name",
         "type": "\"string\""
        },
        {
         "metadata": "{}",
         "name": "Age3",
         "type": "\"integer\""
        },
        {
         "metadata": "{}",
         "name": "SSN",
         "type": "\"string\""
        },
        {
         "metadata": "{}",
         "name": "Monthly_Inhand_Salary",
         "type": "\"double\""
        },
        {
         "metadata": "{}",
         "name": "Num_Bank_Accounts1",
         "type": "\"integer\""
        },
        {
         "metadata": "{}",
         "name": "Delay_from_due_date1",
         "type": "\"long\""
        },
        {
         "metadata": "{}",
         "name": "Num_Credit_Card",
         "type": "\"long\""
        },
        {
         "metadata": "{}",
         "name": "Interest_Rate",
         "type": "\"long\""
        },
        {
         "metadata": "{}",
         "name": "Type_of_Loan",
         "type": "\"string\""
        },
        {
         "metadata": "{}",
         "name": "Num_Credit_Inquiries",
         "type": "\"double\""
        },
        {
         "metadata": "{}",
         "name": "Credit_Utilization_Ratio",
         "type": "\"double\""
        },
        {
         "metadata": "{}",
         "name": "Credit_History_Age",
         "type": "\"string\""
        },
        {
         "metadata": "{}",
         "name": "Payment_of_Min_Amount",
         "type": "\"string\""
        },
        {
         "metadata": "{}",
         "name": "Total_EMI_per_month",
         "type": "\"double\""
        },
        {
         "metadata": "{}",
         "name": "Occupation1",
         "type": "\"string\""
        },
        {
         "metadata": "{}",
         "name": "Credit_Mix1",
         "type": "\"string\""
        },
        {
         "metadata": "{}",
         "name": "Num_of_Delayed_Payment2",
         "type": "\"integer\""
        },
        {
         "metadata": "{}",
         "name": "Num_of_Loan2",
         "type": "\"integer\""
        },
        {
         "metadata": "{}",
         "name": "Amount_invested_monthly1",
         "type": "\"float\""
        },
        {
         "metadata": "{}",
         "name": "Monthly_Balance1",
         "type": "\"float\""
        },
        {
         "metadata": "{}",
         "name": "Payment_Behaviour1",
         "type": "\"string\""
        },
        {
         "metadata": "{}",
         "name": "Changed_Credit_Limit2",
         "type": "\"float\""
        },
        {
         "metadata": "{}",
         "name": "Credit_Score",
         "type": "\"string\""
        },
        {
         "metadata": "{}",
         "name": "Outstanding_Debt",
         "type": "\"float\""
        },
        {
         "metadata": "{}",
         "name": "Annual_Income",
         "type": "\"float\""
        }
       ],
       "type": "table"
      }
     },
     "output_type": "display_data"
    }
   ],
   "source": [
    "display(A.limit(5))"
   ]
  },
  {
   "cell_type": "code",
   "execution_count": 0,
   "metadata": {
    "application/vnd.databricks.v1+cell": {
     "cellMetadata": {
      "byteLimit": 2048000,
      "rowLimit": 10000
     },
     "inputWidgets": {},
     "nuid": "8b81e1fc-7b12-45e4-9dcd-b02318c15148",
     "showTitle": false,
     "title": ""
    }
   },
   "outputs": [
    {
     "output_type": "display_data",
     "data": {
      "application/vnd.databricks.v1+bamboolib_hint": "{\"pd.DataFrames\": [], \"version\": \"0.0.1\"}",
      "text/plain": []
     },
     "metadata": {},
     "output_type": "display_data"
    }
   ],
   "source": [
    "import pandas as pd\n",
    "import numpy as np\n",
    "from pyspark.sql.functions import col,expr,substring"
   ]
  },
  {
   "cell_type": "code",
   "execution_count": 0,
   "metadata": {
    "application/vnd.databricks.v1+cell": {
     "cellMetadata": {
      "byteLimit": 2048000,
      "rowLimit": 10000
     },
     "inputWidgets": {},
     "nuid": "afa814ae-f6c0-4ed6-bf21-8e282e743076",
     "showTitle": false,
     "title": ""
    }
   },
   "outputs": [
    {
     "output_type": "stream",
     "name": "stdout",
     "output_type": "stream",
     "text": [
      "ID ----> 0\nCustomer_ID ----> 0\nMonth ----> 0\nName ----> 0\nAge3 ----> 0\nSSN ----> 0\nMonthly_Inhand_Salary ----> 0\nNum_Bank_Accounts1 ----> 0\nDelay_from_due_date1 ----> 0\nNum_Credit_Card ----> 0\nInterest_Rate ----> 0\nType_of_Loan ----> 0\nNum_Credit_Inquiries ----> 0\nCredit_Utilization_Ratio ----> 0\nCredit_History_Age ----> 0\nPayment_of_Min_Amount ----> 0\nTotal_EMI_per_month ----> 0\nOccupation1 ----> 0\nCredit_Mix1 ----> 0\nNum_of_Delayed_Payment2 ----> 0\nNum_of_Loan2 ----> 0\nAmount_invested_monthly1 ----> 0\nMonthly_Balance1 ----> 0\nPayment_Behaviour1 ----> 0\nChanged_Credit_Limit2 ----> 0\nCredit_Score ----> 0\nOutstanding_Debt ----> 0\nAnnual_Income ----> 0\n"
     ]
    }
   ],
   "source": [
    "for i in A.columns:\n",
    "    counts= A.filter(col(i).endswith(\"_\")).count()\n",
    "    print(f\"{i} ----> {counts}\")"
   ]
  },
  {
   "cell_type": "code",
   "execution_count": 0,
   "metadata": {
    "application/vnd.databricks.v1+cell": {
     "cellMetadata": {
      "byteLimit": 2048000,
      "rowLimit": 10000
     },
     "inputWidgets": {},
     "nuid": "31a0ef65-bef0-4621-941d-ddc5e3ad8276",
     "showTitle": false,
     "title": ""
    }
   },
   "outputs": [
    {
     "output_type": "stream",
     "name": "stdout",
     "output_type": "stream",
     "text": [
      "ID ----> 0\nCustomer_ID ----> 0\nMonth ----> 0\nName ----> 0\nAge3 ----> 0\nSSN ----> 0\nMonthly_Inhand_Salary ----> 0\nNum_Bank_Accounts1 ----> 0\nDelay_from_due_date1 ----> 0\nNum_Credit_Card ----> 0\nInterest_Rate ----> 0\nType_of_Loan ----> 0\nNum_Credit_Inquiries ----> 0\nCredit_Utilization_Ratio ----> 0\nCredit_History_Age ----> 0\nPayment_of_Min_Amount ----> 0\nTotal_EMI_per_month ----> 0\nOccupation1 ----> 0\nCredit_Mix1 ----> 0\nNum_of_Delayed_Payment2 ----> 0\nNum_of_Loan2 ----> 0\nAmount_invested_monthly1 ----> 0\nMonthly_Balance1 ----> 0\nPayment_Behaviour1 ----> 0\nChanged_Credit_Limit2 ----> 0\nCredit_Score ----> 0\nOutstanding_Debt ----> 0\nAnnual_Income ----> 0\n"
     ]
    }
   ],
   "source": [
    "for i in A.columns:\n",
    "    counts= A.filter(col(i).startswith(\"!\")).count()\n",
    "    print(f\"{i} ----> {counts}\")"
   ]
  },
  {
   "cell_type": "code",
   "execution_count": 0,
   "metadata": {
    "application/vnd.databricks.v1+cell": {
     "cellMetadata": {
      "byteLimit": 2048000,
      "rowLimit": 10000
     },
     "inputWidgets": {},
     "nuid": "f0927f71-6128-424e-9409-50665d240570",
     "showTitle": false,
     "title": ""
    }
   },
   "outputs": [
    {
     "output_type": "stream",
     "name": "stdout",
     "output_type": "stream",
     "text": [
      "ID ----> 0\nCustomer_ID ----> 0\nMonth ----> 0\nName ----> 0\nAge3 ----> 0\nSSN ----> 0\nMonthly_Inhand_Salary ----> 0\nNum_Bank_Accounts1 ----> 0\nDelay_from_due_date1 ----> 0\nNum_Credit_Card ----> 0\nInterest_Rate ----> 0\nType_of_Loan ----> 0\nNum_Credit_Inquiries ----> 0\nCredit_Utilization_Ratio ----> 0\nCredit_History_Age ----> 0\nPayment_of_Min_Amount ----> 0\nTotal_EMI_per_month ----> 0\nOccupation1 ----> 0\nCredit_Mix1 ----> 0\nNum_of_Delayed_Payment2 ----> 0\nNum_of_Loan2 ----> 0\nAmount_invested_monthly1 ----> 0\nMonthly_Balance1 ----> 9\nPayment_Behaviour1 ----> 0\nChanged_Credit_Limit2 ----> 0\nCredit_Score ----> 0\nOutstanding_Debt ----> 0\nAnnual_Income ----> 0\n"
     ]
    }
   ],
   "source": [
    "for i in A.columns:\n",
    "    counts= A.filter(col(i).startswith(\"-\")).count()\n",
    "    print(f\"{i} ----> {counts}\")"
   ]
  },
  {
   "cell_type": "code",
   "execution_count": 0,
   "metadata": {
    "application/vnd.databricks.v1+cell": {
     "cellMetadata": {
      "byteLimit": 2048000,
      "rowLimit": 10000
     },
     "inputWidgets": {},
     "nuid": "58e0fc42-3e45-41c4-8287-a4f14c56a395",
     "showTitle": false,
     "title": ""
    }
   },
   "outputs": [
    {
     "output_type": "stream",
     "name": "stdout",
     "output_type": "stream",
     "text": [
      "Out[8]: [('ID', 'string'),\n ('Customer_ID', 'string'),\n ('Month', 'string'),\n ('Name', 'string'),\n ('Age3', 'int'),\n ('SSN', 'string'),\n ('Monthly_Inhand_Salary', 'double'),\n ('Num_Bank_Accounts1', 'int'),\n ('Delay_from_due_date1', 'bigint'),\n ('Num_Credit_Card', 'bigint'),\n ('Interest_Rate', 'bigint'),\n ('Type_of_Loan', 'string'),\n ('Num_Credit_Inquiries', 'double'),\n ('Credit_Utilization_Ratio', 'double'),\n ('Credit_History_Age', 'string'),\n ('Payment_of_Min_Amount', 'string'),\n ('Total_EMI_per_month', 'double'),\n ('Occupation1', 'string'),\n ('Credit_Mix1', 'string'),\n ('Num_of_Delayed_Payment2', 'int'),\n ('Num_of_Loan2', 'int'),\n ('Amount_invested_monthly1', 'float'),\n ('Monthly_Balance1', 'float'),\n ('Payment_Behaviour1', 'string'),\n ('Changed_Credit_Limit2', 'float'),\n ('Credit_Score', 'string'),\n ('Outstanding_Debt', 'float'),\n ('Annual_Income', 'float')]"
     ]
    }
   ],
   "source": [
    "A.dtypes"
   ]
  },
  {
   "cell_type": "markdown",
   "metadata": {
    "application/vnd.databricks.v1+cell": {
     "cellMetadata": {
      "byteLimit": 2048000,
      "rowLimit": 10000
     },
     "inputWidgets": {},
     "nuid": "a5c46180-507c-449f-bd3d-0593e0b1f80b",
     "showTitle": false,
     "title": ""
    }
   },
   "source": [
    "##  <p style=\"padding:10px;background-color:Pink ;margin:10;color:#000000;font-family:newtimeroman;font-size:100%;border-radius: 10px 10px ;overflow:hidden;font-weight:50\">Missing Data Treatment</p>\n"
   ]
  },
  {
   "cell_type": "markdown",
   "metadata": {
    "application/vnd.databricks.v1+cell": {
     "cellMetadata": {
      "byteLimit": 2048000,
      "rowLimit": 10000
     },
     "inputWidgets": {},
     "nuid": "14985990-e61c-4da1-9954-fdeba5c6ffca",
     "showTitle": false,
     "title": ""
    }
   },
   "source": [
    "### Refrence -\n",
    "https://spark.apache.org/docs/2.4.5/api/python/pyspark.sql.html?highlight=approxquantile#pyspark.sql.DataFrame.approxQuantile"
   ]
  },
  {
   "cell_type": "code",
   "execution_count": 0,
   "metadata": {
    "application/vnd.databricks.v1+cell": {
     "cellMetadata": {
      "byteLimit": 2048000,
      "rowLimit": 10000
     },
     "inputWidgets": {},
     "nuid": "42163868-428f-4740-8537-c30b088f99e0",
     "showTitle": false,
     "title": ""
    }
   },
   "outputs": [],
   "source": [
    "from pyspark.sql.functions import when,col"
   ]
  },
  {
   "cell_type": "code",
   "execution_count": 0,
   "metadata": {
    "application/vnd.databricks.v1+cell": {
     "cellMetadata": {
      "byteLimit": 2048000,
      "rowLimit": 10000
     },
     "inputWidgets": {},
     "nuid": "5aad8e2f-2e49-4984-b085-3b3f2194a501",
     "showTitle": false,
     "title": ""
    }
   },
   "outputs": [
    {
     "output_type": "display_data",
     "data": {
      "text/html": [
       "<style scoped>\n",
       "  .table-result-container {\n",
       "    max-height: 300px;\n",
       "    overflow: auto;\n",
       "  }\n",
       "  table, th, td {\n",
       "    border: 1px solid black;\n",
       "    border-collapse: collapse;\n",
       "  }\n",
       "  th, td {\n",
       "    padding: 5px;\n",
       "  }\n",
       "  th {\n",
       "    text-align: left;\n",
       "  }\n",
       "</style><div class='table-result-container'><table class='table-result'><thead style='background-color: white'><tr><th>ID</th><th>Customer_ID</th><th>Month</th><th>Name</th><th>Age3</th><th>SSN</th><th>Monthly_Inhand_Salary</th><th>Num_Bank_Accounts1</th><th>Delay_from_due_date1</th><th>Num_Credit_Card</th><th>Interest_Rate</th><th>Type_of_Loan</th><th>Num_Credit_Inquiries</th><th>Credit_Utilization_Ratio</th><th>Credit_History_Age</th><th>Payment_of_Min_Amount</th><th>Total_EMI_per_month</th><th>Occupation1</th><th>Num_of_Delayed_Payment2</th><th>Num_of_Loan2</th><th>Amount_invested_monthly1</th><th>Monthly_Balance1</th><th>Payment_Behaviour1</th><th>Changed_Credit_Limit2</th><th>Credit_Score</th><th>Outstanding_Debt</th><th>Annual_Income</th><th>Credit_Mix</th></tr></thead><tbody><tr><td>0x1602</td><td>CUS_0xd40</td><td>January</td><td>Aaron Maashoh</td><td>23</td><td>821-00-0265</td><td>1824.8433333333328</td><td>3</td><td>3</td><td>4</td><td>3</td><td>Auto Loan, Credit-Builder Loan, Personal Loan, and Home Equity Loan</td><td>4.0</td><td>26.822619623699016</td><td>22 Years and 1 Months</td><td>No</td><td>49.57494921489417</td><td>Scientist</td><td>7</td><td>4</td><td>80.4153</td><td>312.49408</td><td>High_spent_Small_value_payments</td><td>11.27</td><td>Good</td><td>809.98</td><td>19114.12</td><td>null</td></tr><tr><td>0x1603</td><td>CUS_0xd40</td><td>February</td><td>Aaron Maashoh</td><td>23</td><td>821-00-0265</td><td>null</td><td>3</td><td>1</td><td>4</td><td>3</td><td>Auto Loan, Credit-Builder Loan, Personal Loan, and Home Equity Loan</td><td>4.0</td><td>31.94496005538421</td><td>NA</td><td>No</td><td>49.57494921489417</td><td>Scientist</td><td>null</td><td>4</td><td>118.28022</td><td>284.62915</td><td>Low_spent_Large_value_payments</td><td>11.27</td><td>Good</td><td>809.98</td><td>19114.12</td><td>Good</td></tr><tr><td>0x1604</td><td>CUS_0xd40</td><td>March</td><td>Aaron Maashoh</td><td>null</td><td>821-00-0265</td><td>null</td><td>3</td><td>3</td><td>4</td><td>3</td><td>Auto Loan, Credit-Builder Loan, Personal Loan, and Home Equity Loan</td><td>4.0</td><td>28.60935202206993</td><td>22 Years and 3 Months</td><td>No</td><td>49.57494921489417</td><td>Scientist</td><td>7</td><td>4</td><td>81.699524</td><td>331.20987</td><td>Low_spent_Medium_value_payments</td><td>null</td><td>Good</td><td>809.98</td><td>19114.12</td><td>Good</td></tr><tr><td>0x1605</td><td>CUS_0xd40</td><td>April</td><td>Aaron Maashoh</td><td>23</td><td>821-00-0265</td><td>null</td><td>3</td><td>5</td><td>4</td><td>3</td><td>Auto Loan, Credit-Builder Loan, Personal Loan, and Home Equity Loan</td><td>4.0</td><td>31.377861869582354</td><td>22 Years and 4 Months</td><td>No</td><td>49.57494921489417</td><td>Scientist</td><td>4</td><td>4</td><td>199.45807</td><td>223.45131</td><td>Low_spent_Small_value_payments</td><td>6.27</td><td>Good</td><td>809.98</td><td>19114.12</td><td>Good</td></tr><tr><td>0x1606</td><td>CUS_0xd40</td><td>May</td><td>Aaron Maashoh</td><td>23</td><td>821-00-0265</td><td>1824.8433333333328</td><td>3</td><td>6</td><td>4</td><td>3</td><td>Auto Loan, Credit-Builder Loan, Personal Loan, and Home Equity Loan</td><td>4.0</td><td>24.797346908844986</td><td>22 Years and 5 Months</td><td>No</td><td>49.57494921489417</td><td>Scientist</td><td>null</td><td>4</td><td>41.420155</td><td>341.48923</td><td>High_spent_Medium_value_payments</td><td>11.27</td><td>Good</td><td>809.98</td><td>19114.12</td><td>Good</td></tr></tbody></table></div>"
      ]
     },
     "metadata": {
      "application/vnd.databricks.v1+output": {
       "addedWidgets": {},
       "aggData": [],
       "aggError": "",
       "aggOverflow": false,
       "aggSchema": [],
       "aggSeriesLimitReached": false,
       "aggType": "",
       "arguments": {},
       "columnCustomDisplayInfos": {},
       "data": [
        [
         "0x1602",
         "CUS_0xd40",
         "January",
         "Aaron Maashoh",
         23,
         "821-00-0265",
         1824.8433333333328,
         3,
         3,
         4,
         3,
         "Auto Loan, Credit-Builder Loan, Personal Loan, and Home Equity Loan",
         4.0,
         26.822619623699016,
         "22 Years and 1 Months",
         "No",
         49.57494921489417,
         "Scientist",
         7,
         4,
         80.4153,
         312.49408,
         "High_spent_Small_value_payments",
         11.27,
         "Good",
         809.98,
         19114.12,
         null
        ],
        [
         "0x1603",
         "CUS_0xd40",
         "February",
         "Aaron Maashoh",
         23,
         "821-00-0265",
         null,
         3,
         1,
         4,
         3,
         "Auto Loan, Credit-Builder Loan, Personal Loan, and Home Equity Loan",
         4.0,
         31.94496005538421,
         "NA",
         "No",
         49.57494921489417,
         "Scientist",
         null,
         4,
         118.28022,
         284.62915,
         "Low_spent_Large_value_payments",
         11.27,
         "Good",
         809.98,
         19114.12,
         "Good"
        ],
        [
         "0x1604",
         "CUS_0xd40",
         "March",
         "Aaron Maashoh",
         null,
         "821-00-0265",
         null,
         3,
         3,
         4,
         3,
         "Auto Loan, Credit-Builder Loan, Personal Loan, and Home Equity Loan",
         4.0,
         28.60935202206993,
         "22 Years and 3 Months",
         "No",
         49.57494921489417,
         "Scientist",
         7,
         4,
         81.699524,
         331.20987,
         "Low_spent_Medium_value_payments",
         null,
         "Good",
         809.98,
         19114.12,
         "Good"
        ],
        [
         "0x1605",
         "CUS_0xd40",
         "April",
         "Aaron Maashoh",
         23,
         "821-00-0265",
         null,
         3,
         5,
         4,
         3,
         "Auto Loan, Credit-Builder Loan, Personal Loan, and Home Equity Loan",
         4.0,
         31.377861869582354,
         "22 Years and 4 Months",
         "No",
         49.57494921489417,
         "Scientist",
         4,
         4,
         199.45807,
         223.45131,
         "Low_spent_Small_value_payments",
         6.27,
         "Good",
         809.98,
         19114.12,
         "Good"
        ],
        [
         "0x1606",
         "CUS_0xd40",
         "May",
         "Aaron Maashoh",
         23,
         "821-00-0265",
         1824.8433333333328,
         3,
         6,
         4,
         3,
         "Auto Loan, Credit-Builder Loan, Personal Loan, and Home Equity Loan",
         4.0,
         24.797346908844986,
         "22 Years and 5 Months",
         "No",
         49.57494921489417,
         "Scientist",
         null,
         4,
         41.420155,
         341.48923,
         "High_spent_Medium_value_payments",
         11.27,
         "Good",
         809.98,
         19114.12,
         "Good"
        ]
       ],
       "datasetInfos": [],
       "dbfsResultPath": null,
       "isJsonSchema": true,
       "metadata": {},
       "overflow": false,
       "plotOptions": {
        "customPlotOptions": {},
        "displayType": "table",
        "pivotAggregation": null,
        "pivotColumns": null,
        "xColumns": null,
        "yColumns": null
       },
       "removedWidgets": [],
       "schema": [
        {
         "metadata": "{}",
         "name": "ID",
         "type": "\"string\""
        },
        {
         "metadata": "{}",
         "name": "Customer_ID",
         "type": "\"string\""
        },
        {
         "metadata": "{}",
         "name": "Month",
         "type": "\"string\""
        },
        {
         "metadata": "{}",
         "name": "Name",
         "type": "\"string\""
        },
        {
         "metadata": "{}",
         "name": "Age3",
         "type": "\"integer\""
        },
        {
         "metadata": "{}",
         "name": "SSN",
         "type": "\"string\""
        },
        {
         "metadata": "{}",
         "name": "Monthly_Inhand_Salary",
         "type": "\"double\""
        },
        {
         "metadata": "{}",
         "name": "Num_Bank_Accounts1",
         "type": "\"integer\""
        },
        {
         "metadata": "{}",
         "name": "Delay_from_due_date1",
         "type": "\"long\""
        },
        {
         "metadata": "{}",
         "name": "Num_Credit_Card",
         "type": "\"long\""
        },
        {
         "metadata": "{}",
         "name": "Interest_Rate",
         "type": "\"long\""
        },
        {
         "metadata": "{}",
         "name": "Type_of_Loan",
         "type": "\"string\""
        },
        {
         "metadata": "{}",
         "name": "Num_Credit_Inquiries",
         "type": "\"double\""
        },
        {
         "metadata": "{}",
         "name": "Credit_Utilization_Ratio",
         "type": "\"double\""
        },
        {
         "metadata": "{}",
         "name": "Credit_History_Age",
         "type": "\"string\""
        },
        {
         "metadata": "{}",
         "name": "Payment_of_Min_Amount",
         "type": "\"string\""
        },
        {
         "metadata": "{}",
         "name": "Total_EMI_per_month",
         "type": "\"double\""
        },
        {
         "metadata": "{}",
         "name": "Occupation1",
         "type": "\"string\""
        },
        {
         "metadata": "{}",
         "name": "Num_of_Delayed_Payment2",
         "type": "\"integer\""
        },
        {
         "metadata": "{}",
         "name": "Num_of_Loan2",
         "type": "\"integer\""
        },
        {
         "metadata": "{}",
         "name": "Amount_invested_monthly1",
         "type": "\"float\""
        },
        {
         "metadata": "{}",
         "name": "Monthly_Balance1",
         "type": "\"float\""
        },
        {
         "metadata": "{}",
         "name": "Payment_Behaviour1",
         "type": "\"string\""
        },
        {
         "metadata": "{}",
         "name": "Changed_Credit_Limit2",
         "type": "\"float\""
        },
        {
         "metadata": "{}",
         "name": "Credit_Score",
         "type": "\"string\""
        },
        {
         "metadata": "{}",
         "name": "Outstanding_Debt",
         "type": "\"float\""
        },
        {
         "metadata": "{}",
         "name": "Annual_Income",
         "type": "\"float\""
        },
        {
         "metadata": "{}",
         "name": "Credit_Mix",
         "type": "\"string\""
        }
       ],
       "type": "table"
      }
     },
     "output_type": "display_data"
    }
   ],
   "source": [
    "A=A.withColumn(\"Credit_Mix\",when(col(\"Credit_Mix1\")=='',None).otherwise(col(\"Credit_Mix1\")))\n",
    "A=A.drop(\"Credit_Mix1\")\n",
    "display(A.limit(5))"
   ]
  },
  {
   "cell_type": "code",
   "execution_count": 0,
   "metadata": {
    "application/vnd.databricks.v1+cell": {
     "cellMetadata": {
      "byteLimit": 2048000,
      "rowLimit": 10000
     },
     "inputWidgets": {},
     "nuid": "04b305f3-931d-4735-89ab-068a07988dc0",
     "showTitle": false,
     "title": ""
    }
   },
   "outputs": [
    {
     "output_type": "display_data",
     "data": {
      "text/html": [
       "<style scoped>\n",
       "  .table-result-container {\n",
       "    max-height: 300px;\n",
       "    overflow: auto;\n",
       "  }\n",
       "  table, th, td {\n",
       "    border: 1px solid black;\n",
       "    border-collapse: collapse;\n",
       "  }\n",
       "  th, td {\n",
       "    padding: 5px;\n",
       "  }\n",
       "  th {\n",
       "    text-align: left;\n",
       "  }\n",
       "</style><div class='table-result-container'><table class='table-result'><thead style='background-color: white'><tr><th>ID</th><th>Customer_ID</th><th>Month</th><th>Name</th><th>Age3</th><th>SSN</th><th>Monthly_Inhand_Salary</th><th>Num_Bank_Accounts1</th><th>Delay_from_due_date1</th><th>Num_Credit_Card</th><th>Interest_Rate</th><th>Type_of_Loan</th><th>Num_Credit_Inquiries</th><th>Credit_Utilization_Ratio</th><th>Credit_History_Age</th><th>Payment_of_Min_Amount</th><th>Total_EMI_per_month</th><th>Num_of_Delayed_Payment2</th><th>Num_of_Loan2</th><th>Amount_invested_monthly1</th><th>Monthly_Balance1</th><th>Payment_Behaviour1</th><th>Changed_Credit_Limit2</th><th>Credit_Score</th><th>Outstanding_Debt</th><th>Annual_Income</th><th>Credit_Mix</th><th>Occupation</th></tr></thead><tbody><tr><td>0x1602</td><td>CUS_0xd40</td><td>January</td><td>Aaron Maashoh</td><td>23</td><td>821-00-0265</td><td>1824.8433333333328</td><td>3</td><td>3</td><td>4</td><td>3</td><td>Auto Loan, Credit-Builder Loan, Personal Loan, and Home Equity Loan</td><td>4.0</td><td>26.822619623699016</td><td>22 Years and 1 Months</td><td>No</td><td>49.57494921489417</td><td>7</td><td>4</td><td>80.4153</td><td>312.49408</td><td>High_spent_Small_value_payments</td><td>11.27</td><td>Good</td><td>809.98</td><td>19114.12</td><td>null</td><td>Scientist</td></tr><tr><td>0x1603</td><td>CUS_0xd40</td><td>February</td><td>Aaron Maashoh</td><td>23</td><td>821-00-0265</td><td>null</td><td>3</td><td>1</td><td>4</td><td>3</td><td>Auto Loan, Credit-Builder Loan, Personal Loan, and Home Equity Loan</td><td>4.0</td><td>31.94496005538421</td><td>NA</td><td>No</td><td>49.57494921489417</td><td>null</td><td>4</td><td>118.28022</td><td>284.62915</td><td>Low_spent_Large_value_payments</td><td>11.27</td><td>Good</td><td>809.98</td><td>19114.12</td><td>Good</td><td>Scientist</td></tr><tr><td>0x1604</td><td>CUS_0xd40</td><td>March</td><td>Aaron Maashoh</td><td>null</td><td>821-00-0265</td><td>null</td><td>3</td><td>3</td><td>4</td><td>3</td><td>Auto Loan, Credit-Builder Loan, Personal Loan, and Home Equity Loan</td><td>4.0</td><td>28.60935202206993</td><td>22 Years and 3 Months</td><td>No</td><td>49.57494921489417</td><td>7</td><td>4</td><td>81.699524</td><td>331.20987</td><td>Low_spent_Medium_value_payments</td><td>null</td><td>Good</td><td>809.98</td><td>19114.12</td><td>Good</td><td>Scientist</td></tr><tr><td>0x1605</td><td>CUS_0xd40</td><td>April</td><td>Aaron Maashoh</td><td>23</td><td>821-00-0265</td><td>null</td><td>3</td><td>5</td><td>4</td><td>3</td><td>Auto Loan, Credit-Builder Loan, Personal Loan, and Home Equity Loan</td><td>4.0</td><td>31.377861869582354</td><td>22 Years and 4 Months</td><td>No</td><td>49.57494921489417</td><td>4</td><td>4</td><td>199.45807</td><td>223.45131</td><td>Low_spent_Small_value_payments</td><td>6.27</td><td>Good</td><td>809.98</td><td>19114.12</td><td>Good</td><td>Scientist</td></tr><tr><td>0x1606</td><td>CUS_0xd40</td><td>May</td><td>Aaron Maashoh</td><td>23</td><td>821-00-0265</td><td>1824.8433333333328</td><td>3</td><td>6</td><td>4</td><td>3</td><td>Auto Loan, Credit-Builder Loan, Personal Loan, and Home Equity Loan</td><td>4.0</td><td>24.797346908844986</td><td>22 Years and 5 Months</td><td>No</td><td>49.57494921489417</td><td>null</td><td>4</td><td>41.420155</td><td>341.48923</td><td>High_spent_Medium_value_payments</td><td>11.27</td><td>Good</td><td>809.98</td><td>19114.12</td><td>Good</td><td>Scientist</td></tr></tbody></table></div>"
      ]
     },
     "metadata": {
      "application/vnd.databricks.v1+output": {
       "addedWidgets": {},
       "aggData": [],
       "aggError": "",
       "aggOverflow": false,
       "aggSchema": [],
       "aggSeriesLimitReached": false,
       "aggType": "",
       "arguments": {},
       "columnCustomDisplayInfos": {},
       "data": [
        [
         "0x1602",
         "CUS_0xd40",
         "January",
         "Aaron Maashoh",
         23,
         "821-00-0265",
         1824.8433333333328,
         3,
         3,
         4,
         3,
         "Auto Loan, Credit-Builder Loan, Personal Loan, and Home Equity Loan",
         4.0,
         26.822619623699016,
         "22 Years and 1 Months",
         "No",
         49.57494921489417,
         7,
         4,
         80.4153,
         312.49408,
         "High_spent_Small_value_payments",
         11.27,
         "Good",
         809.98,
         19114.12,
         null,
         "Scientist"
        ],
        [
         "0x1603",
         "CUS_0xd40",
         "February",
         "Aaron Maashoh",
         23,
         "821-00-0265",
         null,
         3,
         1,
         4,
         3,
         "Auto Loan, Credit-Builder Loan, Personal Loan, and Home Equity Loan",
         4.0,
         31.94496005538421,
         "NA",
         "No",
         49.57494921489417,
         null,
         4,
         118.28022,
         284.62915,
         "Low_spent_Large_value_payments",
         11.27,
         "Good",
         809.98,
         19114.12,
         "Good",
         "Scientist"
        ],
        [
         "0x1604",
         "CUS_0xd40",
         "March",
         "Aaron Maashoh",
         null,
         "821-00-0265",
         null,
         3,
         3,
         4,
         3,
         "Auto Loan, Credit-Builder Loan, Personal Loan, and Home Equity Loan",
         4.0,
         28.60935202206993,
         "22 Years and 3 Months",
         "No",
         49.57494921489417,
         7,
         4,
         81.699524,
         331.20987,
         "Low_spent_Medium_value_payments",
         null,
         "Good",
         809.98,
         19114.12,
         "Good",
         "Scientist"
        ],
        [
         "0x1605",
         "CUS_0xd40",
         "April",
         "Aaron Maashoh",
         23,
         "821-00-0265",
         null,
         3,
         5,
         4,
         3,
         "Auto Loan, Credit-Builder Loan, Personal Loan, and Home Equity Loan",
         4.0,
         31.377861869582354,
         "22 Years and 4 Months",
         "No",
         49.57494921489417,
         4,
         4,
         199.45807,
         223.45131,
         "Low_spent_Small_value_payments",
         6.27,
         "Good",
         809.98,
         19114.12,
         "Good",
         "Scientist"
        ],
        [
         "0x1606",
         "CUS_0xd40",
         "May",
         "Aaron Maashoh",
         23,
         "821-00-0265",
         1824.8433333333328,
         3,
         6,
         4,
         3,
         "Auto Loan, Credit-Builder Loan, Personal Loan, and Home Equity Loan",
         4.0,
         24.797346908844986,
         "22 Years and 5 Months",
         "No",
         49.57494921489417,
         null,
         4,
         41.420155,
         341.48923,
         "High_spent_Medium_value_payments",
         11.27,
         "Good",
         809.98,
         19114.12,
         "Good",
         "Scientist"
        ]
       ],
       "datasetInfos": [],
       "dbfsResultPath": null,
       "isJsonSchema": true,
       "metadata": {},
       "overflow": false,
       "plotOptions": {
        "customPlotOptions": {},
        "displayType": "table",
        "pivotAggregation": null,
        "pivotColumns": null,
        "xColumns": null,
        "yColumns": null
       },
       "removedWidgets": [],
       "schema": [
        {
         "metadata": "{}",
         "name": "ID",
         "type": "\"string\""
        },
        {
         "metadata": "{}",
         "name": "Customer_ID",
         "type": "\"string\""
        },
        {
         "metadata": "{}",
         "name": "Month",
         "type": "\"string\""
        },
        {
         "metadata": "{}",
         "name": "Name",
         "type": "\"string\""
        },
        {
         "metadata": "{}",
         "name": "Age3",
         "type": "\"integer\""
        },
        {
         "metadata": "{}",
         "name": "SSN",
         "type": "\"string\""
        },
        {
         "metadata": "{}",
         "name": "Monthly_Inhand_Salary",
         "type": "\"double\""
        },
        {
         "metadata": "{}",
         "name": "Num_Bank_Accounts1",
         "type": "\"integer\""
        },
        {
         "metadata": "{}",
         "name": "Delay_from_due_date1",
         "type": "\"long\""
        },
        {
         "metadata": "{}",
         "name": "Num_Credit_Card",
         "type": "\"long\""
        },
        {
         "metadata": "{}",
         "name": "Interest_Rate",
         "type": "\"long\""
        },
        {
         "metadata": "{}",
         "name": "Type_of_Loan",
         "type": "\"string\""
        },
        {
         "metadata": "{}",
         "name": "Num_Credit_Inquiries",
         "type": "\"double\""
        },
        {
         "metadata": "{}",
         "name": "Credit_Utilization_Ratio",
         "type": "\"double\""
        },
        {
         "metadata": "{}",
         "name": "Credit_History_Age",
         "type": "\"string\""
        },
        {
         "metadata": "{}",
         "name": "Payment_of_Min_Amount",
         "type": "\"string\""
        },
        {
         "metadata": "{}",
         "name": "Total_EMI_per_month",
         "type": "\"double\""
        },
        {
         "metadata": "{}",
         "name": "Num_of_Delayed_Payment2",
         "type": "\"integer\""
        },
        {
         "metadata": "{}",
         "name": "Num_of_Loan2",
         "type": "\"integer\""
        },
        {
         "metadata": "{}",
         "name": "Amount_invested_monthly1",
         "type": "\"float\""
        },
        {
         "metadata": "{}",
         "name": "Monthly_Balance1",
         "type": "\"float\""
        },
        {
         "metadata": "{}",
         "name": "Payment_Behaviour1",
         "type": "\"string\""
        },
        {
         "metadata": "{}",
         "name": "Changed_Credit_Limit2",
         "type": "\"float\""
        },
        {
         "metadata": "{}",
         "name": "Credit_Score",
         "type": "\"string\""
        },
        {
         "metadata": "{}",
         "name": "Outstanding_Debt",
         "type": "\"float\""
        },
        {
         "metadata": "{}",
         "name": "Annual_Income",
         "type": "\"float\""
        },
        {
         "metadata": "{}",
         "name": "Credit_Mix",
         "type": "\"string\""
        },
        {
         "metadata": "{}",
         "name": "Occupation",
         "type": "\"string\""
        }
       ],
       "type": "table"
      }
     },
     "output_type": "display_data"
    }
   ],
   "source": [
    "A=A.withColumn(\"Occupation\",when(col(\"Occupation1\")=='',None).otherwise(col(\"Occupation1\")))\n",
    "A=A.drop(\"Occupation1\")\n",
    "display(A.limit(5))"
   ]
  },
  {
   "cell_type": "code",
   "execution_count": 0,
   "metadata": {
    "application/vnd.databricks.v1+cell": {
     "cellMetadata": {
      "byteLimit": 2048000,
      "rowLimit": 10000
     },
     "inputWidgets": {},
     "nuid": "22d78b71-7266-4162-aea9-00777681805b",
     "showTitle": false,
     "title": ""
    }
   },
   "outputs": [
    {
     "output_type": "display_data",
     "data": {
      "text/html": [
       "<style scoped>\n",
       "  .table-result-container {\n",
       "    max-height: 300px;\n",
       "    overflow: auto;\n",
       "  }\n",
       "  table, th, td {\n",
       "    border: 1px solid black;\n",
       "    border-collapse: collapse;\n",
       "  }\n",
       "  th, td {\n",
       "    padding: 5px;\n",
       "  }\n",
       "  th {\n",
       "    text-align: left;\n",
       "  }\n",
       "</style><div class='table-result-container'><table class='table-result'><thead style='background-color: white'><tr><th>ID</th><th>Customer_ID</th><th>Month</th><th>Name</th><th>Age3</th><th>SSN</th><th>Monthly_Inhand_Salary</th><th>Num_Bank_Accounts1</th><th>Delay_from_due_date1</th><th>Num_Credit_Card</th><th>Interest_Rate</th><th>Type_of_Loan</th><th>Num_Credit_Inquiries</th><th>Credit_Utilization_Ratio</th><th>Credit_History_Age</th><th>Payment_of_Min_Amount</th><th>Total_EMI_per_month</th><th>Num_of_Delayed_Payment2</th><th>Num_of_Loan2</th><th>Amount_invested_monthly1</th><th>Monthly_Balance1</th><th>Payment_Behaviour1</th><th>Changed_Credit_Limit2</th><th>Credit_Score</th><th>Outstanding_Debt</th><th>Annual_Income</th><th>Credit_Mix</th><th>Occupation</th></tr></thead><tbody><tr><td>0x1602</td><td>CUS_0xd40</td><td>January</td><td>Aaron Maashoh</td><td>23</td><td>821-00-0265</td><td>1824.8433333333328</td><td>3</td><td>3</td><td>4</td><td>3</td><td>Auto Loan, Credit-Builder Loan, Personal Loan, and Home Equity Loan</td><td>4.0</td><td>26.822619623699016</td><td>22 Years and 1 Months</td><td>No</td><td>49.57494921489417</td><td>7</td><td>4</td><td>80.4153</td><td>312.49408</td><td>High_spent_Small_value_payments</td><td>11.27</td><td>Good</td><td>809.98</td><td>19114.12</td><td>null</td><td>Scientist</td></tr><tr><td>0x1603</td><td>CUS_0xd40</td><td>February</td><td>Aaron Maashoh</td><td>23</td><td>821-00-0265</td><td>null</td><td>3</td><td>1</td><td>4</td><td>3</td><td>Auto Loan, Credit-Builder Loan, Personal Loan, and Home Equity Loan</td><td>4.0</td><td>31.94496005538421</td><td>null</td><td>No</td><td>49.57494921489417</td><td>null</td><td>4</td><td>118.28022</td><td>284.62915</td><td>Low_spent_Large_value_payments</td><td>11.27</td><td>Good</td><td>809.98</td><td>19114.12</td><td>Good</td><td>Scientist</td></tr><tr><td>0x1604</td><td>CUS_0xd40</td><td>March</td><td>Aaron Maashoh</td><td>null</td><td>821-00-0265</td><td>null</td><td>3</td><td>3</td><td>4</td><td>3</td><td>Auto Loan, Credit-Builder Loan, Personal Loan, and Home Equity Loan</td><td>4.0</td><td>28.60935202206993</td><td>22 Years and 3 Months</td><td>No</td><td>49.57494921489417</td><td>7</td><td>4</td><td>81.699524</td><td>331.20987</td><td>Low_spent_Medium_value_payments</td><td>null</td><td>Good</td><td>809.98</td><td>19114.12</td><td>Good</td><td>Scientist</td></tr><tr><td>0x1605</td><td>CUS_0xd40</td><td>April</td><td>Aaron Maashoh</td><td>23</td><td>821-00-0265</td><td>null</td><td>3</td><td>5</td><td>4</td><td>3</td><td>Auto Loan, Credit-Builder Loan, Personal Loan, and Home Equity Loan</td><td>4.0</td><td>31.377861869582354</td><td>22 Years and 4 Months</td><td>No</td><td>49.57494921489417</td><td>4</td><td>4</td><td>199.45807</td><td>223.45131</td><td>Low_spent_Small_value_payments</td><td>6.27</td><td>Good</td><td>809.98</td><td>19114.12</td><td>Good</td><td>Scientist</td></tr><tr><td>0x1606</td><td>CUS_0xd40</td><td>May</td><td>Aaron Maashoh</td><td>23</td><td>821-00-0265</td><td>1824.8433333333328</td><td>3</td><td>6</td><td>4</td><td>3</td><td>Auto Loan, Credit-Builder Loan, Personal Loan, and Home Equity Loan</td><td>4.0</td><td>24.797346908844986</td><td>22 Years and 5 Months</td><td>No</td><td>49.57494921489417</td><td>null</td><td>4</td><td>41.420155</td><td>341.48923</td><td>High_spent_Medium_value_payments</td><td>11.27</td><td>Good</td><td>809.98</td><td>19114.12</td><td>Good</td><td>Scientist</td></tr></tbody></table></div>"
      ]
     },
     "metadata": {
      "application/vnd.databricks.v1+output": {
       "addedWidgets": {},
       "aggData": [],
       "aggError": "",
       "aggOverflow": false,
       "aggSchema": [],
       "aggSeriesLimitReached": false,
       "aggType": "",
       "arguments": {},
       "columnCustomDisplayInfos": {},
       "data": [
        [
         "0x1602",
         "CUS_0xd40",
         "January",
         "Aaron Maashoh",
         23,
         "821-00-0265",
         1824.8433333333328,
         3,
         3,
         4,
         3,
         "Auto Loan, Credit-Builder Loan, Personal Loan, and Home Equity Loan",
         4.0,
         26.822619623699016,
         "22 Years and 1 Months",
         "No",
         49.57494921489417,
         7,
         4,
         80.4153,
         312.49408,
         "High_spent_Small_value_payments",
         11.27,
         "Good",
         809.98,
         19114.12,
         null,
         "Scientist"
        ],
        [
         "0x1603",
         "CUS_0xd40",
         "February",
         "Aaron Maashoh",
         23,
         "821-00-0265",
         null,
         3,
         1,
         4,
         3,
         "Auto Loan, Credit-Builder Loan, Personal Loan, and Home Equity Loan",
         4.0,
         31.94496005538421,
         null,
         "No",
         49.57494921489417,
         null,
         4,
         118.28022,
         284.62915,
         "Low_spent_Large_value_payments",
         11.27,
         "Good",
         809.98,
         19114.12,
         "Good",
         "Scientist"
        ],
        [
         "0x1604",
         "CUS_0xd40",
         "March",
         "Aaron Maashoh",
         null,
         "821-00-0265",
         null,
         3,
         3,
         4,
         3,
         "Auto Loan, Credit-Builder Loan, Personal Loan, and Home Equity Loan",
         4.0,
         28.60935202206993,
         "22 Years and 3 Months",
         "No",
         49.57494921489417,
         7,
         4,
         81.699524,
         331.20987,
         "Low_spent_Medium_value_payments",
         null,
         "Good",
         809.98,
         19114.12,
         "Good",
         "Scientist"
        ],
        [
         "0x1605",
         "CUS_0xd40",
         "April",
         "Aaron Maashoh",
         23,
         "821-00-0265",
         null,
         3,
         5,
         4,
         3,
         "Auto Loan, Credit-Builder Loan, Personal Loan, and Home Equity Loan",
         4.0,
         31.377861869582354,
         "22 Years and 4 Months",
         "No",
         49.57494921489417,
         4,
         4,
         199.45807,
         223.45131,
         "Low_spent_Small_value_payments",
         6.27,
         "Good",
         809.98,
         19114.12,
         "Good",
         "Scientist"
        ],
        [
         "0x1606",
         "CUS_0xd40",
         "May",
         "Aaron Maashoh",
         23,
         "821-00-0265",
         1824.8433333333328,
         3,
         6,
         4,
         3,
         "Auto Loan, Credit-Builder Loan, Personal Loan, and Home Equity Loan",
         4.0,
         24.797346908844986,
         "22 Years and 5 Months",
         "No",
         49.57494921489417,
         null,
         4,
         41.420155,
         341.48923,
         "High_spent_Medium_value_payments",
         11.27,
         "Good",
         809.98,
         19114.12,
         "Good",
         "Scientist"
        ]
       ],
       "datasetInfos": [],
       "dbfsResultPath": null,
       "isJsonSchema": true,
       "metadata": {},
       "overflow": false,
       "plotOptions": {
        "customPlotOptions": {},
        "displayType": "table",
        "pivotAggregation": null,
        "pivotColumns": null,
        "xColumns": null,
        "yColumns": null
       },
       "removedWidgets": [],
       "schema": [
        {
         "metadata": "{}",
         "name": "ID",
         "type": "\"string\""
        },
        {
         "metadata": "{}",
         "name": "Customer_ID",
         "type": "\"string\""
        },
        {
         "metadata": "{}",
         "name": "Month",
         "type": "\"string\""
        },
        {
         "metadata": "{}",
         "name": "Name",
         "type": "\"string\""
        },
        {
         "metadata": "{}",
         "name": "Age3",
         "type": "\"integer\""
        },
        {
         "metadata": "{}",
         "name": "SSN",
         "type": "\"string\""
        },
        {
         "metadata": "{}",
         "name": "Monthly_Inhand_Salary",
         "type": "\"double\""
        },
        {
         "metadata": "{}",
         "name": "Num_Bank_Accounts1",
         "type": "\"integer\""
        },
        {
         "metadata": "{}",
         "name": "Delay_from_due_date1",
         "type": "\"long\""
        },
        {
         "metadata": "{}",
         "name": "Num_Credit_Card",
         "type": "\"long\""
        },
        {
         "metadata": "{}",
         "name": "Interest_Rate",
         "type": "\"long\""
        },
        {
         "metadata": "{}",
         "name": "Type_of_Loan",
         "type": "\"string\""
        },
        {
         "metadata": "{}",
         "name": "Num_Credit_Inquiries",
         "type": "\"double\""
        },
        {
         "metadata": "{}",
         "name": "Credit_Utilization_Ratio",
         "type": "\"double\""
        },
        {
         "metadata": "{}",
         "name": "Credit_History_Age",
         "type": "\"string\""
        },
        {
         "metadata": "{}",
         "name": "Payment_of_Min_Amount",
         "type": "\"string\""
        },
        {
         "metadata": "{}",
         "name": "Total_EMI_per_month",
         "type": "\"double\""
        },
        {
         "metadata": "{}",
         "name": "Num_of_Delayed_Payment2",
         "type": "\"integer\""
        },
        {
         "metadata": "{}",
         "name": "Num_of_Loan2",
         "type": "\"integer\""
        },
        {
         "metadata": "{}",
         "name": "Amount_invested_monthly1",
         "type": "\"float\""
        },
        {
         "metadata": "{}",
         "name": "Monthly_Balance1",
         "type": "\"float\""
        },
        {
         "metadata": "{}",
         "name": "Payment_Behaviour1",
         "type": "\"string\""
        },
        {
         "metadata": "{}",
         "name": "Changed_Credit_Limit2",
         "type": "\"float\""
        },
        {
         "metadata": "{}",
         "name": "Credit_Score",
         "type": "\"string\""
        },
        {
         "metadata": "{}",
         "name": "Outstanding_Debt",
         "type": "\"float\""
        },
        {
         "metadata": "{}",
         "name": "Annual_Income",
         "type": "\"float\""
        },
        {
         "metadata": "{}",
         "name": "Credit_Mix",
         "type": "\"string\""
        },
        {
         "metadata": "{}",
         "name": "Occupation",
         "type": "\"string\""
        }
       ],
       "type": "table"
      }
     },
     "output_type": "display_data"
    }
   ],
   "source": [
    "A=A.withColumn(\"Credit_History_Age\",when(col(\"Credit_History_Age\")=='NA',None).otherwise(col(\"Credit_History_Age\")))\n",
    "display(A.limit(5))"
   ]
  },
  {
   "cell_type": "code",
   "execution_count": 0,
   "metadata": {
    "application/vnd.databricks.v1+cell": {
     "cellMetadata": {
      "byteLimit": 2048000,
      "rowLimit": 10000
     },
     "inputWidgets": {},
     "nuid": "f0b9d9f5-6496-4864-9f38-aad628ee22ce",
     "showTitle": false,
     "title": ""
    }
   },
   "outputs": [],
   "source": [
    "def MDT(df): #Missing Data Treatment\n",
    "    from pyspark.sql.functions import col,when,desc\n",
    "    con= []\n",
    "    cat = []\n",
    "\n",
    "    for columns, dtype in df.dtypes:\n",
    "        if dtype in ['int', 'bigint', 'double', 'float', 'long']:\n",
    "            con.append(columns)\n",
    "        elif dtype in ['string', 'timestamp', 'date', 'boolean']:\n",
    "            cat.append(columns)\n",
    "    \n",
    "    # Replace nulls in continuous columns with their median\n",
    "    for c in con:\n",
    "        median= df.approxQuantile(c, [0.5], 0.01)[0]\n",
    "        df = df.withColumn(c,when(col(c).isNull(), median).otherwise(col(c)))\n",
    "\n",
    "    # Replace nulls in categorical columns with their mode and if mode is Null then replace it with second highest\n",
    "    for c in cat:\n",
    "        mode = df.groupBy(c).count().orderBy(desc('count')).first()[0]\n",
    "        if(mode==None):\n",
    "            mode=df.groupBy(c).count().orderBy(desc('count')).collect()[2][0]\n",
    "        df = df.withColumn(c, when(col(c).isNull(), mode).otherwise(col(c)))\n",
    "    \n",
    "    return df\n"
   ]
  },
  {
   "cell_type": "code",
   "execution_count": 0,
   "metadata": {
    "application/vnd.databricks.v1+cell": {
     "cellMetadata": {
      "byteLimit": 2048000,
      "rowLimit": 10000
     },
     "inputWidgets": {},
     "nuid": "23939f8b-2d9d-49a7-a350-1d7dca176437",
     "showTitle": false,
     "title": ""
    }
   },
   "outputs": [
    {
     "output_type": "display_data",
     "data": {
      "text/html": [
       "<style scoped>\n",
       "  .table-result-container {\n",
       "    max-height: 300px;\n",
       "    overflow: auto;\n",
       "  }\n",
       "  table, th, td {\n",
       "    border: 1px solid black;\n",
       "    border-collapse: collapse;\n",
       "  }\n",
       "  th, td {\n",
       "    padding: 5px;\n",
       "  }\n",
       "  th {\n",
       "    text-align: left;\n",
       "  }\n",
       "</style><div class='table-result-container'><table class='table-result'><thead style='background-color: white'><tr><th>ID</th><th>Customer_ID</th><th>Month</th><th>Name</th><th>Age3</th><th>SSN</th><th>Monthly_Inhand_Salary</th><th>Num_Bank_Accounts1</th><th>Delay_from_due_date1</th><th>Num_Credit_Card</th><th>Interest_Rate</th><th>Type_of_Loan</th><th>Num_Credit_Inquiries</th><th>Credit_Utilization_Ratio</th><th>Credit_History_Age</th><th>Payment_of_Min_Amount</th><th>Total_EMI_per_month</th><th>Num_of_Delayed_Payment2</th><th>Num_of_Loan2</th><th>Amount_invested_monthly1</th><th>Monthly_Balance1</th><th>Payment_Behaviour1</th><th>Changed_Credit_Limit2</th><th>Credit_Score</th><th>Outstanding_Debt</th><th>Annual_Income</th><th>Credit_Mix</th><th>Occupation</th></tr></thead><tbody><tr><td>0x1602</td><td>CUS_0xd40</td><td>January</td><td>Aaron Maashoh</td><td>23.0</td><td>821-00-0265</td><td>1824.8433333333328</td><td>3.0</td><td>3.0</td><td>4.0</td><td>3.0</td><td>Auto Loan, Credit-Builder Loan, Personal Loan, and Home Equity Loan</td><td>4.0</td><td>26.822619623699016</td><td>22 Years and 1 Months</td><td>No</td><td>49.57494921489417</td><td>7.0</td><td>4.0</td><td>80.41529846191406</td><td>312.49407958984375</td><td>High_spent_Small_value_payments</td><td>11.270000457763672</td><td>Good</td><td>809.97998046875</td><td>19114.119140625</td><td>Standard</td><td>Scientist</td></tr><tr><td>0x1603</td><td>CUS_0xd40</td><td>February</td><td>Aaron Maashoh</td><td>23.0</td><td>821-00-0265</td><td>3074.17</td><td>3.0</td><td>1.0</td><td>4.0</td><td>3.0</td><td>Auto Loan, Credit-Builder Loan, Personal Loan, and Home Equity Loan</td><td>4.0</td><td>31.94496005538421</td><td>19 Years and 4 Months</td><td>No</td><td>49.57494921489417</td><td>14.0</td><td>4.0</td><td>118.28022003173828</td><td>284.629150390625</td><td>Low_spent_Large_value_payments</td><td>11.270000457763672</td><td>Good</td><td>809.97998046875</td><td>19114.119140625</td><td>Good</td><td>Scientist</td></tr><tr><td>0x1604</td><td>CUS_0xd40</td><td>March</td><td>Aaron Maashoh</td><td>33.0</td><td>821-00-0265</td><td>3074.17</td><td>3.0</td><td>3.0</td><td>4.0</td><td>3.0</td><td>Auto Loan, Credit-Builder Loan, Personal Loan, and Home Equity Loan</td><td>4.0</td><td>28.60935202206993</td><td>22 Years and 3 Months</td><td>No</td><td>49.57494921489417</td><td>7.0</td><td>4.0</td><td>81.69952392578125</td><td>331.2098693847656</td><td>Low_spent_Medium_value_payments</td><td>9.359999656677246</td><td>Good</td><td>809.97998046875</td><td>19114.119140625</td><td>Good</td><td>Scientist</td></tr><tr><td>0x1605</td><td>CUS_0xd40</td><td>April</td><td>Aaron Maashoh</td><td>23.0</td><td>821-00-0265</td><td>3074.17</td><td>3.0</td><td>5.0</td><td>4.0</td><td>3.0</td><td>Auto Loan, Credit-Builder Loan, Personal Loan, and Home Equity Loan</td><td>4.0</td><td>31.377861869582354</td><td>22 Years and 4 Months</td><td>No</td><td>49.57494921489417</td><td>4.0</td><td>4.0</td><td>199.45806884765625</td><td>223.45130920410156</td><td>Low_spent_Small_value_payments</td><td>6.269999980926514</td><td>Good</td><td>809.97998046875</td><td>19114.119140625</td><td>Good</td><td>Scientist</td></tr><tr><td>0x1606</td><td>CUS_0xd40</td><td>May</td><td>Aaron Maashoh</td><td>23.0</td><td>821-00-0265</td><td>1824.8433333333328</td><td>3.0</td><td>6.0</td><td>4.0</td><td>3.0</td><td>Auto Loan, Credit-Builder Loan, Personal Loan, and Home Equity Loan</td><td>4.0</td><td>24.797346908844986</td><td>22 Years and 5 Months</td><td>No</td><td>49.57494921489417</td><td>14.0</td><td>4.0</td><td>41.4201545715332</td><td>341.4892272949219</td><td>High_spent_Medium_value_payments</td><td>11.270000457763672</td><td>Good</td><td>809.97998046875</td><td>19114.119140625</td><td>Good</td><td>Scientist</td></tr></tbody></table></div>"
      ]
     },
     "metadata": {
      "application/vnd.databricks.v1+output": {
       "addedWidgets": {},
       "aggData": [],
       "aggError": "",
       "aggOverflow": false,
       "aggSchema": [],
       "aggSeriesLimitReached": false,
       "aggType": "",
       "arguments": {},
       "columnCustomDisplayInfos": {},
       "data": [
        [
         "0x1602",
         "CUS_0xd40",
         "January",
         "Aaron Maashoh",
         23.0,
         "821-00-0265",
         1824.8433333333328,
         3.0,
         3.0,
         4.0,
         3.0,
         "Auto Loan, Credit-Builder Loan, Personal Loan, and Home Equity Loan",
         4.0,
         26.822619623699016,
         "22 Years and 1 Months",
         "No",
         49.57494921489417,
         7.0,
         4.0,
         80.41529846191406,
         312.49407958984375,
         "High_spent_Small_value_payments",
         11.270000457763672,
         "Good",
         809.97998046875,
         19114.119140625,
         "Standard",
         "Scientist"
        ],
        [
         "0x1603",
         "CUS_0xd40",
         "February",
         "Aaron Maashoh",
         23.0,
         "821-00-0265",
         3074.17,
         3.0,
         1.0,
         4.0,
         3.0,
         "Auto Loan, Credit-Builder Loan, Personal Loan, and Home Equity Loan",
         4.0,
         31.94496005538421,
         "19 Years and 4 Months",
         "No",
         49.57494921489417,
         14.0,
         4.0,
         118.28022003173828,
         284.629150390625,
         "Low_spent_Large_value_payments",
         11.270000457763672,
         "Good",
         809.97998046875,
         19114.119140625,
         "Good",
         "Scientist"
        ],
        [
         "0x1604",
         "CUS_0xd40",
         "March",
         "Aaron Maashoh",
         33.0,
         "821-00-0265",
         3074.17,
         3.0,
         3.0,
         4.0,
         3.0,
         "Auto Loan, Credit-Builder Loan, Personal Loan, and Home Equity Loan",
         4.0,
         28.60935202206993,
         "22 Years and 3 Months",
         "No",
         49.57494921489417,
         7.0,
         4.0,
         81.69952392578125,
         331.2098693847656,
         "Low_spent_Medium_value_payments",
         9.359999656677246,
         "Good",
         809.97998046875,
         19114.119140625,
         "Good",
         "Scientist"
        ],
        [
         "0x1605",
         "CUS_0xd40",
         "April",
         "Aaron Maashoh",
         23.0,
         "821-00-0265",
         3074.17,
         3.0,
         5.0,
         4.0,
         3.0,
         "Auto Loan, Credit-Builder Loan, Personal Loan, and Home Equity Loan",
         4.0,
         31.377861869582354,
         "22 Years and 4 Months",
         "No",
         49.57494921489417,
         4.0,
         4.0,
         199.45806884765625,
         223.45130920410156,
         "Low_spent_Small_value_payments",
         6.269999980926514,
         "Good",
         809.97998046875,
         19114.119140625,
         "Good",
         "Scientist"
        ],
        [
         "0x1606",
         "CUS_0xd40",
         "May",
         "Aaron Maashoh",
         23.0,
         "821-00-0265",
         1824.8433333333328,
         3.0,
         6.0,
         4.0,
         3.0,
         "Auto Loan, Credit-Builder Loan, Personal Loan, and Home Equity Loan",
         4.0,
         24.797346908844986,
         "22 Years and 5 Months",
         "No",
         49.57494921489417,
         14.0,
         4.0,
         41.4201545715332,
         341.4892272949219,
         "High_spent_Medium_value_payments",
         11.270000457763672,
         "Good",
         809.97998046875,
         19114.119140625,
         "Good",
         "Scientist"
        ]
       ],
       "datasetInfos": [],
       "dbfsResultPath": null,
       "isJsonSchema": true,
       "metadata": {},
       "overflow": false,
       "plotOptions": {
        "customPlotOptions": {},
        "displayType": "table",
        "pivotAggregation": null,
        "pivotColumns": null,
        "xColumns": null,
        "yColumns": null
       },
       "removedWidgets": [],
       "schema": [
        {
         "metadata": "{}",
         "name": "ID",
         "type": "\"string\""
        },
        {
         "metadata": "{}",
         "name": "Customer_ID",
         "type": "\"string\""
        },
        {
         "metadata": "{}",
         "name": "Month",
         "type": "\"string\""
        },
        {
         "metadata": "{}",
         "name": "Name",
         "type": "\"string\""
        },
        {
         "metadata": "{}",
         "name": "Age3",
         "type": "\"double\""
        },
        {
         "metadata": "{}",
         "name": "SSN",
         "type": "\"string\""
        },
        {
         "metadata": "{}",
         "name": "Monthly_Inhand_Salary",
         "type": "\"double\""
        },
        {
         "metadata": "{}",
         "name": "Num_Bank_Accounts1",
         "type": "\"double\""
        },
        {
         "metadata": "{}",
         "name": "Delay_from_due_date1",
         "type": "\"double\""
        },
        {
         "metadata": "{}",
         "name": "Num_Credit_Card",
         "type": "\"double\""
        },
        {
         "metadata": "{}",
         "name": "Interest_Rate",
         "type": "\"double\""
        },
        {
         "metadata": "{}",
         "name": "Type_of_Loan",
         "type": "\"string\""
        },
        {
         "metadata": "{}",
         "name": "Num_Credit_Inquiries",
         "type": "\"double\""
        },
        {
         "metadata": "{}",
         "name": "Credit_Utilization_Ratio",
         "type": "\"double\""
        },
        {
         "metadata": "{}",
         "name": "Credit_History_Age",
         "type": "\"string\""
        },
        {
         "metadata": "{}",
         "name": "Payment_of_Min_Amount",
         "type": "\"string\""
        },
        {
         "metadata": "{}",
         "name": "Total_EMI_per_month",
         "type": "\"double\""
        },
        {
         "metadata": "{}",
         "name": "Num_of_Delayed_Payment2",
         "type": "\"double\""
        },
        {
         "metadata": "{}",
         "name": "Num_of_Loan2",
         "type": "\"double\""
        },
        {
         "metadata": "{}",
         "name": "Amount_invested_monthly1",
         "type": "\"double\""
        },
        {
         "metadata": "{}",
         "name": "Monthly_Balance1",
         "type": "\"double\""
        },
        {
         "metadata": "{}",
         "name": "Payment_Behaviour1",
         "type": "\"string\""
        },
        {
         "metadata": "{}",
         "name": "Changed_Credit_Limit2",
         "type": "\"double\""
        },
        {
         "metadata": "{}",
         "name": "Credit_Score",
         "type": "\"string\""
        },
        {
         "metadata": "{}",
         "name": "Outstanding_Debt",
         "type": "\"double\""
        },
        {
         "metadata": "{}",
         "name": "Annual_Income",
         "type": "\"double\""
        },
        {
         "metadata": "{}",
         "name": "Credit_Mix",
         "type": "\"string\""
        },
        {
         "metadata": "{}",
         "name": "Occupation",
         "type": "\"string\""
        }
       ],
       "type": "table"
      }
     },
     "output_type": "display_data"
    }
   ],
   "source": [
    "new_DF=MDT(A)   #Storing returned dataframe in new_DF\n",
    "display(new_DF.limit(5))"
   ]
  },
  {
   "cell_type": "markdown",
   "metadata": {
    "application/vnd.databricks.v1+cell": {
     "cellMetadata": {
      "byteLimit": 2048000,
      "rowLimit": 10000
     },
     "inputWidgets": {},
     "nuid": "51362ba4-d2b4-49cc-8349-a89ae6e22aba",
     "showTitle": false,
     "title": ""
    }
   },
   "source": [
    "## Logic for mode if mode = None"
   ]
  },
  {
   "cell_type": "code",
   "execution_count": 0,
   "metadata": {
    "application/vnd.databricks.v1+cell": {
     "cellMetadata": {
      "byteLimit": 2048000,
      "rowLimit": 10000
     },
     "inputWidgets": {},
     "nuid": "f3b6c388-f097-4f88-b867-65fe54104d4d",
     "showTitle": false,
     "title": ""
    }
   },
   "outputs": [
    {
     "output_type": "stream",
     "name": "stdout",
     "output_type": "stream",
     "text": [
      "0x1913\nCUS_0x33d2\nJuly\nLangep\n#F%$D@*&8\nNot Specified\n15 Years and 11 Months\nYes\nLow_spent_Small_value_payments\nStandard\nStandard\nLawyer\n"
     ]
    }
   ],
   "source": [
    "from pyspark.sql.functions import col,when,desc    \n",
    "cat=[]\n",
    "for columns, dtype in A.dtypes:\n",
    "    if dtype in ['string', 'timestamp', 'date', 'boolean']:\n",
    "        cat.append(columns)\n",
    "for c in cat:\n",
    "    mode = A.groupBy(c).count().orderBy(desc('count')).first()[0]\n",
    "    if(mode==None):\n",
    "        mode=A.groupBy(c).count().orderBy(desc('count')).collect()[1][0]\n",
    "    print(mode)"
   ]
  },
  {
   "cell_type": "markdown",
   "metadata": {
    "application/vnd.databricks.v1+cell": {
     "cellMetadata": {
      "byteLimit": 2048000,
      "rowLimit": 10000
     },
     "inputWidgets": {},
     "nuid": "dac6a716-c37e-4d2f-b7ac-08c9898ee58c",
     "showTitle": false,
     "title": ""
    }
   },
   "source": [
    "##  <p style=\"padding:10px;background-color:Pink ;margin:10;color:#000000;font-family:newtimeroman;font-size:100%;border-radius: 10px 10px ;overflow:hidden;font-weight:50\">Removing Outliers</p>"
   ]
  },
  {
   "cell_type": "markdown",
   "metadata": {
    "application/vnd.databricks.v1+cell": {
     "cellMetadata": {
      "byteLimit": 2048000,
      "rowLimit": 10000
     },
     "inputWidgets": {},
     "nuid": "8a5e9ffd-9179-45b4-8e76-61590999817e",
     "showTitle": false,
     "title": ""
    }
   },
   "source": [
    "### Refrence -\n",
    "https://spark.apache.org/docs/2.4.5/api/python/pyspark.sql.html?highlight=approxquantile#pyspark.sql.DataFrame.approxQuantile"
   ]
  },
  {
   "cell_type": "markdown",
   "metadata": {
    "application/vnd.databricks.v1+cell": {
     "cellMetadata": {
      "byteLimit": 2048000,
      "rowLimit": 10000
     },
     "inputWidgets": {},
     "nuid": "e8b1a4dc-e49b-42a7-8415-3494c38e27bb",
     "showTitle": false,
     "title": ""
    }
   },
   "source": []
  },
  {
   "cell_type": "code",
   "execution_count": 0,
   "metadata": {
    "application/vnd.databricks.v1+cell": {
     "cellMetadata": {
      "byteLimit": 2048000,
      "rowLimit": 10000
     },
     "inputWidgets": {},
     "nuid": "fbec2c62-3038-4145-a39e-dd0199b97d19",
     "showTitle": false,
     "title": ""
    }
   },
   "outputs": [],
   "source": [
    "from pyspark.sql import functions as F\n",
    "\n",
    "def Num_of_outliers(df):  # returns column names which has outliers\n",
    "\n",
    "    con= [col for col, dtype in df.dtypes if dtype in ['int','bigint','double', 'float']]\n",
    "    outliers_col=[]\n",
    "\n",
    "    for col in con:\n",
    "        # Calculate Q1 (25th percentile) and Q3 (75th percentile)\n",
    "        quantiles = df.approxQuantile(col, [0.25, 0.75], 0.01)\n",
    "        q1 = quantiles[0]\n",
    "        q3 = quantiles[1]\n",
    "        \n",
    "        # Calculate IQR and threshold for outliers\n",
    "        iqr = q3 - q1\n",
    "        threshold = 1.5 * iqr\n",
    "        \n",
    "        # Count outliers\n",
    "        outliers_count = df.filter((F.col(col) < (q1 - threshold)) | (F.col(col) > (q3 + threshold))).count()\n",
    "        if(outliers_count>0):\n",
    "            outliers_col.append(col)\n",
    "        print(f\"{col}  ---->  {outliers_count}\")\n",
    "    return outliers_col"
   ]
  },
  {
   "cell_type": "code",
   "execution_count": 0,
   "metadata": {
    "application/vnd.databricks.v1+cell": {
     "cellMetadata": {
      "byteLimit": 2048000,
      "rowLimit": 10000
     },
     "inputWidgets": {},
     "nuid": "c0b041e9-5525-43cc-8b8f-10b926a20768",
     "showTitle": false,
     "title": ""
    }
   },
   "outputs": [
    {
     "output_type": "stream",
     "name": "stdout",
     "output_type": "stream",
     "text": [
      "Age3  ---->  13\nMonthly_Inhand_Salary  ---->  4987\nNum_Bank_Accounts1  ---->  1315\nDelay_from_due_date1  ---->  4002\nNum_Credit_Card  ---->  2271\nInterest_Rate  ---->  2034\nNum_Credit_Inquiries  ---->  1650\nCredit_Utilization_Ratio  ---->  5\nTotal_EMI_per_month  ---->  7232\nNum_of_Delayed_Payment2  ---->  736\nNum_of_Loan2  ---->  472\nAmount_invested_monthly1  ---->  11370\nMonthly_Balance1  ---->  7873\nChanged_Credit_Limit2  ---->  1609\nOutstanding_Debt  ---->  5192\nAnnual_Income  ---->  2998\n"
     ]
    }
   ],
   "source": [
    "columns=Num_of_outliers(new_DF)"
   ]
  },
  {
   "cell_type": "code",
   "execution_count": 0,
   "metadata": {
    "application/vnd.databricks.v1+cell": {
     "cellMetadata": {
      "byteLimit": 2048000,
      "rowLimit": 10000
     },
     "inputWidgets": {},
     "nuid": "b6da22ce-8233-4b25-b45c-456b3b8fefb1",
     "showTitle": false,
     "title": ""
    }
   },
   "outputs": [
    {
     "output_type": "stream",
     "name": "stdout",
     "output_type": "stream",
     "text": [
      "Out[19]: ['Age3',\n 'Monthly_Inhand_Salary',\n 'Num_Bank_Accounts1',\n 'Delay_from_due_date1',\n 'Num_Credit_Card',\n 'Interest_Rate',\n 'Num_Credit_Inquiries',\n 'Credit_Utilization_Ratio',\n 'Total_EMI_per_month',\n 'Num_of_Delayed_Payment2',\n 'Num_of_Loan2',\n 'Amount_invested_monthly1',\n 'Monthly_Balance1',\n 'Changed_Credit_Limit2',\n 'Outstanding_Debt',\n 'Annual_Income']"
     ]
    }
   ],
   "source": [
    "columns"
   ]
  },
  {
   "cell_type": "code",
   "execution_count": 0,
   "metadata": {
    "application/vnd.databricks.v1+cell": {
     "cellMetadata": {
      "byteLimit": 2048000,
      "rowLimit": 10000
     },
     "inputWidgets": {},
     "nuid": "3c7de9f7-b67b-4033-8cdb-0d1ee9c71375",
     "showTitle": false,
     "title": ""
    }
   },
   "outputs": [],
   "source": [
    "def remove_outliers(list_col,df):   # Removes outliers\n",
    "    from pyspark.sql.functions import when,col\n",
    "    for i in list_col:\n",
    "\n",
    "        # Calculate Q1 (25th percentile) and Q3 (75th percentile)\n",
    "        quantiles = df.approxQuantile(i, [0.25, 0.75], 0.01)\n",
    "        q1 = quantiles[0]\n",
    "        q3 = quantiles[1]\n",
    "        \n",
    "        # Calculate IQR and threshold for outliers\n",
    "        iqr = q3 - q1\n",
    "        threshold = 1.5 * iqr\n",
    "        df=df.withColumn(i,when((col(i)>q3+threshold),q3).when((col(i)<q1-threshold),q1).otherwise(col(i)))\n",
    "    return df\n",
    "\n"
   ]
  },
  {
   "cell_type": "code",
   "execution_count": 0,
   "metadata": {
    "application/vnd.databricks.v1+cell": {
     "cellMetadata": {
      "byteLimit": 2048000,
      "rowLimit": 10000
     },
     "inputWidgets": {},
     "nuid": "18df83db-add4-47fd-ae46-1f7d5636c06e",
     "showTitle": false,
     "title": ""
    }
   },
   "outputs": [],
   "source": [
    "new_df=remove_outliers(columns,new_DF)"
   ]
  },
  {
   "cell_type": "code",
   "execution_count": 0,
   "metadata": {
    "application/vnd.databricks.v1+cell": {
     "cellMetadata": {
      "byteLimit": 2048000,
      "rowLimit": 10000
     },
     "inputWidgets": {},
     "nuid": "a5e7b137-bd18-454d-9968-aafb8743bbfe",
     "showTitle": false,
     "title": ""
    }
   },
   "outputs": [
    {
     "output_type": "stream",
     "name": "stdout",
     "output_type": "stream",
     "text": [
      "Age3  ---->  0\nMonthly_Inhand_Salary  ---->  0\nNum_Bank_Accounts1  ---->  0\nDelay_from_due_date1  ---->  0\nNum_Credit_Card  ---->  0\nInterest_Rate  ---->  0\nNum_Credit_Inquiries  ---->  0\nCredit_Utilization_Ratio  ---->  0\nTotal_EMI_per_month  ---->  0\nNum_of_Delayed_Payment2  ---->  0\nNum_of_Loan2  ---->  0\nAmount_invested_monthly1  ---->  0\nMonthly_Balance1  ---->  349\nChanged_Credit_Limit2  ---->  0\nOutstanding_Debt  ---->  696\nAnnual_Income  ---->  0\n"
     ]
    }
   ],
   "source": [
    "outliers_columns=Num_of_outliers(new_df)"
   ]
  },
  {
   "cell_type": "code",
   "execution_count": 0,
   "metadata": {
    "application/vnd.databricks.v1+cell": {
     "cellMetadata": {
      "byteLimit": 2048000,
      "rowLimit": 10000
     },
     "inputWidgets": {},
     "nuid": "6941deb1-5538-44c8-a017-04b00e08d786",
     "showTitle": false,
     "title": ""
    }
   },
   "outputs": [],
   "source": [
    "new_df=remove_outliers(outliers_columns,new_df)"
   ]
  },
  {
   "cell_type": "code",
   "execution_count": 0,
   "metadata": {
    "application/vnd.databricks.v1+cell": {
     "cellMetadata": {
      "byteLimit": 2048000,
      "rowLimit": 10000
     },
     "inputWidgets": {},
     "nuid": "4507c91e-4095-430f-9c8f-fb356a42b324",
     "showTitle": false,
     "title": ""
    }
   },
   "outputs": [],
   "source": [
    "new_df=remove_outliers(outliers_columns,new_df)"
   ]
  },
  {
   "cell_type": "code",
   "execution_count": 0,
   "metadata": {
    "application/vnd.databricks.v1+cell": {
     "cellMetadata": {
      "byteLimit": 2048000,
      "rowLimit": 10000
     },
     "inputWidgets": {},
     "nuid": "80482c8f-509c-455a-816e-281f2383ae99",
     "showTitle": false,
     "title": ""
    }
   },
   "outputs": [
    {
     "output_type": "stream",
     "name": "stdout",
     "output_type": "stream",
     "text": [
      "Age3  ---->  0\nMonthly_Inhand_Salary  ---->  0\nNum_Bank_Accounts1  ---->  0\nDelay_from_due_date1  ---->  0\nNum_Credit_Card  ---->  0\nInterest_Rate  ---->  0\nNum_Credit_Inquiries  ---->  0\nCredit_Utilization_Ratio  ---->  0\nTotal_EMI_per_month  ---->  0\nNum_of_Delayed_Payment2  ---->  0\nNum_of_Loan2  ---->  0\nAmount_invested_monthly1  ---->  0\nMonthly_Balance1  ---->  0\nChanged_Credit_Limit2  ---->  0\nOutstanding_Debt  ---->  0\nAnnual_Income  ---->  0\nOut[25]: []"
     ]
    }
   ],
   "source": [
    "Num_of_outliers(new_df)"
   ]
  },
  {
   "cell_type": "markdown",
   "metadata": {
    "application/vnd.databricks.v1+cell": {
     "cellMetadata": {},
     "inputWidgets": {},
     "nuid": "e176bd75-e950-4792-a0dd-f62a9d104174",
     "showTitle": false,
     "title": ""
    }
   },
   "source": [
    "##  <p style=\"padding:10px;background-color:yellow ;margin:10;color:#000000;font-family:newtimeroman;font-size:100%;border-radius: 10px 10px ;overflow:hidden;font-weight:50\">Outliers are removed</p> \n"
   ]
  },
  {
   "cell_type": "markdown",
   "metadata": {
    "application/vnd.databricks.v1+cell": {
     "cellMetadata": {
      "byteLimit": 2048000,
      "rowLimit": 10000
     },
     "inputWidgets": {},
     "nuid": "6f0d7f40-8aa2-4246-84df-ff602767338a",
     "showTitle": false,
     "title": ""
    }
   },
   "source": [
    "##  <p style=\"padding:10px;background-color:Pink ;margin:10;color:#000000;font-family:newtimeroman;font-size:100%;border-radius: 10px 10px ;overflow:hidden;font-weight:50\">Skewness</p>\n"
   ]
  },
  {
   "cell_type": "markdown",
   "metadata": {
    "application/vnd.databricks.v1+cell": {
     "cellMetadata": {
      "byteLimit": 2048000,
      "rowLimit": 10000
     },
     "inputWidgets": {},
     "nuid": "b5d8a4ae-465a-4405-86f9-dc6667ebc1d0",
     "showTitle": false,
     "title": ""
    }
   },
   "source": [
    "### Reference-\n",
    "https://spark.apache.org/docs/2.4.5/api/python/pyspark.sql.html?highlight=skew#pyspark.sql.functions.skewness"
   ]
  },
  {
   "cell_type": "code",
   "execution_count": 0,
   "metadata": {
    "application/vnd.databricks.v1+cell": {
     "cellMetadata": {
      "byteLimit": 2048000,
      "rowLimit": 10000
     },
     "inputWidgets": {},
     "nuid": "bc0db1d2-5804-4698-b6cf-a6f1953b3352",
     "showTitle": false,
     "title": ""
    }
   },
   "outputs": [
    {
     "output_type": "stream",
     "name": "stdout",
     "output_type": "stream",
     "text": [
      "Out[26]: 0.15998054404660458"
     ]
    }
   ],
   "source": [
    "from pyspark.sql.functions import skewness,col    #range between -2 to 2 for normally disributed\n",
    "new_df.select(skewness(col(\"Age3\"))).collect()[0][0]"
   ]
  },
  {
   "cell_type": "code",
   "execution_count": 0,
   "metadata": {
    "application/vnd.databricks.v1+cell": {
     "cellMetadata": {
      "byteLimit": 2048000,
      "rowLimit": 10000
     },
     "inputWidgets": {},
     "nuid": "bb4e5520-149a-43bf-b5b4-7ae8484ff50c",
     "showTitle": false,
     "title": ""
    }
   },
   "outputs": [],
   "source": [
    "def check_skew(df):\n",
    "  from pyspark.sql.functions import skewness,col\n",
    "  skew_col=[]\n",
    "  con= [col for col, dtype in df.dtypes if dtype in ['int','bigint','double', 'float']]\n",
    "  for i in con:\n",
    "    val=df.select(skewness(col(i))).collect()[0][0]\n",
    "    if((val>2) | (val<-2)):\n",
    "      skew_col.append(i)\n",
    "\n",
    "    print(f\"{i}  ---->  {val}\")\n",
    "  return skew_col"
   ]
  },
  {
   "cell_type": "code",
   "execution_count": 0,
   "metadata": {
    "application/vnd.databricks.v1+cell": {
     "cellMetadata": {
      "byteLimit": 2048000,
      "rowLimit": 10000
     },
     "inputWidgets": {},
     "nuid": "f8b9a297-b86f-4723-a5fc-2033a5e8819e",
     "showTitle": false,
     "title": ""
    }
   },
   "outputs": [
    {
     "output_type": "stream",
     "name": "stdout",
     "output_type": "stream",
     "text": [
      "Age3  ---->  0.15998054404660458\nMonthly_Inhand_Salary  ---->  0.9411404317247334\nNum_Bank_Accounts1  ---->  -0.21018529938541158\nDelay_from_due_date1  ---->  0.7571487261124804\nNum_Credit_Card  ---->  0.18529937898923057\nInterest_Rate  ---->  0.46322850850469116\nNum_Credit_Inquiries  ---->  0.3709965819736132\nCredit_Utilization_Ratio  ---->  0.027147693310558597\nTotal_EMI_per_month  ---->  0.9272225683960269\nNum_of_Delayed_Payment2  ---->  -0.22007496758938017\nNum_of_Loan2  ---->  0.4709293997186587\nAmount_invested_monthly1  ---->  0.9093116455362045\nMonthly_Balance1  ---->  0.5459099724332401\nChanged_Credit_Limit2  ---->  0.5594062121602753\nOutstanding_Debt  ---->  0.761214555148195\nAnnual_Income  ---->  0.9180881184288435\n"
     ]
    }
   ],
   "source": [
    "skew_cols=check_skew(new_df)"
   ]
  },
  {
   "cell_type": "markdown",
   "metadata": {
    "application/vnd.databricks.v1+cell": {
     "cellMetadata": {
      "byteLimit": 2048000,
      "rowLimit": 10000
     },
     "inputWidgets": {},
     "nuid": "324714fb-898a-4e42-83e5-633d987bf09d",
     "showTitle": false,
     "title": ""
    }
   },
   "source": [
    "##  <p style=\"padding:10px;background-color:yellow ;margin:10;color:#000000;font-family:newtimeroman;font-size:100%;border-radius: 10px 10px ;overflow:hidden;font-weight:50\">There is no skew in the data</p> \n"
   ]
  },
  {
   "cell_type": "markdown",
   "metadata": {
    "application/vnd.databricks.v1+cell": {
     "cellMetadata": {},
     "inputWidgets": {},
     "nuid": "7e461344-096c-40ea-aa36-1dc728763973",
     "showTitle": false,
     "title": ""
    }
   },
   "source": [
    "## Renaming Columns"
   ]
  },
  {
   "cell_type": "code",
   "execution_count": 0,
   "metadata": {
    "application/vnd.databricks.v1+cell": {
     "cellMetadata": {
      "byteLimit": 2048000,
      "rowLimit": 10000
     },
     "inputWidgets": {},
     "nuid": "6dffb78e-3ff6-4bf4-a1db-13f3467a9a21",
     "showTitle": false,
     "title": ""
    }
   },
   "outputs": [
    {
     "output_type": "stream",
     "name": "stdout",
     "output_type": "stream",
     "text": [
      "root\n |-- ID: string (nullable = true)\n |-- Customer_ID: string (nullable = true)\n |-- Month: string (nullable = true)\n |-- Name: string (nullable = true)\n |-- Age: double (nullable = true)\n |-- SSN: string (nullable = true)\n |-- Monthly_Inhand_Salary: double (nullable = true)\n |-- Num_Bank_Accounts: double (nullable = true)\n |-- Delay_from_due_date: double (nullable = true)\n |-- Num_Credit_Card: double (nullable = true)\n |-- Interest_Rate: double (nullable = true)\n |-- Type_of_Loan: string (nullable = true)\n |-- Num_Credit_Inquiries: double (nullable = true)\n |-- Credit_Utilization_Ratio: double (nullable = true)\n |-- Credit_History_Age: string (nullable = true)\n |-- Payment_of_Min_Amount: string (nullable = true)\n |-- Total_EMI_per_month: double (nullable = true)\n |-- Num_of_Delayed_Payment: double (nullable = true)\n |-- Num_of_Loan: double (nullable = true)\n |-- Amount_invested_monthly: double (nullable = true)\n |-- Monthly_Balance: double (nullable = true)\n |-- Payment_Behaviour: string (nullable = true)\n |-- Changed_Credit_Limit: double (nullable = true)\n |-- Credit_Score: string (nullable = true)\n |-- Outstanding_Debt: double (nullable = true)\n |-- Annual_Income: double (nullable = true)\n |-- Credit_Mix: string (nullable = true)\n |-- Occupation: string (nullable = true)\n\n"
     ]
    }
   ],
   "source": [
    "from pyspark.sql import functions as F\n",
    "\n",
    "# List of columns to rename\n",
    "columns_to_rename = [\n",
    "    'Age3', 'Num_Bank_Accounts1', 'Delay_from_due_date1', \n",
    "    'Num_of_Delayed_Payment2', 'Num_of_Loan2', 'Amount_invested_monthly1', \n",
    "    'Monthly_Balance1', 'Payment_Behaviour1', 'Changed_Credit_Limit2'\n",
    "]\n",
    "\n",
    "# Create a mapping from old column names to new column names\n",
    "renames= {col: col[:-1] for col in columns_to_rename}\n",
    "\n",
    "# Rename columns using withColumnRenamed\n",
    "for old_name, new_name in renames.items():\n",
    "    new_df = new_df.withColumnRenamed(old_name, new_name)\n",
    "\n",
    "# Display the updated DataFrame schema\n",
    "new_df.printSchema()\n"
   ]
  },
  {
   "cell_type": "code",
   "execution_count": 0,
   "metadata": {
    "application/vnd.databricks.v1+cell": {
     "cellMetadata": {
      "byteLimit": 2048000,
      "rowLimit": 10000
     },
     "inputWidgets": {},
     "nuid": "07dfc697-2243-4540-9425-34af567e5c7a",
     "showTitle": false,
     "title": ""
    }
   },
   "outputs": [],
   "source": [
    "#new_df.write.saveAsTable(\"credit_score_DF\")  \n",
    "#saved in delta format as managedtable in user/hive/warehouse/credit_score_df"
   ]
  },
  {
   "cell_type": "code",
   "execution_count": 0,
   "metadata": {
    "application/vnd.databricks.v1+cell": {
     "cellMetadata": {
      "byteLimit": 2048000,
      "rowLimit": 10000
     },
     "inputWidgets": {},
     "nuid": "7fc1374a-5600-4a4b-af46-03ec76771d49",
     "showTitle": false,
     "title": ""
    }
   },
   "outputs": [],
   "source": [
    "from datetime import datetime\n",
    "current_year = datetime.utcnow().strftime(\"%Y\")\n",
    "current_month = datetime.utcnow().strftime(\"%m\")\n",
    "current_day = datetime.utcnow().strftime(\"%d\")\n",
    "# Save the DataFrame to the dynamic path\n",
    "new_df.write.mode(\"overwrite\").parquet(f\"dbfs:/mnt/ADLS_Landing/Bank_Data/gold/{current_year}/{current_month}/{current_day}/\")"
   ]
  },
  {
   "cell_type": "markdown",
   "metadata": {
    "application/vnd.databricks.v1+cell": {
     "cellMetadata": {},
     "inputWidgets": {},
     "nuid": "9905870f-94d7-4af1-898a-e6eddccaea6e",
     "showTitle": false,
     "title": ""
    }
   },
   "source": [
    "##  <p style=\"padding:10px;background-color:yellow ;margin:10;color:#000000;font-family:newtimeroman;font-size:100%;border-radius: 10px 10px ;overflow:hidden;font-weight:50\">Saved DataFrame on ADLS in gold layer, data is ready for predictive modeling</p> \n"
   ]
  },
  {
   "cell_type": "code",
   "execution_count": 0,
   "metadata": {
    "application/vnd.databricks.v1+cell": {
     "cellMetadata": {},
     "inputWidgets": {},
     "nuid": "6f0f38dc-1a08-496c-89b8-97bc55166050",
     "showTitle": false,
     "title": ""
    }
   },
   "outputs": [],
   "source": []
  }
 ],
 "metadata": {
  "application/vnd.databricks.v1+notebook": {
   "dashboards": [],
   "environmentMetadata": null,
   "language": "python",
   "notebookMetadata": {
    "mostRecentlyExecutedCommandWithImplicitDF": {
     "commandId": 915228016199390,
     "dataframes": [
      "_sqldf"
     ]
    },
    "pythonIndentUnit": 4
   },
   "notebookName": "Credit Score Prediction : Stage- 2",
   "widgets": {}
  }
 },
 "nbformat": 4,
 "nbformat_minor": 0
}
