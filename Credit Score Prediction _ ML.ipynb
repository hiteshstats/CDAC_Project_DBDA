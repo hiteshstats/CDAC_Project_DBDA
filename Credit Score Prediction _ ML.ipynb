{
 "cells": [
  {
   "cell_type": "markdown",
   "metadata": {
    "application/vnd.databricks.v1+cell": {
     "cellMetadata": {},
     "inputWidgets": {},
     "nuid": "43365072-f45b-4920-b129-96e7d4af5b00",
     "showTitle": false,
     "title": ""
    }
   },
   "source": [
    "##  <p style=\"padding:10px;background-color:Pink ;margin:10;color:#000000;font-family:newtimeroman;font-size:100%;border-radius: 10px 10px ;overflow:hidden;font-weight:50\">Data Ingestion</p>\n"
   ]
  },
  {
   "cell_type": "code",
   "execution_count": 0,
   "metadata": {
    "application/vnd.databricks.v1+cell": {
     "cellMetadata": {
      "byteLimit": 2048000,
      "rowLimit": 10000
     },
     "inputWidgets": {},
     "nuid": "98d3a570-2091-4df5-9e00-e29db192d6d0",
     "showTitle": false,
     "title": ""
    }
   },
   "outputs": [
    {
     "output_type": "display_data",
     "data": {
      "text/html": [
       "<style scoped>\n",
       "  .table-result-container {\n",
       "    max-height: 300px;\n",
       "    overflow: auto;\n",
       "  }\n",
       "  table, th, td {\n",
       "    border: 1px solid black;\n",
       "    border-collapse: collapse;\n",
       "  }\n",
       "  th, td {\n",
       "    padding: 5px;\n",
       "  }\n",
       "  th {\n",
       "    text-align: left;\n",
       "  }\n",
       "</style><div class='table-result-container'><table class='table-result'><thead style='background-color: white'><tr><th>ID</th><th>Customer_ID</th><th>Month</th><th>Name</th><th>Age</th><th>SSN</th><th>Monthly_Inhand_Salary</th><th>Num_Bank_Accounts</th><th>Delay_from_due_date</th><th>Num_Credit_Card</th><th>Interest_Rate</th><th>Type_of_Loan</th><th>Num_Credit_Inquiries</th><th>Credit_Utilization_Ratio</th><th>Credit_History_Age</th><th>Payment_of_Min_Amount</th><th>Total_EMI_per_month</th><th>Num_of_Delayed_Payment</th><th>Num_of_Loan</th><th>Amount_invested_monthly</th><th>Monthly_Balance</th><th>Payment_Behaviour</th><th>Changed_Credit_Limit</th><th>Credit_Score</th><th>Outstanding_Debt</th><th>Annual_Income</th><th>Credit_Mix</th><th>Occupation</th></tr></thead><tbody><tr><td>0x1602</td><td>CUS_0xd40</td><td>January</td><td>Aaron Maashoh</td><td>23.0</td><td>821-00-0265</td><td>1824.8433333333328</td><td>3.0</td><td>3.0</td><td>4.0</td><td>3.0</td><td>Auto Loan, Credit-Builder Loan, Personal Loan, and Home Equity Loan</td><td>4.0</td><td>26.822619623699016</td><td>22 Years and 1 Months</td><td>No</td><td>49.57494921489417</td><td>7.0</td><td>4.0</td><td>80.41529846191406</td><td>312.49407958984375</td><td>High_spent_Small_value_payments</td><td>11.270000457763672</td><td>Good</td><td>809.97998046875</td><td>19114.119140625</td><td>Standard</td><td>Scientist</td></tr><tr><td>0x1603</td><td>CUS_0xd40</td><td>February</td><td>Aaron Maashoh</td><td>23.0</td><td>821-00-0265</td><td>3074.17</td><td>3.0</td><td>1.0</td><td>4.0</td><td>3.0</td><td>Auto Loan, Credit-Builder Loan, Personal Loan, and Home Equity Loan</td><td>4.0</td><td>31.94496005538421</td><td>19 Years and 4 Months</td><td>No</td><td>49.57494921489417</td><td>14.0</td><td>4.0</td><td>118.28022003173828</td><td>284.629150390625</td><td>Low_spent_Large_value_payments</td><td>11.270000457763672</td><td>Good</td><td>809.97998046875</td><td>19114.119140625</td><td>Good</td><td>Scientist</td></tr><tr><td>0x1604</td><td>CUS_0xd40</td><td>March</td><td>Aaron Maashoh</td><td>33.0</td><td>821-00-0265</td><td>3074.17</td><td>3.0</td><td>3.0</td><td>4.0</td><td>3.0</td><td>Auto Loan, Credit-Builder Loan, Personal Loan, and Home Equity Loan</td><td>4.0</td><td>28.60935202206993</td><td>22 Years and 3 Months</td><td>No</td><td>49.57494921489417</td><td>7.0</td><td>4.0</td><td>81.69952392578125</td><td>331.2098693847656</td><td>Low_spent_Medium_value_payments</td><td>9.359999656677246</td><td>Good</td><td>809.97998046875</td><td>19114.119140625</td><td>Good</td><td>Scientist</td></tr><tr><td>0x1605</td><td>CUS_0xd40</td><td>April</td><td>Aaron Maashoh</td><td>23.0</td><td>821-00-0265</td><td>3074.17</td><td>3.0</td><td>5.0</td><td>4.0</td><td>3.0</td><td>Auto Loan, Credit-Builder Loan, Personal Loan, and Home Equity Loan</td><td>4.0</td><td>31.377861869582354</td><td>22 Years and 4 Months</td><td>No</td><td>49.57494921489417</td><td>4.0</td><td>4.0</td><td>199.45806884765625</td><td>223.45130920410156</td><td>Low_spent_Small_value_payments</td><td>6.269999980926514</td><td>Good</td><td>809.97998046875</td><td>19114.119140625</td><td>Good</td><td>Scientist</td></tr><tr><td>0x1606</td><td>CUS_0xd40</td><td>May</td><td>Aaron Maashoh</td><td>23.0</td><td>821-00-0265</td><td>1824.8433333333328</td><td>3.0</td><td>6.0</td><td>4.0</td><td>3.0</td><td>Auto Loan, Credit-Builder Loan, Personal Loan, and Home Equity Loan</td><td>4.0</td><td>24.797346908844986</td><td>22 Years and 5 Months</td><td>No</td><td>49.57494921489417</td><td>14.0</td><td>4.0</td><td>41.4201545715332</td><td>341.4892272949219</td><td>High_spent_Medium_value_payments</td><td>11.270000457763672</td><td>Good</td><td>809.97998046875</td><td>19114.119140625</td><td>Good</td><td>Scientist</td></tr></tbody></table></div>"
      ]
     },
     "metadata": {
      "application/vnd.databricks.v1+output": {
       "addedWidgets": {},
       "aggData": [],
       "aggError": "",
       "aggOverflow": false,
       "aggSchema": [],
       "aggSeriesLimitReached": false,
       "aggType": "",
       "arguments": {},
       "columnCustomDisplayInfos": {},
       "data": [
        [
         "0x1602",
         "CUS_0xd40",
         "January",
         "Aaron Maashoh",
         23.0,
         "821-00-0265",
         1824.8433333333328,
         3.0,
         3.0,
         4.0,
         3.0,
         "Auto Loan, Credit-Builder Loan, Personal Loan, and Home Equity Loan",
         4.0,
         26.822619623699016,
         "22 Years and 1 Months",
         "No",
         49.57494921489417,
         7.0,
         4.0,
         80.41529846191406,
         312.49407958984375,
         "High_spent_Small_value_payments",
         11.270000457763672,
         "Good",
         809.97998046875,
         19114.119140625,
         "Standard",
         "Scientist"
        ],
        [
         "0x1603",
         "CUS_0xd40",
         "February",
         "Aaron Maashoh",
         23.0,
         "821-00-0265",
         3074.17,
         3.0,
         1.0,
         4.0,
         3.0,
         "Auto Loan, Credit-Builder Loan, Personal Loan, and Home Equity Loan",
         4.0,
         31.94496005538421,
         "19 Years and 4 Months",
         "No",
         49.57494921489417,
         14.0,
         4.0,
         118.28022003173828,
         284.629150390625,
         "Low_spent_Large_value_payments",
         11.270000457763672,
         "Good",
         809.97998046875,
         19114.119140625,
         "Good",
         "Scientist"
        ],
        [
         "0x1604",
         "CUS_0xd40",
         "March",
         "Aaron Maashoh",
         33.0,
         "821-00-0265",
         3074.17,
         3.0,
         3.0,
         4.0,
         3.0,
         "Auto Loan, Credit-Builder Loan, Personal Loan, and Home Equity Loan",
         4.0,
         28.60935202206993,
         "22 Years and 3 Months",
         "No",
         49.57494921489417,
         7.0,
         4.0,
         81.69952392578125,
         331.2098693847656,
         "Low_spent_Medium_value_payments",
         9.359999656677246,
         "Good",
         809.97998046875,
         19114.119140625,
         "Good",
         "Scientist"
        ],
        [
         "0x1605",
         "CUS_0xd40",
         "April",
         "Aaron Maashoh",
         23.0,
         "821-00-0265",
         3074.17,
         3.0,
         5.0,
         4.0,
         3.0,
         "Auto Loan, Credit-Builder Loan, Personal Loan, and Home Equity Loan",
         4.0,
         31.377861869582354,
         "22 Years and 4 Months",
         "No",
         49.57494921489417,
         4.0,
         4.0,
         199.45806884765625,
         223.45130920410156,
         "Low_spent_Small_value_payments",
         6.269999980926514,
         "Good",
         809.97998046875,
         19114.119140625,
         "Good",
         "Scientist"
        ],
        [
         "0x1606",
         "CUS_0xd40",
         "May",
         "Aaron Maashoh",
         23.0,
         "821-00-0265",
         1824.8433333333328,
         3.0,
         6.0,
         4.0,
         3.0,
         "Auto Loan, Credit-Builder Loan, Personal Loan, and Home Equity Loan",
         4.0,
         24.797346908844986,
         "22 Years and 5 Months",
         "No",
         49.57494921489417,
         14.0,
         4.0,
         41.4201545715332,
         341.4892272949219,
         "High_spent_Medium_value_payments",
         11.270000457763672,
         "Good",
         809.97998046875,
         19114.119140625,
         "Good",
         "Scientist"
        ]
       ],
       "datasetInfos": [],
       "dbfsResultPath": null,
       "isJsonSchema": true,
       "metadata": {},
       "overflow": false,
       "plotOptions": {
        "customPlotOptions": {},
        "displayType": "table",
        "pivotAggregation": null,
        "pivotColumns": null,
        "xColumns": null,
        "yColumns": null
       },
       "removedWidgets": [],
       "schema": [
        {
         "metadata": "{}",
         "name": "ID",
         "type": "\"string\""
        },
        {
         "metadata": "{}",
         "name": "Customer_ID",
         "type": "\"string\""
        },
        {
         "metadata": "{}",
         "name": "Month",
         "type": "\"string\""
        },
        {
         "metadata": "{}",
         "name": "Name",
         "type": "\"string\""
        },
        {
         "metadata": "{}",
         "name": "Age",
         "type": "\"double\""
        },
        {
         "metadata": "{}",
         "name": "SSN",
         "type": "\"string\""
        },
        {
         "metadata": "{}",
         "name": "Monthly_Inhand_Salary",
         "type": "\"double\""
        },
        {
         "metadata": "{}",
         "name": "Num_Bank_Accounts",
         "type": "\"double\""
        },
        {
         "metadata": "{}",
         "name": "Delay_from_due_date",
         "type": "\"double\""
        },
        {
         "metadata": "{}",
         "name": "Num_Credit_Card",
         "type": "\"double\""
        },
        {
         "metadata": "{}",
         "name": "Interest_Rate",
         "type": "\"double\""
        },
        {
         "metadata": "{}",
         "name": "Type_of_Loan",
         "type": "\"string\""
        },
        {
         "metadata": "{}",
         "name": "Num_Credit_Inquiries",
         "type": "\"double\""
        },
        {
         "metadata": "{}",
         "name": "Credit_Utilization_Ratio",
         "type": "\"double\""
        },
        {
         "metadata": "{}",
         "name": "Credit_History_Age",
         "type": "\"string\""
        },
        {
         "metadata": "{}",
         "name": "Payment_of_Min_Amount",
         "type": "\"string\""
        },
        {
         "metadata": "{}",
         "name": "Total_EMI_per_month",
         "type": "\"double\""
        },
        {
         "metadata": "{}",
         "name": "Num_of_Delayed_Payment",
         "type": "\"double\""
        },
        {
         "metadata": "{}",
         "name": "Num_of_Loan",
         "type": "\"double\""
        },
        {
         "metadata": "{}",
         "name": "Amount_invested_monthly",
         "type": "\"double\""
        },
        {
         "metadata": "{}",
         "name": "Monthly_Balance",
         "type": "\"double\""
        },
        {
         "metadata": "{}",
         "name": "Payment_Behaviour",
         "type": "\"string\""
        },
        {
         "metadata": "{}",
         "name": "Changed_Credit_Limit",
         "type": "\"double\""
        },
        {
         "metadata": "{}",
         "name": "Credit_Score",
         "type": "\"string\""
        },
        {
         "metadata": "{}",
         "name": "Outstanding_Debt",
         "type": "\"double\""
        },
        {
         "metadata": "{}",
         "name": "Annual_Income",
         "type": "\"double\""
        },
        {
         "metadata": "{}",
         "name": "Credit_Mix",
         "type": "\"string\""
        },
        {
         "metadata": "{}",
         "name": "Occupation",
         "type": "\"string\""
        }
       ],
       "type": "table"
      }
     },
     "output_type": "display_data"
    }
   ],
   "source": [
    "A=spark.read.format(\"delta\").load(\"dbfs:/user/hive/warehouse/credit_score_df\")\n",
    "display(A.limit(5))"
   ]
  },
  {
   "cell_type": "code",
   "execution_count": 0,
   "metadata": {
    "application/vnd.databricks.v1+cell": {
     "cellMetadata": {
      "byteLimit": 2048000,
      "rowLimit": 10000
     },
     "inputWidgets": {},
     "nuid": "cda2bc44-9832-4626-b964-a623a389a828",
     "showTitle": false,
     "title": ""
    }
   },
   "outputs": [
    {
     "output_type": "display_data",
     "data": {
      "text/html": [
       "<style scoped>\n",
       "  .table-result-container {\n",
       "    max-height: 300px;\n",
       "    overflow: auto;\n",
       "  }\n",
       "  table, th, td {\n",
       "    border: 1px solid black;\n",
       "    border-collapse: collapse;\n",
       "  }\n",
       "  th, td {\n",
       "    padding: 5px;\n",
       "  }\n",
       "  th {\n",
       "    text-align: left;\n",
       "  }\n",
       "</style><div class='table-result-container'><table class='table-result'><thead style='background-color: white'><tr><th>ID</th><th>Customer_ID</th><th>Age</th><th>Monthly_Inhand_Salary</th><th>Num_Bank_Accounts</th><th>Delay_from_due_date</th><th>Num_Credit_Card</th><th>Interest_Rate</th><th>Num_Credit_Inquiries</th><th>Credit_Utilization_Ratio</th><th>Credit_History_Age</th><th>Payment_of_Min_Amount</th><th>Total_EMI_per_month</th><th>Num_of_Delayed_Payment</th><th>Num_of_Loan</th><th>Amount_invested_monthly</th><th>Monthly_Balance</th><th>Payment_Behaviour</th><th>Changed_Credit_Limit</th><th>Credit_Score</th><th>Outstanding_Debt</th><th>Annual_Income</th><th>Credit_Mix</th><th>Occupation</th></tr></thead><tbody><tr><td>0x1602</td><td>CUS_0xd40</td><td>23.0</td><td>1824.8433333333328</td><td>3.0</td><td>3.0</td><td>4.0</td><td>3.0</td><td>4.0</td><td>26.822619623699016</td><td>22 Years and 1 Months</td><td>No</td><td>49.57494921489417</td><td>7.0</td><td>4.0</td><td>80.41529846191406</td><td>312.49407958984375</td><td>High_spent_Small_value_payments</td><td>11.270000457763672</td><td>Good</td><td>809.97998046875</td><td>19114.119140625</td><td>Standard</td><td>Scientist</td></tr><tr><td>0x1603</td><td>CUS_0xd40</td><td>23.0</td><td>3074.17</td><td>3.0</td><td>1.0</td><td>4.0</td><td>3.0</td><td>4.0</td><td>31.94496005538421</td><td>19 Years and 4 Months</td><td>No</td><td>49.57494921489417</td><td>14.0</td><td>4.0</td><td>118.28022003173828</td><td>284.629150390625</td><td>Low_spent_Large_value_payments</td><td>11.270000457763672</td><td>Good</td><td>809.97998046875</td><td>19114.119140625</td><td>Good</td><td>Scientist</td></tr><tr><td>0x1604</td><td>CUS_0xd40</td><td>33.0</td><td>3074.17</td><td>3.0</td><td>3.0</td><td>4.0</td><td>3.0</td><td>4.0</td><td>28.60935202206993</td><td>22 Years and 3 Months</td><td>No</td><td>49.57494921489417</td><td>7.0</td><td>4.0</td><td>81.69952392578125</td><td>331.2098693847656</td><td>Low_spent_Medium_value_payments</td><td>9.359999656677246</td><td>Good</td><td>809.97998046875</td><td>19114.119140625</td><td>Good</td><td>Scientist</td></tr><tr><td>0x1605</td><td>CUS_0xd40</td><td>23.0</td><td>3074.17</td><td>3.0</td><td>5.0</td><td>4.0</td><td>3.0</td><td>4.0</td><td>31.377861869582354</td><td>22 Years and 4 Months</td><td>No</td><td>49.57494921489417</td><td>4.0</td><td>4.0</td><td>199.45806884765625</td><td>223.45130920410156</td><td>Low_spent_Small_value_payments</td><td>6.269999980926514</td><td>Good</td><td>809.97998046875</td><td>19114.119140625</td><td>Good</td><td>Scientist</td></tr><tr><td>0x1606</td><td>CUS_0xd40</td><td>23.0</td><td>1824.8433333333328</td><td>3.0</td><td>6.0</td><td>4.0</td><td>3.0</td><td>4.0</td><td>24.797346908844986</td><td>22 Years and 5 Months</td><td>No</td><td>49.57494921489417</td><td>14.0</td><td>4.0</td><td>41.4201545715332</td><td>341.4892272949219</td><td>High_spent_Medium_value_payments</td><td>11.270000457763672</td><td>Good</td><td>809.97998046875</td><td>19114.119140625</td><td>Good</td><td>Scientist</td></tr></tbody></table></div>"
      ]
     },
     "metadata": {
      "application/vnd.databricks.v1+output": {
       "addedWidgets": {},
       "aggData": [],
       "aggError": "",
       "aggOverflow": false,
       "aggSchema": [],
       "aggSeriesLimitReached": false,
       "aggType": "",
       "arguments": {},
       "columnCustomDisplayInfos": {},
       "data": [
        [
         "0x1602",
         "CUS_0xd40",
         23.0,
         1824.8433333333328,
         3.0,
         3.0,
         4.0,
         3.0,
         4.0,
         26.822619623699016,
         "22 Years and 1 Months",
         "No",
         49.57494921489417,
         7.0,
         4.0,
         80.41529846191406,
         312.49407958984375,
         "High_spent_Small_value_payments",
         11.270000457763672,
         "Good",
         809.97998046875,
         19114.119140625,
         "Standard",
         "Scientist"
        ],
        [
         "0x1603",
         "CUS_0xd40",
         23.0,
         3074.17,
         3.0,
         1.0,
         4.0,
         3.0,
         4.0,
         31.94496005538421,
         "19 Years and 4 Months",
         "No",
         49.57494921489417,
         14.0,
         4.0,
         118.28022003173828,
         284.629150390625,
         "Low_spent_Large_value_payments",
         11.270000457763672,
         "Good",
         809.97998046875,
         19114.119140625,
         "Good",
         "Scientist"
        ],
        [
         "0x1604",
         "CUS_0xd40",
         33.0,
         3074.17,
         3.0,
         3.0,
         4.0,
         3.0,
         4.0,
         28.60935202206993,
         "22 Years and 3 Months",
         "No",
         49.57494921489417,
         7.0,
         4.0,
         81.69952392578125,
         331.2098693847656,
         "Low_spent_Medium_value_payments",
         9.359999656677246,
         "Good",
         809.97998046875,
         19114.119140625,
         "Good",
         "Scientist"
        ],
        [
         "0x1605",
         "CUS_0xd40",
         23.0,
         3074.17,
         3.0,
         5.0,
         4.0,
         3.0,
         4.0,
         31.377861869582354,
         "22 Years and 4 Months",
         "No",
         49.57494921489417,
         4.0,
         4.0,
         199.45806884765625,
         223.45130920410156,
         "Low_spent_Small_value_payments",
         6.269999980926514,
         "Good",
         809.97998046875,
         19114.119140625,
         "Good",
         "Scientist"
        ],
        [
         "0x1606",
         "CUS_0xd40",
         23.0,
         1824.8433333333328,
         3.0,
         6.0,
         4.0,
         3.0,
         4.0,
         24.797346908844986,
         "22 Years and 5 Months",
         "No",
         49.57494921489417,
         14.0,
         4.0,
         41.4201545715332,
         341.4892272949219,
         "High_spent_Medium_value_payments",
         11.270000457763672,
         "Good",
         809.97998046875,
         19114.119140625,
         "Good",
         "Scientist"
        ]
       ],
       "datasetInfos": [],
       "dbfsResultPath": null,
       "isJsonSchema": true,
       "metadata": {},
       "overflow": false,
       "plotOptions": {
        "customPlotOptions": {},
        "displayType": "table",
        "pivotAggregation": null,
        "pivotColumns": null,
        "xColumns": null,
        "yColumns": null
       },
       "removedWidgets": [],
       "schema": [
        {
         "metadata": "{}",
         "name": "ID",
         "type": "\"string\""
        },
        {
         "metadata": "{}",
         "name": "Customer_ID",
         "type": "\"string\""
        },
        {
         "metadata": "{}",
         "name": "Age",
         "type": "\"double\""
        },
        {
         "metadata": "{}",
         "name": "Monthly_Inhand_Salary",
         "type": "\"double\""
        },
        {
         "metadata": "{}",
         "name": "Num_Bank_Accounts",
         "type": "\"double\""
        },
        {
         "metadata": "{}",
         "name": "Delay_from_due_date",
         "type": "\"double\""
        },
        {
         "metadata": "{}",
         "name": "Num_Credit_Card",
         "type": "\"double\""
        },
        {
         "metadata": "{}",
         "name": "Interest_Rate",
         "type": "\"double\""
        },
        {
         "metadata": "{}",
         "name": "Num_Credit_Inquiries",
         "type": "\"double\""
        },
        {
         "metadata": "{}",
         "name": "Credit_Utilization_Ratio",
         "type": "\"double\""
        },
        {
         "metadata": "{}",
         "name": "Credit_History_Age",
         "type": "\"string\""
        },
        {
         "metadata": "{}",
         "name": "Payment_of_Min_Amount",
         "type": "\"string\""
        },
        {
         "metadata": "{}",
         "name": "Total_EMI_per_month",
         "type": "\"double\""
        },
        {
         "metadata": "{}",
         "name": "Num_of_Delayed_Payment",
         "type": "\"double\""
        },
        {
         "metadata": "{}",
         "name": "Num_of_Loan",
         "type": "\"double\""
        },
        {
         "metadata": "{}",
         "name": "Amount_invested_monthly",
         "type": "\"double\""
        },
        {
         "metadata": "{}",
         "name": "Monthly_Balance",
         "type": "\"double\""
        },
        {
         "metadata": "{}",
         "name": "Payment_Behaviour",
         "type": "\"string\""
        },
        {
         "metadata": "{}",
         "name": "Changed_Credit_Limit",
         "type": "\"double\""
        },
        {
         "metadata": "{}",
         "name": "Credit_Score",
         "type": "\"string\""
        },
        {
         "metadata": "{}",
         "name": "Outstanding_Debt",
         "type": "\"double\""
        },
        {
         "metadata": "{}",
         "name": "Annual_Income",
         "type": "\"double\""
        },
        {
         "metadata": "{}",
         "name": "Credit_Mix",
         "type": "\"string\""
        },
        {
         "metadata": "{}",
         "name": "Occupation",
         "type": "\"string\""
        }
       ],
       "type": "table"
      }
     },
     "output_type": "display_data"
    }
   ],
   "source": [
    "# Dropping insignificant columns\n",
    "train_df=A.drop(\"name\",\"ssn\",\"month\",\"Type_of_Loan\") \n",
    "display(train_df.limit(5))"
   ]
  },
  {
   "cell_type": "markdown",
   "metadata": {
    "application/vnd.databricks.v1+cell": {
     "cellMetadata": {
      "byteLimit": 2048000,
      "rowLimit": 10000
     },
     "inputWidgets": {},
     "nuid": "06e7e379-9a0d-4f82-8962-2bfdac9f6481",
     "showTitle": false,
     "title": ""
    }
   },
   "source": [
    "##  <p style=\"padding:10px;background-color:Pink ;margin:10;color:#000000;font-family:newtimeroman;font-size:100%;border-radius: 10px 10px ;overflow:hidden;font-weight:50\">Feature Engineering</p>"
   ]
  },
  {
   "cell_type": "markdown",
   "metadata": {
    "application/vnd.databricks.v1+cell": {
     "cellMetadata": {
      "byteLimit": 2048000,
      "rowLimit": 10000
     },
     "inputWidgets": {},
     "nuid": "b2c0541c-17d0-47d8-b396-a03c3cb32ccd",
     "showTitle": false,
     "title": ""
    }
   },
   "source": [
    "#### i) Extracting total year from credit_history_age column"
   ]
  },
  {
   "cell_type": "markdown",
   "metadata": {
    "application/vnd.databricks.v1+cell": {
     "cellMetadata": {
      "byteLimit": 2048000,
      "rowLimit": 10000
     },
     "inputWidgets": {},
     "nuid": "5737b279-615e-47b1-b515-bbb561400d83",
     "showTitle": false,
     "title": ""
    }
   },
   "source": [
    "#### Refrence -\n",
    "https://spark.apache.org/docs/2.4.5/api/python/pyspark.sql.html?highlight=regexp#pyspark.sql.functions.regexp_extract\n"
   ]
  },
  {
   "cell_type": "code",
   "execution_count": 0,
   "metadata": {
    "application/vnd.databricks.v1+cell": {
     "cellMetadata": {
      "byteLimit": 2048000,
      "rowLimit": 10000
     },
     "inputWidgets": {},
     "nuid": "405a5ca0-326b-442f-9e46-8e6b6e116191",
     "showTitle": false,
     "title": ""
    }
   },
   "outputs": [
    {
     "output_type": "stream",
     "name": "stdout",
     "output_type": "stream",
     "text": [
      "+----+------+\n|year|months|\n+----+------+\n|  22|     1|\n|  19|     4|\n|  22|     3|\n|  22|     4|\n|  22|     5|\n+----+------+\nonly showing top 5 rows\n\n"
     ]
    }
   ],
   "source": [
    "from pyspark.sql.functions import regexp_extract,col,cast\n",
    "train_df=train_df.withColumn(\"Year\",regexp_extract(col(\"credit_history_age\"),r'(\\d+)\\s+Years',1).cast('int'))\n",
    "train_df=train_df.withColumn(\"Months\",regexp_extract(col(\"credit_history_age\"),r'(\\d+)\\s+Months',1).cast('int'))\n",
    "train_df.select(\"year\",\"months\").show(5)"
   ]
  },
  {
   "cell_type": "code",
   "execution_count": 0,
   "metadata": {
    "application/vnd.databricks.v1+cell": {
     "cellMetadata": {
      "byteLimit": 2048000,
      "rowLimit": 10000
     },
     "inputWidgets": {},
     "nuid": "f8245fac-c348-4fd8-91c1-d882f91b5ccd",
     "showTitle": false,
     "title": ""
    }
   },
   "outputs": [
    {
     "output_type": "display_data",
     "data": {
      "text/html": [
       "<style scoped>\n",
       "  .table-result-container {\n",
       "    max-height: 300px;\n",
       "    overflow: auto;\n",
       "  }\n",
       "  table, th, td {\n",
       "    border: 1px solid black;\n",
       "    border-collapse: collapse;\n",
       "  }\n",
       "  th, td {\n",
       "    padding: 5px;\n",
       "  }\n",
       "  th {\n",
       "    text-align: left;\n",
       "  }\n",
       "</style><div class='table-result-container'><table class='table-result'><thead style='background-color: white'><tr><th>ID</th><th>Customer_ID</th><th>Age</th><th>Monthly_Inhand_Salary</th><th>Num_Bank_Accounts</th><th>Delay_from_due_date</th><th>Num_Credit_Card</th><th>Interest_Rate</th><th>Num_Credit_Inquiries</th><th>Credit_Utilization_Ratio</th><th>Payment_of_Min_Amount</th><th>Total_EMI_per_month</th><th>Num_of_Delayed_Payment</th><th>Num_of_Loan</th><th>Amount_invested_monthly</th><th>Monthly_Balance</th><th>Payment_Behaviour</th><th>Changed_Credit_Limit</th><th>Credit_Score</th><th>Outstanding_Debt</th><th>Annual_Income</th><th>Credit_Mix</th><th>Occupation</th><th>credit_history_age_new</th></tr></thead><tbody><tr><td>0x1602</td><td>CUS_0xd40</td><td>23.0</td><td>1824.8433333333328</td><td>3.0</td><td>3.0</td><td>4.0</td><td>3.0</td><td>4.0</td><td>26.822619623699016</td><td>No</td><td>49.57494921489417</td><td>7.0</td><td>4.0</td><td>80.41529846191406</td><td>312.49407958984375</td><td>High_spent_Small_value_payments</td><td>11.270000457763672</td><td>Good</td><td>809.97998046875</td><td>19114.119140625</td><td>Standard</td><td>Scientist</td><td>22.083334</td></tr><tr><td>0x1603</td><td>CUS_0xd40</td><td>23.0</td><td>3074.17</td><td>3.0</td><td>1.0</td><td>4.0</td><td>3.0</td><td>4.0</td><td>31.94496005538421</td><td>No</td><td>49.57494921489417</td><td>14.0</td><td>4.0</td><td>118.28022003173828</td><td>284.629150390625</td><td>Low_spent_Large_value_payments</td><td>11.270000457763672</td><td>Good</td><td>809.97998046875</td><td>19114.119140625</td><td>Good</td><td>Scientist</td><td>19.333334</td></tr><tr><td>0x1604</td><td>CUS_0xd40</td><td>33.0</td><td>3074.17</td><td>3.0</td><td>3.0</td><td>4.0</td><td>3.0</td><td>4.0</td><td>28.60935202206993</td><td>No</td><td>49.57494921489417</td><td>7.0</td><td>4.0</td><td>81.69952392578125</td><td>331.2098693847656</td><td>Low_spent_Medium_value_payments</td><td>9.359999656677246</td><td>Good</td><td>809.97998046875</td><td>19114.119140625</td><td>Good</td><td>Scientist</td><td>22.25</td></tr><tr><td>0x1605</td><td>CUS_0xd40</td><td>23.0</td><td>3074.17</td><td>3.0</td><td>5.0</td><td>4.0</td><td>3.0</td><td>4.0</td><td>31.377861869582354</td><td>No</td><td>49.57494921489417</td><td>4.0</td><td>4.0</td><td>199.45806884765625</td><td>223.45130920410156</td><td>Low_spent_Small_value_payments</td><td>6.269999980926514</td><td>Good</td><td>809.97998046875</td><td>19114.119140625</td><td>Good</td><td>Scientist</td><td>22.333334</td></tr><tr><td>0x1606</td><td>CUS_0xd40</td><td>23.0</td><td>1824.8433333333328</td><td>3.0</td><td>6.0</td><td>4.0</td><td>3.0</td><td>4.0</td><td>24.797346908844986</td><td>No</td><td>49.57494921489417</td><td>14.0</td><td>4.0</td><td>41.4201545715332</td><td>341.4892272949219</td><td>High_spent_Medium_value_payments</td><td>11.270000457763672</td><td>Good</td><td>809.97998046875</td><td>19114.119140625</td><td>Good</td><td>Scientist</td><td>22.416666</td></tr></tbody></table></div>"
      ]
     },
     "metadata": {
      "application/vnd.databricks.v1+output": {
       "addedWidgets": {},
       "aggData": [],
       "aggError": "",
       "aggOverflow": false,
       "aggSchema": [],
       "aggSeriesLimitReached": false,
       "aggType": "",
       "arguments": {},
       "columnCustomDisplayInfos": {},
       "data": [
        [
         "0x1602",
         "CUS_0xd40",
         23.0,
         1824.8433333333328,
         3.0,
         3.0,
         4.0,
         3.0,
         4.0,
         26.822619623699016,
         "No",
         49.57494921489417,
         7.0,
         4.0,
         80.41529846191406,
         312.49407958984375,
         "High_spent_Small_value_payments",
         11.270000457763672,
         "Good",
         809.97998046875,
         19114.119140625,
         "Standard",
         "Scientist",
         22.083334
        ],
        [
         "0x1603",
         "CUS_0xd40",
         23.0,
         3074.17,
         3.0,
         1.0,
         4.0,
         3.0,
         4.0,
         31.94496005538421,
         "No",
         49.57494921489417,
         14.0,
         4.0,
         118.28022003173828,
         284.629150390625,
         "Low_spent_Large_value_payments",
         11.270000457763672,
         "Good",
         809.97998046875,
         19114.119140625,
         "Good",
         "Scientist",
         19.333334
        ],
        [
         "0x1604",
         "CUS_0xd40",
         33.0,
         3074.17,
         3.0,
         3.0,
         4.0,
         3.0,
         4.0,
         28.60935202206993,
         "No",
         49.57494921489417,
         7.0,
         4.0,
         81.69952392578125,
         331.2098693847656,
         "Low_spent_Medium_value_payments",
         9.359999656677246,
         "Good",
         809.97998046875,
         19114.119140625,
         "Good",
         "Scientist",
         22.25
        ],
        [
         "0x1605",
         "CUS_0xd40",
         23.0,
         3074.17,
         3.0,
         5.0,
         4.0,
         3.0,
         4.0,
         31.377861869582354,
         "No",
         49.57494921489417,
         4.0,
         4.0,
         199.45806884765625,
         223.45130920410156,
         "Low_spent_Small_value_payments",
         6.269999980926514,
         "Good",
         809.97998046875,
         19114.119140625,
         "Good",
         "Scientist",
         22.333334
        ],
        [
         "0x1606",
         "CUS_0xd40",
         23.0,
         1824.8433333333328,
         3.0,
         6.0,
         4.0,
         3.0,
         4.0,
         24.797346908844986,
         "No",
         49.57494921489417,
         14.0,
         4.0,
         41.4201545715332,
         341.4892272949219,
         "High_spent_Medium_value_payments",
         11.270000457763672,
         "Good",
         809.97998046875,
         19114.119140625,
         "Good",
         "Scientist",
         22.416666
        ]
       ],
       "datasetInfos": [],
       "dbfsResultPath": null,
       "isJsonSchema": true,
       "metadata": {},
       "overflow": false,
       "plotOptions": {
        "customPlotOptions": {},
        "displayType": "table",
        "pivotAggregation": null,
        "pivotColumns": null,
        "xColumns": null,
        "yColumns": null
       },
       "removedWidgets": [],
       "schema": [
        {
         "metadata": "{}",
         "name": "ID",
         "type": "\"string\""
        },
        {
         "metadata": "{}",
         "name": "Customer_ID",
         "type": "\"string\""
        },
        {
         "metadata": "{}",
         "name": "Age",
         "type": "\"double\""
        },
        {
         "metadata": "{}",
         "name": "Monthly_Inhand_Salary",
         "type": "\"double\""
        },
        {
         "metadata": "{}",
         "name": "Num_Bank_Accounts",
         "type": "\"double\""
        },
        {
         "metadata": "{}",
         "name": "Delay_from_due_date",
         "type": "\"double\""
        },
        {
         "metadata": "{}",
         "name": "Num_Credit_Card",
         "type": "\"double\""
        },
        {
         "metadata": "{}",
         "name": "Interest_Rate",
         "type": "\"double\""
        },
        {
         "metadata": "{}",
         "name": "Num_Credit_Inquiries",
         "type": "\"double\""
        },
        {
         "metadata": "{}",
         "name": "Credit_Utilization_Ratio",
         "type": "\"double\""
        },
        {
         "metadata": "{}",
         "name": "Payment_of_Min_Amount",
         "type": "\"string\""
        },
        {
         "metadata": "{}",
         "name": "Total_EMI_per_month",
         "type": "\"double\""
        },
        {
         "metadata": "{}",
         "name": "Num_of_Delayed_Payment",
         "type": "\"double\""
        },
        {
         "metadata": "{}",
         "name": "Num_of_Loan",
         "type": "\"double\""
        },
        {
         "metadata": "{}",
         "name": "Amount_invested_monthly",
         "type": "\"double\""
        },
        {
         "metadata": "{}",
         "name": "Monthly_Balance",
         "type": "\"double\""
        },
        {
         "metadata": "{}",
         "name": "Payment_Behaviour",
         "type": "\"string\""
        },
        {
         "metadata": "{}",
         "name": "Changed_Credit_Limit",
         "type": "\"double\""
        },
        {
         "metadata": "{}",
         "name": "Credit_Score",
         "type": "\"string\""
        },
        {
         "metadata": "{}",
         "name": "Outstanding_Debt",
         "type": "\"double\""
        },
        {
         "metadata": "{}",
         "name": "Annual_Income",
         "type": "\"double\""
        },
        {
         "metadata": "{}",
         "name": "Credit_Mix",
         "type": "\"string\""
        },
        {
         "metadata": "{}",
         "name": "Occupation",
         "type": "\"string\""
        },
        {
         "metadata": "{}",
         "name": "credit_history_age_new",
         "type": "\"float\""
        }
       ],
       "type": "table"
      }
     },
     "output_type": "display_data"
    }
   ],
   "source": [
    "train_df=train_df.withColumn(\"credit_history_age_new\",col(\"year\")+(col(\"months\")/12).cast('float')).drop(\"year\",\"months\",\"credit_history_age\")\n",
    "display(train_df.limit(5))"
   ]
  },
  {
   "cell_type": "markdown",
   "metadata": {
    "application/vnd.databricks.v1+cell": {
     "cellMetadata": {
      "byteLimit": 2048000,
      "rowLimit": 10000
     },
     "inputWidgets": {},
     "nuid": "00871952-be78-4823-9ee3-c85c07e6a199",
     "showTitle": false,
     "title": ""
    }
   },
   "source": [
    "#### ii) Credit_Age_Proportion\n",
    "This feature indicates how long the customer has had credit relative to their age, which can influence their credit score. A higher proportion might indicate a more mature credit history.\n",
    "\n",
    "Formula: Credit_Age_Proportion = Credit_History_Age_New / Age"
   ]
  },
  {
   "cell_type": "code",
   "execution_count": 0,
   "metadata": {
    "application/vnd.databricks.v1+cell": {
     "cellMetadata": {
      "byteLimit": 2048000,
      "rowLimit": 10000
     },
     "inputWidgets": {},
     "nuid": "eaa80434-f6e0-4a10-862b-371a4a1d815e",
     "showTitle": false,
     "title": ""
    }
   },
   "outputs": [
    {
     "output_type": "display_data",
     "data": {
      "text/html": [
       "<style scoped>\n",
       "  .table-result-container {\n",
       "    max-height: 300px;\n",
       "    overflow: auto;\n",
       "  }\n",
       "  table, th, td {\n",
       "    border: 1px solid black;\n",
       "    border-collapse: collapse;\n",
       "  }\n",
       "  th, td {\n",
       "    padding: 5px;\n",
       "  }\n",
       "  th {\n",
       "    text-align: left;\n",
       "  }\n",
       "</style><div class='table-result-container'><table class='table-result'><thead style='background-color: white'><tr><th>ID</th><th>Customer_ID</th><th>Age</th><th>Monthly_Inhand_Salary</th><th>Num_Bank_Accounts</th><th>Delay_from_due_date</th><th>Num_Credit_Card</th><th>Interest_Rate</th><th>Num_Credit_Inquiries</th><th>Credit_Utilization_Ratio</th><th>Payment_of_Min_Amount</th><th>Total_EMI_per_month</th><th>Num_of_Delayed_Payment</th><th>Num_of_Loan</th><th>Amount_invested_monthly</th><th>Monthly_Balance</th><th>Payment_Behaviour</th><th>Changed_Credit_Limit</th><th>Credit_Score</th><th>Outstanding_Debt</th><th>Annual_Income</th><th>Credit_Mix</th><th>Occupation</th><th>credit_history_age_new</th><th>credit_Age_Proportion</th></tr></thead><tbody><tr><td>0x1602</td><td>CUS_0xd40</td><td>23.0</td><td>1824.8433333333328</td><td>3.0</td><td>3.0</td><td>4.0</td><td>3.0</td><td>4.0</td><td>26.822619623699016</td><td>No</td><td>49.57494921489417</td><td>7.0</td><td>4.0</td><td>80.41529846191406</td><td>312.49407958984375</td><td>High_spent_Small_value_payments</td><td>11.270000457763672</td><td>Good</td><td>809.97998046875</td><td>19114.119140625</td><td>Standard</td><td>Scientist</td><td>22.083334</td><td>0.9601449551789657</td></tr><tr><td>0x1603</td><td>CUS_0xd40</td><td>23.0</td><td>3074.17</td><td>3.0</td><td>1.0</td><td>4.0</td><td>3.0</td><td>4.0</td><td>31.94496005538421</td><td>No</td><td>49.57494921489417</td><td>14.0</td><td>4.0</td><td>118.28022003173828</td><td>284.629150390625</td><td>Low_spent_Large_value_payments</td><td>11.270000457763672</td><td>Good</td><td>809.97998046875</td><td>19114.119140625</td><td>Good</td><td>Scientist</td><td>19.333334</td><td>0.8405797377876614</td></tr><tr><td>0x1604</td><td>CUS_0xd40</td><td>33.0</td><td>3074.17</td><td>3.0</td><td>3.0</td><td>4.0</td><td>3.0</td><td>4.0</td><td>28.60935202206993</td><td>No</td><td>49.57494921489417</td><td>7.0</td><td>4.0</td><td>81.69952392578125</td><td>331.2098693847656</td><td>Low_spent_Medium_value_payments</td><td>9.359999656677246</td><td>Good</td><td>809.97998046875</td><td>19114.119140625</td><td>Good</td><td>Scientist</td><td>22.25</td><td>0.6742424242424242</td></tr><tr><td>0x1605</td><td>CUS_0xd40</td><td>23.0</td><td>3074.17</td><td>3.0</td><td>5.0</td><td>4.0</td><td>3.0</td><td>4.0</td><td>31.377861869582354</td><td>No</td><td>49.57494921489417</td><td>4.0</td><td>4.0</td><td>199.45806884765625</td><td>223.45130920410156</td><td>Low_spent_Small_value_payments</td><td>6.269999980926514</td><td>Good</td><td>809.97998046875</td><td>19114.119140625</td><td>Good</td><td>Scientist</td><td>22.333334</td><td>0.971014520396357</td></tr><tr><td>0x1606</td><td>CUS_0xd40</td><td>23.0</td><td>1824.8433333333328</td><td>3.0</td><td>6.0</td><td>4.0</td><td>3.0</td><td>4.0</td><td>24.797346908844986</td><td>No</td><td>49.57494921489417</td><td>14.0</td><td>4.0</td><td>41.4201545715332</td><td>341.4892272949219</td><td>High_spent_Medium_value_payments</td><td>11.270000457763672</td><td>Good</td><td>809.97998046875</td><td>19114.119140625</td><td>Good</td><td>Scientist</td><td>22.416666</td><td>0.9746376535166865</td></tr></tbody></table></div>"
      ]
     },
     "metadata": {
      "application/vnd.databricks.v1+output": {
       "addedWidgets": {},
       "aggData": [],
       "aggError": "",
       "aggOverflow": false,
       "aggSchema": [],
       "aggSeriesLimitReached": false,
       "aggType": "",
       "arguments": {},
       "columnCustomDisplayInfos": {},
       "data": [
        [
         "0x1602",
         "CUS_0xd40",
         23.0,
         1824.8433333333328,
         3.0,
         3.0,
         4.0,
         3.0,
         4.0,
         26.822619623699016,
         "No",
         49.57494921489417,
         7.0,
         4.0,
         80.41529846191406,
         312.49407958984375,
         "High_spent_Small_value_payments",
         11.270000457763672,
         "Good",
         809.97998046875,
         19114.119140625,
         "Standard",
         "Scientist",
         22.083334,
         0.9601449551789657
        ],
        [
         "0x1603",
         "CUS_0xd40",
         23.0,
         3074.17,
         3.0,
         1.0,
         4.0,
         3.0,
         4.0,
         31.94496005538421,
         "No",
         49.57494921489417,
         14.0,
         4.0,
         118.28022003173828,
         284.629150390625,
         "Low_spent_Large_value_payments",
         11.270000457763672,
         "Good",
         809.97998046875,
         19114.119140625,
         "Good",
         "Scientist",
         19.333334,
         0.8405797377876614
        ],
        [
         "0x1604",
         "CUS_0xd40",
         33.0,
         3074.17,
         3.0,
         3.0,
         4.0,
         3.0,
         4.0,
         28.60935202206993,
         "No",
         49.57494921489417,
         7.0,
         4.0,
         81.69952392578125,
         331.2098693847656,
         "Low_spent_Medium_value_payments",
         9.359999656677246,
         "Good",
         809.97998046875,
         19114.119140625,
         "Good",
         "Scientist",
         22.25,
         0.6742424242424242
        ],
        [
         "0x1605",
         "CUS_0xd40",
         23.0,
         3074.17,
         3.0,
         5.0,
         4.0,
         3.0,
         4.0,
         31.377861869582354,
         "No",
         49.57494921489417,
         4.0,
         4.0,
         199.45806884765625,
         223.45130920410156,
         "Low_spent_Small_value_payments",
         6.269999980926514,
         "Good",
         809.97998046875,
         19114.119140625,
         "Good",
         "Scientist",
         22.333334,
         0.971014520396357
        ],
        [
         "0x1606",
         "CUS_0xd40",
         23.0,
         1824.8433333333328,
         3.0,
         6.0,
         4.0,
         3.0,
         4.0,
         24.797346908844986,
         "No",
         49.57494921489417,
         14.0,
         4.0,
         41.4201545715332,
         341.4892272949219,
         "High_spent_Medium_value_payments",
         11.270000457763672,
         "Good",
         809.97998046875,
         19114.119140625,
         "Good",
         "Scientist",
         22.416666,
         0.9746376535166865
        ]
       ],
       "datasetInfos": [],
       "dbfsResultPath": null,
       "isJsonSchema": true,
       "metadata": {},
       "overflow": false,
       "plotOptions": {
        "customPlotOptions": {},
        "displayType": "table",
        "pivotAggregation": null,
        "pivotColumns": null,
        "xColumns": null,
        "yColumns": null
       },
       "removedWidgets": [],
       "schema": [
        {
         "metadata": "{}",
         "name": "ID",
         "type": "\"string\""
        },
        {
         "metadata": "{}",
         "name": "Customer_ID",
         "type": "\"string\""
        },
        {
         "metadata": "{}",
         "name": "Age",
         "type": "\"double\""
        },
        {
         "metadata": "{}",
         "name": "Monthly_Inhand_Salary",
         "type": "\"double\""
        },
        {
         "metadata": "{}",
         "name": "Num_Bank_Accounts",
         "type": "\"double\""
        },
        {
         "metadata": "{}",
         "name": "Delay_from_due_date",
         "type": "\"double\""
        },
        {
         "metadata": "{}",
         "name": "Num_Credit_Card",
         "type": "\"double\""
        },
        {
         "metadata": "{}",
         "name": "Interest_Rate",
         "type": "\"double\""
        },
        {
         "metadata": "{}",
         "name": "Num_Credit_Inquiries",
         "type": "\"double\""
        },
        {
         "metadata": "{}",
         "name": "Credit_Utilization_Ratio",
         "type": "\"double\""
        },
        {
         "metadata": "{}",
         "name": "Payment_of_Min_Amount",
         "type": "\"string\""
        },
        {
         "metadata": "{}",
         "name": "Total_EMI_per_month",
         "type": "\"double\""
        },
        {
         "metadata": "{}",
         "name": "Num_of_Delayed_Payment",
         "type": "\"double\""
        },
        {
         "metadata": "{}",
         "name": "Num_of_Loan",
         "type": "\"double\""
        },
        {
         "metadata": "{}",
         "name": "Amount_invested_monthly",
         "type": "\"double\""
        },
        {
         "metadata": "{}",
         "name": "Monthly_Balance",
         "type": "\"double\""
        },
        {
         "metadata": "{}",
         "name": "Payment_Behaviour",
         "type": "\"string\""
        },
        {
         "metadata": "{}",
         "name": "Changed_Credit_Limit",
         "type": "\"double\""
        },
        {
         "metadata": "{}",
         "name": "Credit_Score",
         "type": "\"string\""
        },
        {
         "metadata": "{}",
         "name": "Outstanding_Debt",
         "type": "\"double\""
        },
        {
         "metadata": "{}",
         "name": "Annual_Income",
         "type": "\"double\""
        },
        {
         "metadata": "{}",
         "name": "Credit_Mix",
         "type": "\"string\""
        },
        {
         "metadata": "{}",
         "name": "Occupation",
         "type": "\"string\""
        },
        {
         "metadata": "{}",
         "name": "credit_history_age_new",
         "type": "\"float\""
        },
        {
         "metadata": "{}",
         "name": "credit_Age_Proportion",
         "type": "\"double\""
        }
       ],
       "type": "table"
      }
     },
     "output_type": "display_data"
    }
   ],
   "source": [
    "train_df=train_df.withColumn(\"credit_Age_Proportion\",col(\"credit_history_age_new\")/col(\"Age\"))\n",
    "display(train_df.limit(5))"
   ]
  },
  {
   "cell_type": "markdown",
   "metadata": {
    "application/vnd.databricks.v1+cell": {
     "cellMetadata": {
      "byteLimit": 2048000,
      "rowLimit": 10000
     },
     "inputWidgets": {},
     "nuid": "caa4e99b-40d5-4513-9101-446da7c313f6",
     "showTitle": false,
     "title": ""
    }
   },
   "source": [
    "#### iii) Debt_to_income_ratio\n",
    "This ratio is a strong indicator of an individual's ability to manage debt relative to their income, which is critical for assessing creditworthiness.\n",
    "\n",
    "Formula: Debt-to-Income Ratio = Outstanding_Debt / Annual_Income"
   ]
  },
  {
   "cell_type": "code",
   "execution_count": 0,
   "metadata": {
    "application/vnd.databricks.v1+cell": {
     "cellMetadata": {
      "byteLimit": 2048000,
      "rowLimit": 10000
     },
     "inputWidgets": {},
     "nuid": "0ccb5611-6441-4a34-9d1d-3954854ecd4d",
     "showTitle": false,
     "title": ""
    }
   },
   "outputs": [
    {
     "output_type": "display_data",
     "data": {
      "text/html": [
       "<style scoped>\n",
       "  .table-result-container {\n",
       "    max-height: 300px;\n",
       "    overflow: auto;\n",
       "  }\n",
       "  table, th, td {\n",
       "    border: 1px solid black;\n",
       "    border-collapse: collapse;\n",
       "  }\n",
       "  th, td {\n",
       "    padding: 5px;\n",
       "  }\n",
       "  th {\n",
       "    text-align: left;\n",
       "  }\n",
       "</style><div class='table-result-container'><table class='table-result'><thead style='background-color: white'><tr><th>ID</th><th>Customer_ID</th><th>Age</th><th>Monthly_Inhand_Salary</th><th>Num_Bank_Accounts</th><th>Delay_from_due_date</th><th>Num_Credit_Card</th><th>Interest_Rate</th><th>Num_Credit_Inquiries</th><th>Credit_Utilization_Ratio</th><th>Payment_of_Min_Amount</th><th>Total_EMI_per_month</th><th>Num_of_Delayed_Payment</th><th>Num_of_Loan</th><th>Amount_invested_monthly</th><th>Monthly_Balance</th><th>Payment_Behaviour</th><th>Changed_Credit_Limit</th><th>Credit_Score</th><th>Outstanding_Debt</th><th>Annual_Income</th><th>Credit_Mix</th><th>Occupation</th><th>credit_history_age_new</th><th>credit_Age_Proportion</th><th>debt_to_income_ratio</th></tr></thead><tbody><tr><td>0x1602</td><td>CUS_0xd40</td><td>23.0</td><td>1824.8433333333328</td><td>3.0</td><td>3.0</td><td>4.0</td><td>3.0</td><td>4.0</td><td>26.822619623699016</td><td>No</td><td>49.57494921489417</td><td>7.0</td><td>4.0</td><td>80.41529846191406</td><td>312.49407958984375</td><td>High_spent_Small_value_payments</td><td>11.270000457763672</td><td>Good</td><td>809.97998046875</td><td>19114.119140625</td><td>Standard</td><td>Scientist</td><td>22.083334</td><td>0.9601449551789657</td><td>0.0423760035453177</td></tr><tr><td>0x1603</td><td>CUS_0xd40</td><td>23.0</td><td>3074.17</td><td>3.0</td><td>1.0</td><td>4.0</td><td>3.0</td><td>4.0</td><td>31.94496005538421</td><td>No</td><td>49.57494921489417</td><td>14.0</td><td>4.0</td><td>118.28022003173828</td><td>284.629150390625</td><td>Low_spent_Large_value_payments</td><td>11.270000457763672</td><td>Good</td><td>809.97998046875</td><td>19114.119140625</td><td>Good</td><td>Scientist</td><td>19.333334</td><td>0.8405797377876614</td><td>0.0423760035453177</td></tr><tr><td>0x1604</td><td>CUS_0xd40</td><td>33.0</td><td>3074.17</td><td>3.0</td><td>3.0</td><td>4.0</td><td>3.0</td><td>4.0</td><td>28.60935202206993</td><td>No</td><td>49.57494921489417</td><td>7.0</td><td>4.0</td><td>81.69952392578125</td><td>331.2098693847656</td><td>Low_spent_Medium_value_payments</td><td>9.359999656677246</td><td>Good</td><td>809.97998046875</td><td>19114.119140625</td><td>Good</td><td>Scientist</td><td>22.25</td><td>0.6742424242424242</td><td>0.0423760035453177</td></tr><tr><td>0x1605</td><td>CUS_0xd40</td><td>23.0</td><td>3074.17</td><td>3.0</td><td>5.0</td><td>4.0</td><td>3.0</td><td>4.0</td><td>31.377861869582354</td><td>No</td><td>49.57494921489417</td><td>4.0</td><td>4.0</td><td>199.45806884765625</td><td>223.45130920410156</td><td>Low_spent_Small_value_payments</td><td>6.269999980926514</td><td>Good</td><td>809.97998046875</td><td>19114.119140625</td><td>Good</td><td>Scientist</td><td>22.333334</td><td>0.971014520396357</td><td>0.0423760035453177</td></tr><tr><td>0x1606</td><td>CUS_0xd40</td><td>23.0</td><td>1824.8433333333328</td><td>3.0</td><td>6.0</td><td>4.0</td><td>3.0</td><td>4.0</td><td>24.797346908844986</td><td>No</td><td>49.57494921489417</td><td>14.0</td><td>4.0</td><td>41.4201545715332</td><td>341.4892272949219</td><td>High_spent_Medium_value_payments</td><td>11.270000457763672</td><td>Good</td><td>809.97998046875</td><td>19114.119140625</td><td>Good</td><td>Scientist</td><td>22.416666</td><td>0.9746376535166865</td><td>0.0423760035453177</td></tr></tbody></table></div>"
      ]
     },
     "metadata": {
      "application/vnd.databricks.v1+output": {
       "addedWidgets": {},
       "aggData": [],
       "aggError": "",
       "aggOverflow": false,
       "aggSchema": [],
       "aggSeriesLimitReached": false,
       "aggType": "",
       "arguments": {},
       "columnCustomDisplayInfos": {},
       "data": [
        [
         "0x1602",
         "CUS_0xd40",
         23.0,
         1824.8433333333328,
         3.0,
         3.0,
         4.0,
         3.0,
         4.0,
         26.822619623699016,
         "No",
         49.57494921489417,
         7.0,
         4.0,
         80.41529846191406,
         312.49407958984375,
         "High_spent_Small_value_payments",
         11.270000457763672,
         "Good",
         809.97998046875,
         19114.119140625,
         "Standard",
         "Scientist",
         22.083334,
         0.9601449551789657,
         0.0423760035453177
        ],
        [
         "0x1603",
         "CUS_0xd40",
         23.0,
         3074.17,
         3.0,
         1.0,
         4.0,
         3.0,
         4.0,
         31.94496005538421,
         "No",
         49.57494921489417,
         14.0,
         4.0,
         118.28022003173828,
         284.629150390625,
         "Low_spent_Large_value_payments",
         11.270000457763672,
         "Good",
         809.97998046875,
         19114.119140625,
         "Good",
         "Scientist",
         19.333334,
         0.8405797377876614,
         0.0423760035453177
        ],
        [
         "0x1604",
         "CUS_0xd40",
         33.0,
         3074.17,
         3.0,
         3.0,
         4.0,
         3.0,
         4.0,
         28.60935202206993,
         "No",
         49.57494921489417,
         7.0,
         4.0,
         81.69952392578125,
         331.2098693847656,
         "Low_spent_Medium_value_payments",
         9.359999656677246,
         "Good",
         809.97998046875,
         19114.119140625,
         "Good",
         "Scientist",
         22.25,
         0.6742424242424242,
         0.0423760035453177
        ],
        [
         "0x1605",
         "CUS_0xd40",
         23.0,
         3074.17,
         3.0,
         5.0,
         4.0,
         3.0,
         4.0,
         31.377861869582354,
         "No",
         49.57494921489417,
         4.0,
         4.0,
         199.45806884765625,
         223.45130920410156,
         "Low_spent_Small_value_payments",
         6.269999980926514,
         "Good",
         809.97998046875,
         19114.119140625,
         "Good",
         "Scientist",
         22.333334,
         0.971014520396357,
         0.0423760035453177
        ],
        [
         "0x1606",
         "CUS_0xd40",
         23.0,
         1824.8433333333328,
         3.0,
         6.0,
         4.0,
         3.0,
         4.0,
         24.797346908844986,
         "No",
         49.57494921489417,
         14.0,
         4.0,
         41.4201545715332,
         341.4892272949219,
         "High_spent_Medium_value_payments",
         11.270000457763672,
         "Good",
         809.97998046875,
         19114.119140625,
         "Good",
         "Scientist",
         22.416666,
         0.9746376535166865,
         0.0423760035453177
        ]
       ],
       "datasetInfos": [],
       "dbfsResultPath": null,
       "isJsonSchema": true,
       "metadata": {},
       "overflow": false,
       "plotOptions": {
        "customPlotOptions": {},
        "displayType": "table",
        "pivotAggregation": null,
        "pivotColumns": null,
        "xColumns": null,
        "yColumns": null
       },
       "removedWidgets": [],
       "schema": [
        {
         "metadata": "{}",
         "name": "ID",
         "type": "\"string\""
        },
        {
         "metadata": "{}",
         "name": "Customer_ID",
         "type": "\"string\""
        },
        {
         "metadata": "{}",
         "name": "Age",
         "type": "\"double\""
        },
        {
         "metadata": "{}",
         "name": "Monthly_Inhand_Salary",
         "type": "\"double\""
        },
        {
         "metadata": "{}",
         "name": "Num_Bank_Accounts",
         "type": "\"double\""
        },
        {
         "metadata": "{}",
         "name": "Delay_from_due_date",
         "type": "\"double\""
        },
        {
         "metadata": "{}",
         "name": "Num_Credit_Card",
         "type": "\"double\""
        },
        {
         "metadata": "{}",
         "name": "Interest_Rate",
         "type": "\"double\""
        },
        {
         "metadata": "{}",
         "name": "Num_Credit_Inquiries",
         "type": "\"double\""
        },
        {
         "metadata": "{}",
         "name": "Credit_Utilization_Ratio",
         "type": "\"double\""
        },
        {
         "metadata": "{}",
         "name": "Payment_of_Min_Amount",
         "type": "\"string\""
        },
        {
         "metadata": "{}",
         "name": "Total_EMI_per_month",
         "type": "\"double\""
        },
        {
         "metadata": "{}",
         "name": "Num_of_Delayed_Payment",
         "type": "\"double\""
        },
        {
         "metadata": "{}",
         "name": "Num_of_Loan",
         "type": "\"double\""
        },
        {
         "metadata": "{}",
         "name": "Amount_invested_monthly",
         "type": "\"double\""
        },
        {
         "metadata": "{}",
         "name": "Monthly_Balance",
         "type": "\"double\""
        },
        {
         "metadata": "{}",
         "name": "Payment_Behaviour",
         "type": "\"string\""
        },
        {
         "metadata": "{}",
         "name": "Changed_Credit_Limit",
         "type": "\"double\""
        },
        {
         "metadata": "{}",
         "name": "Credit_Score",
         "type": "\"string\""
        },
        {
         "metadata": "{}",
         "name": "Outstanding_Debt",
         "type": "\"double\""
        },
        {
         "metadata": "{}",
         "name": "Annual_Income",
         "type": "\"double\""
        },
        {
         "metadata": "{}",
         "name": "Credit_Mix",
         "type": "\"string\""
        },
        {
         "metadata": "{}",
         "name": "Occupation",
         "type": "\"string\""
        },
        {
         "metadata": "{}",
         "name": "credit_history_age_new",
         "type": "\"float\""
        },
        {
         "metadata": "{}",
         "name": "credit_Age_Proportion",
         "type": "\"double\""
        },
        {
         "metadata": "{}",
         "name": "debt_to_income_ratio",
         "type": "\"double\""
        }
       ],
       "type": "table"
      }
     },
     "output_type": "display_data"
    }
   ],
   "source": [
    "train_df=train_df.withColumn(\"debt_to_income_ratio\",col(\"outstanding_debt\")/col(\"Annual_Income\"))\n",
    "display(train_df.limit(5))"
   ]
  },
  {
   "cell_type": "markdown",
   "metadata": {
    "application/vnd.databricks.v1+cell": {
     "cellMetadata": {
      "byteLimit": 2048000,
      "rowLimit": 10000
     },
     "inputWidgets": {},
     "nuid": "d764031e-17f6-4aa7-85f8-5550722f74fd",
     "showTitle": false,
     "title": ""
    }
   },
   "source": [
    "##  <p style=\"padding:10px;background-color:Pink ;margin:10;color:#000000;font-family:newtimeroman;font-size:100%;border-radius: 10px 10px ;overflow:hidden;font-weight:50\">Preprocessing</p>"
   ]
  },
  {
   "cell_type": "markdown",
   "metadata": {
    "application/vnd.databricks.v1+cell": {
     "cellMetadata": {
      "byteLimit": 2048000,
      "rowLimit": 10000
     },
     "inputWidgets": {},
     "nuid": "12b7431c-05d0-4716-bf0d-e64595049ab8",
     "showTitle": false,
     "title": ""
    }
   },
   "source": [
    "# Reference -\n",
    "https://spark.apache.org/docs/2.4.5/api/python/pyspark.ml.html?highlight=pipeline#pyspark.ml.Pipeline\n",
    "https://spark.apache.org/docs/2.4.5/api/python/pyspark.ml.html?highlight=indexer#pyspark.ml.feature.StringIndexer\n",
    "https://spark.apache.org/docs/2.4.5/api/python/pyspark.ml.html?highlight=standard#pyspark.ml.feature.StandardScaler\n",
    "https://spark.apache.org/docs/2.4.5/api/python/pyspark.ml.html?highlight=onehot#pyspark.ml.feature.OneHotEncoder\n",
    "https://spark.apache.org/docs/2.4.5/api/python/pyspark.ml.html?highlight=pca#pyspark.ml.feature.PCA"
   ]
  },
  {
   "cell_type": "code",
   "execution_count": 0,
   "metadata": {
    "application/vnd.databricks.v1+cell": {
     "cellMetadata": {
      "byteLimit": 2048000,
      "rowLimit": 10000
     },
     "inputWidgets": {},
     "nuid": "04ccb213-a141-419f-b140-9ab7787b55bd",
     "showTitle": false,
     "title": ""
    }
   },
   "outputs": [],
   "source": [
    "#x=train_df.sample(0.2)\n",
    "#x.coalesce(1).write.mode(\"overwrite\").format(\"csv\").option(\"header\", \"true\").save(\"dbfs:/mnt/ADLS_Landing/test_data/\")"
   ]
  },
  {
   "cell_type": "code",
   "execution_count": 0,
   "metadata": {
    "application/vnd.databricks.v1+cell": {
     "cellMetadata": {
      "byteLimit": 2048000,
      "rowLimit": 10000
     },
     "inputWidgets": {},
     "nuid": "cdc9b47c-4e41-425d-a8fc-479f47d56d02",
     "showTitle": false,
     "title": ""
    }
   },
   "outputs": [
    {
     "output_type": "display_data",
     "data": {
      "text/html": [
       "<style scoped>\n",
       "  .table-result-container {\n",
       "    max-height: 300px;\n",
       "    overflow: auto;\n",
       "  }\n",
       "  table, th, td {\n",
       "    border: 1px solid black;\n",
       "    border-collapse: collapse;\n",
       "  }\n",
       "  th, td {\n",
       "    padding: 5px;\n",
       "  }\n",
       "  th {\n",
       "    text-align: left;\n",
       "  }\n",
       "</style><div class='table-result-container'><table class='table-result'><thead style='background-color: white'><tr><th>Age</th><th>Monthly_Inhand_Salary</th><th>Num_Bank_Accounts</th><th>Delay_from_due_date</th><th>Num_Credit_Card</th><th>Interest_Rate</th><th>Num_Credit_Inquiries</th><th>Credit_Utilization_Ratio</th><th>Payment_of_Min_Amount</th><th>Total_EMI_per_month</th><th>Num_of_Delayed_Payment</th><th>Num_of_Loan</th><th>Amount_invested_monthly</th><th>Monthly_Balance</th><th>Payment_Behaviour</th><th>Changed_Credit_Limit</th><th>Credit_Score</th><th>Outstanding_Debt</th><th>Annual_Income</th><th>Credit_Mix</th><th>Occupation</th><th>credit_history_age_new</th><th>credit_Age_Proportion</th><th>debt_to_income_ratio</th></tr></thead><tbody><tr><td>23.0</td><td>1824.8433333333328</td><td>3.0</td><td>3.0</td><td>4.0</td><td>3.0</td><td>4.0</td><td>26.822619623699016</td><td>No</td><td>49.57494921489417</td><td>7.0</td><td>4.0</td><td>80.41529846191406</td><td>312.49407958984375</td><td>High_spent_Small_value_payments</td><td>11.270000457763672</td><td>Good</td><td>809.97998046875</td><td>19114.119140625</td><td>Standard</td><td>Scientist</td><td>22.083334</td><td>0.9601449551789657</td><td>0.0423760035453177</td></tr><tr><td>23.0</td><td>3074.17</td><td>3.0</td><td>1.0</td><td>4.0</td><td>3.0</td><td>4.0</td><td>31.94496005538421</td><td>No</td><td>49.57494921489417</td><td>14.0</td><td>4.0</td><td>118.28022003173828</td><td>284.629150390625</td><td>Low_spent_Large_value_payments</td><td>11.270000457763672</td><td>Good</td><td>809.97998046875</td><td>19114.119140625</td><td>Good</td><td>Scientist</td><td>19.333334</td><td>0.8405797377876614</td><td>0.0423760035453177</td></tr><tr><td>33.0</td><td>3074.17</td><td>3.0</td><td>3.0</td><td>4.0</td><td>3.0</td><td>4.0</td><td>28.60935202206993</td><td>No</td><td>49.57494921489417</td><td>7.0</td><td>4.0</td><td>81.69952392578125</td><td>331.2098693847656</td><td>Low_spent_Medium_value_payments</td><td>9.359999656677246</td><td>Good</td><td>809.97998046875</td><td>19114.119140625</td><td>Good</td><td>Scientist</td><td>22.25</td><td>0.6742424242424242</td><td>0.0423760035453177</td></tr><tr><td>23.0</td><td>3074.17</td><td>3.0</td><td>5.0</td><td>4.0</td><td>3.0</td><td>4.0</td><td>31.377861869582354</td><td>No</td><td>49.57494921489417</td><td>4.0</td><td>4.0</td><td>199.45806884765625</td><td>223.45130920410156</td><td>Low_spent_Small_value_payments</td><td>6.269999980926514</td><td>Good</td><td>809.97998046875</td><td>19114.119140625</td><td>Good</td><td>Scientist</td><td>22.333334</td><td>0.971014520396357</td><td>0.0423760035453177</td></tr><tr><td>23.0</td><td>1824.8433333333328</td><td>3.0</td><td>6.0</td><td>4.0</td><td>3.0</td><td>4.0</td><td>24.797346908844986</td><td>No</td><td>49.57494921489417</td><td>14.0</td><td>4.0</td><td>41.4201545715332</td><td>341.4892272949219</td><td>High_spent_Medium_value_payments</td><td>11.270000457763672</td><td>Good</td><td>809.97998046875</td><td>19114.119140625</td><td>Good</td><td>Scientist</td><td>22.416666</td><td>0.9746376535166865</td><td>0.0423760035453177</td></tr></tbody></table></div>"
      ]
     },
     "metadata": {
      "application/vnd.databricks.v1+output": {
       "addedWidgets": {},
       "aggData": [],
       "aggError": "",
       "aggOverflow": false,
       "aggSchema": [],
       "aggSeriesLimitReached": false,
       "aggType": "",
       "arguments": {},
       "columnCustomDisplayInfos": {},
       "data": [
        [
         23.0,
         1824.8433333333328,
         3.0,
         3.0,
         4.0,
         3.0,
         4.0,
         26.822619623699016,
         "No",
         49.57494921489417,
         7.0,
         4.0,
         80.41529846191406,
         312.49407958984375,
         "High_spent_Small_value_payments",
         11.270000457763672,
         "Good",
         809.97998046875,
         19114.119140625,
         "Standard",
         "Scientist",
         22.083334,
         0.9601449551789657,
         0.0423760035453177
        ],
        [
         23.0,
         3074.17,
         3.0,
         1.0,
         4.0,
         3.0,
         4.0,
         31.94496005538421,
         "No",
         49.57494921489417,
         14.0,
         4.0,
         118.28022003173828,
         284.629150390625,
         "Low_spent_Large_value_payments",
         11.270000457763672,
         "Good",
         809.97998046875,
         19114.119140625,
         "Good",
         "Scientist",
         19.333334,
         0.8405797377876614,
         0.0423760035453177
        ],
        [
         33.0,
         3074.17,
         3.0,
         3.0,
         4.0,
         3.0,
         4.0,
         28.60935202206993,
         "No",
         49.57494921489417,
         7.0,
         4.0,
         81.69952392578125,
         331.2098693847656,
         "Low_spent_Medium_value_payments",
         9.359999656677246,
         "Good",
         809.97998046875,
         19114.119140625,
         "Good",
         "Scientist",
         22.25,
         0.6742424242424242,
         0.0423760035453177
        ],
        [
         23.0,
         3074.17,
         3.0,
         5.0,
         4.0,
         3.0,
         4.0,
         31.377861869582354,
         "No",
         49.57494921489417,
         4.0,
         4.0,
         199.45806884765625,
         223.45130920410156,
         "Low_spent_Small_value_payments",
         6.269999980926514,
         "Good",
         809.97998046875,
         19114.119140625,
         "Good",
         "Scientist",
         22.333334,
         0.971014520396357,
         0.0423760035453177
        ],
        [
         23.0,
         1824.8433333333328,
         3.0,
         6.0,
         4.0,
         3.0,
         4.0,
         24.797346908844986,
         "No",
         49.57494921489417,
         14.0,
         4.0,
         41.4201545715332,
         341.4892272949219,
         "High_spent_Medium_value_payments",
         11.270000457763672,
         "Good",
         809.97998046875,
         19114.119140625,
         "Good",
         "Scientist",
         22.416666,
         0.9746376535166865,
         0.0423760035453177
        ]
       ],
       "datasetInfos": [],
       "dbfsResultPath": null,
       "isJsonSchema": true,
       "metadata": {},
       "overflow": false,
       "plotOptions": {
        "customPlotOptions": {},
        "displayType": "table",
        "pivotAggregation": null,
        "pivotColumns": null,
        "xColumns": null,
        "yColumns": null
       },
       "removedWidgets": [],
       "schema": [
        {
         "metadata": "{}",
         "name": "Age",
         "type": "\"double\""
        },
        {
         "metadata": "{}",
         "name": "Monthly_Inhand_Salary",
         "type": "\"double\""
        },
        {
         "metadata": "{}",
         "name": "Num_Bank_Accounts",
         "type": "\"double\""
        },
        {
         "metadata": "{}",
         "name": "Delay_from_due_date",
         "type": "\"double\""
        },
        {
         "metadata": "{}",
         "name": "Num_Credit_Card",
         "type": "\"double\""
        },
        {
         "metadata": "{}",
         "name": "Interest_Rate",
         "type": "\"double\""
        },
        {
         "metadata": "{}",
         "name": "Num_Credit_Inquiries",
         "type": "\"double\""
        },
        {
         "metadata": "{}",
         "name": "Credit_Utilization_Ratio",
         "type": "\"double\""
        },
        {
         "metadata": "{}",
         "name": "Payment_of_Min_Amount",
         "type": "\"string\""
        },
        {
         "metadata": "{}",
         "name": "Total_EMI_per_month",
         "type": "\"double\""
        },
        {
         "metadata": "{}",
         "name": "Num_of_Delayed_Payment",
         "type": "\"double\""
        },
        {
         "metadata": "{}",
         "name": "Num_of_Loan",
         "type": "\"double\""
        },
        {
         "metadata": "{}",
         "name": "Amount_invested_monthly",
         "type": "\"double\""
        },
        {
         "metadata": "{}",
         "name": "Monthly_Balance",
         "type": "\"double\""
        },
        {
         "metadata": "{}",
         "name": "Payment_Behaviour",
         "type": "\"string\""
        },
        {
         "metadata": "{}",
         "name": "Changed_Credit_Limit",
         "type": "\"double\""
        },
        {
         "metadata": "{}",
         "name": "Credit_Score",
         "type": "\"string\""
        },
        {
         "metadata": "{}",
         "name": "Outstanding_Debt",
         "type": "\"double\""
        },
        {
         "metadata": "{}",
         "name": "Annual_Income",
         "type": "\"double\""
        },
        {
         "metadata": "{}",
         "name": "Credit_Mix",
         "type": "\"string\""
        },
        {
         "metadata": "{}",
         "name": "Occupation",
         "type": "\"string\""
        },
        {
         "metadata": "{}",
         "name": "credit_history_age_new",
         "type": "\"float\""
        },
        {
         "metadata": "{}",
         "name": "credit_Age_Proportion",
         "type": "\"double\""
        },
        {
         "metadata": "{}",
         "name": "debt_to_income_ratio",
         "type": "\"double\""
        }
       ],
       "type": "table"
      }
     },
     "output_type": "display_data"
    }
   ],
   "source": [
    "train_df=train_df.drop(\"id\",\"customer_id\")\n",
    "display(train_df.limit(5))"
   ]
  },
  {
   "cell_type": "markdown",
   "metadata": {
    "application/vnd.databricks.v1+cell": {
     "cellMetadata": {
      "byteLimit": 2048000,
      "rowLimit": 10000
     },
     "inputWidgets": {},
     "nuid": "c3b3cc66-32f5-4582-af1d-44ff5c7707ce",
     "showTitle": false,
     "title": ""
    }
   },
   "source": [
    "##  <p style=\"padding:10px;background-color:Pink ;margin:10;color:#000000;font-family:newtimeroman;font-size:100%;border-radius: 10px 10px ;overflow:hidden;font-weight:50\">Correlation Analysis</p>\n"
   ]
  },
  {
   "cell_type": "markdown",
   "metadata": {
    "application/vnd.databricks.v1+cell": {
     "cellMetadata": {
      "byteLimit": 2048000,
      "rowLimit": 10000
     },
     "inputWidgets": {},
     "nuid": "270d10dc-e8e6-458b-a5c5-4a21b63ee44a",
     "showTitle": false,
     "title": ""
    }
   },
   "source": [
    "## Refrence -\n",
    "https://spark.apache.org/docs/2.4.5/api/python/pyspark.ml.html?highlight=correlation#pyspark.ml.stat.Correlation"
   ]
  },
  {
   "cell_type": "code",
   "execution_count": 0,
   "metadata": {
    "application/vnd.databricks.v1+cell": {
     "cellMetadata": {
      "byteLimit": 2048000,
      "rowLimit": 10000
     },
     "inputWidgets": {},
     "nuid": "9913fcbc-9ef0-4133-9fe7-356d9a51838d",
     "showTitle": false,
     "title": ""
    }
   },
   "outputs": [
    {
     "output_type": "stream",
     "name": "stdout",
     "output_type": "stream",
     "text": [
      "Out[8]: ['Age',\n 'Monthly_Inhand_Salary',\n 'Num_Bank_Accounts',\n 'Delay_from_due_date',\n 'Num_Credit_Card',\n 'Interest_Rate',\n 'Num_Credit_Inquiries',\n 'Credit_Utilization_Ratio',\n 'Total_EMI_per_month',\n 'Num_of_Delayed_Payment',\n 'Num_of_Loan',\n 'Amount_invested_monthly',\n 'Monthly_Balance',\n 'Changed_Credit_Limit',\n 'Outstanding_Debt',\n 'Annual_Income',\n 'credit_history_age_new',\n 'credit_Age_Proportion',\n 'debt_to_income_ratio']"
     ]
    }
   ],
   "source": [
    "con=[i for i,j in train_df.dtypes if j in ['int','bigint','double','float','long']]\n",
    "con"
   ]
  },
  {
   "cell_type": "code",
   "execution_count": 0,
   "metadata": {
    "application/vnd.databricks.v1+cell": {
     "cellMetadata": {
      "byteLimit": 2048000,
      "rowLimit": 10000
     },
     "inputWidgets": {},
     "nuid": "978ba2fe-77f7-4ce0-9867-ef36023f0de5",
     "showTitle": false,
     "title": ""
    }
   },
   "outputs": [
    {
     "output_type": "stream",
     "name": "stdout",
     "output_type": "stream",
     "text": [
      "Correlation between Age and CreditScoreIndex: 0.05758451298539463\nCorrelation between Monthly_Inhand_Salary and CreditScoreIndex: 0.040603507000773434\nCorrelation between Num_Bank_Accounts and CreditScoreIndex: -0.1755808060146202\nCorrelation between Delay_from_due_date and CreditScoreIndex: -0.11731430059690238\nCorrelation between Num_Credit_Card and CreditScoreIndex: -0.11178724633316946\nCorrelation between Interest_Rate and CreditScoreIndex: -0.11835182317057892\nCorrelation between Num_Credit_Inquiries and CreditScoreIndex: -0.06610825513914055\nCorrelation between Credit_Utilization_Ratio and CreditScoreIndex: 0.01441558189958341\nCorrelation between Total_EMI_per_month and CreditScoreIndex: 0.014115689496151504\nCorrelation between Num_of_Delayed_Payment and CreditScoreIndex: -0.19253059357681382\nCorrelation between Num_of_Loan and CreditScoreIndex: -0.06265766972295245\nCorrelation between Amount_invested_monthly and CreditScoreIndex: 0.033477422797766256\nCorrelation between Monthly_Balance and CreditScoreIndex: 0.03538844760116789\nCorrelation between Changed_Credit_Limit and CreditScoreIndex: -0.18954459196631573\nCorrelation between Outstanding_Debt and CreditScoreIndex: -0.022847586611632855\nCorrelation between Annual_Income and CreditScoreIndex: 0.05778887110724718\nCorrelation between credit_history_age_new and CreditScoreIndex: 0.09746682652933335\nCorrelation between credit_Age_Proportion and CreditScoreIndex: 0.041071804997530596\nCorrelation between debt_to_income_ratio and CreditScoreIndex: -0.02628416414076923\n"
     ]
    }
   ],
   "source": [
    "from pyspark.ml.feature import StringIndexer\n",
    "\n",
    "# Convert 'Credit_Score' to numerical\n",
    "indexer = StringIndexer(inputCol=\"Credit_Score\", outputCol=\"CreditScoreIndex\")\n",
    "df_indexed = indexer.fit(train_df).transform(train_df)\n",
    "\n",
    "# Calculate correlation\n",
    "for c in con:\n",
    "    correlation = df_indexed.stat.corr(c, 'CreditScoreIndex')\n",
    "    print(f\"Correlation between {c} and CreditScoreIndex: {correlation}\")\n"
   ]
  },
  {
   "cell_type": "markdown",
   "metadata": {
    "application/vnd.databricks.v1+cell": {
     "cellMetadata": {
      "byteLimit": 2048000,
      "rowLimit": 10000
     },
     "inputWidgets": {},
     "nuid": "7b6f974d-e0c3-46be-8a06-69bfe80f6635",
     "showTitle": false,
     "title": ""
    }
   },
   "source": [
    "##  <p style=\"padding:10px;background-color:Pink ;margin:10;color:#000000;font-family:newtimeroman;font-size:100%;border-radius: 10px 10px ;overflow:hidden;font-weight:50\">Chi-Square Test</p>\n"
   ]
  },
  {
   "cell_type": "markdown",
   "metadata": {
    "application/vnd.databricks.v1+cell": {
     "cellMetadata": {
      "byteLimit": 2048000,
      "rowLimit": 10000
     },
     "inputWidgets": {},
     "nuid": "7ab5908d-78f5-4557-ad23-186a00e2b20e",
     "showTitle": false,
     "title": ""
    }
   },
   "source": [
    "## Refrence-\n",
    "https://spark.apache.org/docs/2.4.5/api/python/pyspark.ml.html?highlight=chisquare#pyspark.ml.stat.ChiSquareTest"
   ]
  },
  {
   "cell_type": "code",
   "execution_count": 0,
   "metadata": {
    "application/vnd.databricks.v1+cell": {
     "cellMetadata": {
      "byteLimit": 2048000,
      "rowLimit": 10000
     },
     "inputWidgets": {},
     "nuid": "dfc1e293-6a48-4c43-b811-1e000af16d95",
     "showTitle": false,
     "title": ""
    }
   },
   "outputs": [
    {
     "output_type": "stream",
     "name": "stdout",
     "output_type": "stream",
     "text": [
      "P-Values: [0.0,0.0,0.0,0.0]\nDegrees of Freedom: [10, 28, 4, 4]\nStatistics: [1249.38890936874,167.22280321341393,30023.192327284312,19620.39479123322]\nFeature: Payment_Behaviour ----> p-Value: 0.0\nFeature: Occupation ----> p-Value: 0.0\nFeature: Credit_Mix ----> p-Value: 0.0\nFeature: Payment_of_Min_Amount ----> p-Value: 0.0\n"
     ]
    }
   ],
   "source": [
    "from pyspark.ml.feature import StringIndexer, OneHotEncoder, VectorAssembler\n",
    "from pyspark.ml.stat import ChiSquareTest\n",
    "\n",
    "# Convert 'Credit_Score' to numerical\n",
    "indexer_target = StringIndexer(inputCol=\"Credit_Score\", outputCol=\"CreditScoreIndex\")\n",
    "df_indexed = indexer_target.fit(train_df).transform(train_df)\n",
    "\n",
    "# StringIndexer for categorical features\n",
    "indexer_payment = StringIndexer(inputCol=\"Payment_Behaviour\", outputCol=\"PaymentBehaviourIndex\")\n",
    "indexer_occupation = StringIndexer(inputCol=\"Occupation\", outputCol=\"OccupationIndex\")\n",
    "indexer_credit_mix = StringIndexer(inputCol=\"Credit_Mix\", outputCol=\"CreditMixIndex\")\n",
    "indexer_Payment_of_Min_Amount = StringIndexer(inputCol=\"Payment_of_Min_Amount\", outputCol=\"Payment_of_Min_AmountIndex\")\n",
    "\n",
    "df_indexed = indexer_payment.fit(df_indexed).transform(df_indexed)\n",
    "df_indexed = indexer_occupation.fit(df_indexed).transform(df_indexed)\n",
    "df_indexed = indexer_credit_mix.fit(df_indexed).transform(df_indexed)\n",
    "df_indexed = indexer_Payment_of_Min_Amount.fit(df_indexed).transform(df_indexed)\n",
    "\n",
    "# Assemble indexed categorical columns into a single feature vector\n",
    "assembler = VectorAssembler(inputCols=[\"PaymentBehaviourIndex\", \"OccupationIndex\", \"CreditMixIndex\",\"Payment_of_Min_AmountIndex\"], outputCol=\"categorical_features\")\n",
    "df_features = assembler.transform(df_indexed)\n",
    "\n",
    "# Perform Chi-Square Test\n",
    "chi_sq_result = ChiSquareTest.test(df_features, \"categorical_features\", \"CreditScoreIndex\").head()\n",
    "p_values = chi_sq_result.pValues\n",
    "degrees_of_freedom = chi_sq_result.degreesOfFreedom\n",
    "statistics = chi_sq_result.statistics\n",
    "\n",
    "# Print results\n",
    "print(f\"P-Values: {p_values}\")\n",
    "print(f\"Degrees of Freedom: {degrees_of_freedom}\")\n",
    "print(f\"Statistics: {statistics}\")\n",
    "\n",
    "# Map p-values to feature names\n",
    "feature_names = [\"Payment_Behaviour\", \"Occupation\", \"Credit_Mix\",\"Payment_of_Min_Amount\"]\n",
    "significance = dict(zip(feature_names, p_values))\n",
    "\n",
    "# Print significance of each feature\n",
    "for feature, p_value in significance.items():\n",
    "    print(f\"Feature: {feature} ----> p-Value: {p_value}\")\n",
    "\n",
    "# Interpretation:\n",
    "# Features with a p-value less than 0.05 are generally considered significant.\n"
   ]
  },
  {
   "cell_type": "markdown",
   "metadata": {
    "application/vnd.databricks.v1+cell": {
     "cellMetadata": {
      "byteLimit": 2048000,
      "rowLimit": 10000
     },
     "inputWidgets": {},
     "nuid": "732c4599-f93a-433a-883a-52cddc3b65f3",
     "showTitle": false,
     "title": ""
    }
   },
   "source": [
    "##  <p style=\"padding:10px;background-color:yellow ;margin:10;color:#000000;font-family:newtimeroman;font-size:100%;border-radius: 10px 10px ;overflow:hidden;font-weight:50\">As we can see p-value < 0.05 the categorigal varibales are significant\n",
    "</p> \n"
   ]
  },
  {
   "cell_type": "markdown",
   "metadata": {
    "application/vnd.databricks.v1+cell": {
     "cellMetadata": {
      "byteLimit": 2048000,
      "rowLimit": 10000
     },
     "inputWidgets": {},
     "nuid": "dc600c43-1532-486f-b643-98b8371958d5",
     "showTitle": false,
     "title": ""
    }
   },
   "source": [
    "##  <p style=\"padding:10px;background-color:Pink ;margin:10;color:#000000;font-family:newtimeroman;font-size:100%;border-radius: 10px 10px ;overflow:hidden;font-weight:50\">Model Building</p>\n"
   ]
  },
  {
   "cell_type": "markdown",
   "metadata": {
    "application/vnd.databricks.v1+cell": {
     "cellMetadata": {
      "byteLimit": 2048000,
      "rowLimit": 10000
     },
     "inputWidgets": {},
     "nuid": "8595275f-7e2b-4b19-8329-8e96ac744bf0",
     "showTitle": false,
     "title": ""
    }
   },
   "source": [
    "## Refrence-\n",
    "https://spark.apache.org/docs/2.4.5/api/python/pyspark.ml.html?highlight=randomforest#pyspark.ml.classification.RandomForestClassifier\n",
    "https://spark.apache.org/docs/2.4.5/api/python/pyspark.ml.html?highlight=logistic#pyspark.ml.classification.LogisticRegression\n",
    "https://spark.apache.org/docs/2.4.5/api/python/pyspark.ml.html?highlight=paramgrid#pyspark.ml.tuning.ParamGridBuilder\n",
    "https://spark.apache.org/docs/2.4.5/api/python/pyspark.ml.html?highlight=cross#pyspark.ml.tuning.CrossValidator"
   ]
  },
  {
   "cell_type": "code",
   "execution_count": 0,
   "metadata": {
    "application/vnd.databricks.v1+cell": {
     "cellMetadata": {
      "byteLimit": 2048000,
      "rowLimit": 10000
     },
     "inputWidgets": {},
     "nuid": "e7d746a3-4f7c-47f2-8ff5-4a0be94bb346",
     "showTitle": false,
     "title": ""
    }
   },
   "outputs": [],
   "source": [
    "from pyspark.ml.pipeline import Pipeline\n",
    "from pyspark.ml.feature import VectorAssembler, MinMaxScaler, OneHotEncoder, StringIndexer\n",
    "from pyspark.ml.classification import RandomForestClassifier\n",
    "from pyspark.ml.evaluation import MulticlassClassificationEvaluator"
   ]
  },
  {
   "cell_type": "markdown",
   "metadata": {
    "application/vnd.databricks.v1+cell": {
     "cellMetadata": {
      "byteLimit": 2048000,
      "rowLimit": 10000
     },
     "inputWidgets": {},
     "nuid": "63583928-3016-4e93-8864-10c41c87582f",
     "showTitle": false,
     "title": ""
    }
   },
   "source": [
    "# Random Forest"
   ]
  },
  {
   "cell_type": "code",
   "execution_count": 0,
   "metadata": {
    "application/vnd.databricks.v1+cell": {
     "cellMetadata": {
      "byteLimit": 2048000,
      "rowLimit": 10000
     },
     "inputWidgets": {},
     "nuid": "5205e502-07df-4506-960b-49b581e32f9e",
     "showTitle": false,
     "title": ""
    }
   },
   "outputs": [
    {
     "output_type": "stream",
     "name": "stdout",
     "output_type": "stream",
     "text": [
      "Training Model Accuracy ----> 0.9296071415213136\nTesting Model Accuracy ----> 0.7551154448542414\n \n ---------------------------------------------------------------------------- \n \nTraining Model Recall Value ----> 0.9296071415213136\nTesting Model Recall Value ----> 0.7551154448542414\n"
     ]
    }
   ],
   "source": [
    "\n",
    "indexer_pb = StringIndexer(inputCol=\"Payment_Behaviour\", outputCol=\"PaymentBehaviourIndex\")\n",
    "indexer_occupation = StringIndexer(inputCol=\"Occupation\", outputCol=\"OccupationIndex\")\n",
    "indexer_creditmix = StringIndexer(inputCol=\"Credit_Mix\", outputCol=\"CreditMixIndex\")\n",
    "indexer_Payment_of_Min_Amount = StringIndexer(inputCol=\"Payment_of_Min_Amount\", outputCol=\"Payment_of_Min_AmountIndex\")\n",
    "indexer_label = StringIndexer(inputCol=\"Credit_Score\", outputCol=\"indexedLabel\") \n",
    "\n",
    "\n",
    "# Define OneHotEncoder stages for the indexed columns\n",
    "encoder_occupation = OneHotEncoder(dropLast=True,inputCol=\"OccupationIndex\", outputCol=\"OccupationVec\")\n",
    "encoder_creditmix = OneHotEncoder(dropLast=True,inputCol=\"CreditMixIndex\", outputCol=\"CreditMixVec\")\n",
    "encoder_pb = OneHotEncoder(dropLast=True,inputCol=\"PaymentBehaviourIndex\", outputCol=\"PaymentBehaviourVec\")\n",
    "encoder_PaymentofMin_Amount=OneHotEncoder(dropLast=True,inputCol=\"Payment_of_Min_AmountIndex\", outputCol=\"Payment_of_Min_AmountVec\")\n",
    "\n",
    "cols=[i for i,j in train_df.dtypes if j in ['int','bigint','double','float','long']]\n",
    "cols.append('OccupationVec')\n",
    "cols.append('CreditMixVec')\n",
    "cols.append('PaymentBehaviourVec')\n",
    "cols.append('Payment_of_Min_AmountVec')\n",
    "\n",
    "\n",
    "\n",
    "# Define the VectorAssembler stage\n",
    "assembler = VectorAssembler(inputCols=cols,outputCol=\"features\")\n",
    "\n",
    "# Define the MinMaxScaler stage\n",
    "mm = MinMaxScaler(inputCol=\"features\", outputCol=\"scaledFeatures\")\n",
    "\n",
    "#Random Forest\n",
    "rf = RandomForestClassifier(numTrees=20,maxDepth=20,featuresCol=\"scaledFeatures\",predictionCol=\"prediction\", labelCol=\"indexedLabel\")\n",
    "\n",
    "stages = [indexer_pb,indexer_occupation,indexer_creditmix,indexer_label,indexer_Payment_of_Min_Amount,encoder_occupation,encoder_creditmix,encoder_pb,encoder_PaymentofMin_Amount,assembler,mm,rf]\n",
    "\n",
    "# Create the Pipeline\n",
    "rf_pipeline = Pipeline(stages=stages)\n",
    "\n",
    "xtrain,xtest=train_df.randomSplit([0.8,0.2])\n",
    "\n",
    "# Fit the Pipeline\n",
    "rf_model = rf_pipeline.fit(xtrain)\n",
    "\n",
    "# Transform the data\n",
    "tranidf_transformed = rf_model.transform(xtrain)\n",
    "\n",
    "#trainig accuracy\n",
    "evaluator = MulticlassClassificationEvaluator(labelCol=\"indexedLabel\", predictionCol=\"prediction\", metricName=\"accuracy\")\n",
    "training_accuracy = evaluator.evaluate(tranidf_transformed)\n",
    "\n",
    "#testing accuracy\n",
    "testdf_transformed = rf_model.transform(xtest)\n",
    "testing_accuracy = evaluator.evaluate(testdf_transformed)\n",
    "\n",
    "print(f\"Training Model Accuracy ----> {training_accuracy}\")\n",
    "print(f\"Testing Model Accuracy ----> {testing_accuracy}\")\n",
    "\n",
    "print(\" \")\n",
    "print(\" ---------------------------------------------------------------------------- \")\n",
    "print(\" \")\n",
    "\n",
    "#trainig recall\n",
    "recall_val = MulticlassClassificationEvaluator(labelCol=\"indexedLabel\", predictionCol=\"prediction\", metricName=\"weightedRecall\")\n",
    "training_recall = recall_val.evaluate(tranidf_transformed)\n",
    "\n",
    "#testing recall\n",
    "testdf_transformed = rf_model.transform(xtest)\n",
    "testing_recall = recall_val.evaluate(testdf_transformed)\n",
    "\n",
    "print(f\"Training Model Recall Value ----> {training_recall}\")\n",
    "print(f\"Testing Model Recall Value ----> {testing_recall}\")\n",
    "\n"
   ]
  },
  {
   "cell_type": "markdown",
   "metadata": {
    "application/vnd.databricks.v1+cell": {
     "cellMetadata": {},
     "inputWidgets": {},
     "nuid": "57215f17-64d1-4f18-8432-b0f3848ec864",
     "showTitle": false,
     "title": ""
    }
   },
   "source": [
    "# Saving Model"
   ]
  },
  {
   "cell_type": "code",
   "execution_count": 0,
   "metadata": {
    "application/vnd.databricks.v1+cell": {
     "cellMetadata": {
      "byteLimit": 2048000,
      "rowLimit": 10000
     },
     "inputWidgets": {},
     "nuid": "3ae32d0e-5705-493d-bfe2-652512e19f64",
     "showTitle": false,
     "title": ""
    }
   },
   "outputs": [],
   "source": [
    "model_path = \"dbfs:/mnt/ADLS_Landing/Model/\"\n",
    "rf_model.write().overwrite().save(model_path)"
   ]
  },
  {
   "cell_type": "code",
   "execution_count": 0,
   "metadata": {
    "application/vnd.databricks.v1+cell": {
     "cellMetadata": {
      "byteLimit": 2048000,
      "rowLimit": 10000
     },
     "inputWidgets": {},
     "nuid": "7c409272-18f4-4a03-99c7-b2f616618a28",
     "showTitle": false,
     "title": ""
    }
   },
   "outputs": [
    {
     "output_type": "stream",
     "name": "stdout",
     "output_type": "stream",
     "text": [
      "Testing Model Accuracy ----> 0.8967900245380339\n"
     ]
    }
   ],
   "source": [
    "from pyspark.ml import PipelineModel\n",
    "\n",
    "# Load the saved model#\n",
    "loaded_rf_model = PipelineModel.load(model_path)\n",
    "\n",
    "# Use the loaded model for predictions\n",
    "new_data_predictions = loaded_rf_model.transform(xtest)\n",
    "testdf_transformed = rf_model.transform(xtest)\n",
    "testing_accuracy = evaluator.evaluate(testdf_transformed)\n",
    "\n",
    "print(f\"Testing Model Accuracy ----> {testing_accuracy}\")"
   ]
  },
  {
   "cell_type": "markdown",
   "metadata": {
    "application/vnd.databricks.v1+cell": {
     "cellMetadata": {
      "byteLimit": 2048000,
      "rowLimit": 10000
     },
     "inputWidgets": {},
     "nuid": "0657f9f7-cae1-4604-856d-e9eecd291410",
     "showTitle": false,
     "title": ""
    }
   },
   "source": [
    "# Hyperparameter Tuning"
   ]
  },
  {
   "cell_type": "code",
   "execution_count": 0,
   "metadata": {
    "application/vnd.databricks.v1+cell": {
     "cellMetadata": {
      "byteLimit": 2048000,
      "rowLimit": 10000
     },
     "inputWidgets": {},
     "nuid": "d47e160f-7223-45ce-b477-62f549933a39",
     "showTitle": false,
     "title": ""
    }
   },
   "outputs": [
    {
     "output_type": "display_data",
     "data": {
      "text/html": [
       "<style scoped>\n",
       "  .ansiout {\n",
       "    display: block;\n",
       "    unicode-bidi: embed;\n",
       "    white-space: pre-wrap;\n",
       "    word-wrap: break-word;\n",
       "    word-break: break-all;\n",
       "    font-family: \"Menlo\", \"Monaco\", \"Consolas\", \"Ubuntu Mono\", \"Source Code Pro\", monospace;\n",
       "    font-size: 13px;\n",
       "    color: #555;\n",
       "    margin-left: 4px;\n",
       "    line-height: 19px;\n",
       "  }\n",
       "</style>"
      ]
     },
     "metadata": {
      "application/vnd.databricks.v1+output": {
       "arguments": {},
       "data": "",
       "errorSummary": "Cancelled",
       "errorTraceType": "html",
       "metadata": {},
       "type": "ipynbError"
      }
     },
     "output_type": "display_data"
    }
   ],
   "source": [
    "from pyspark.ml.tuning import CrossValidator, ParamGridBuilder\n",
    "from pyspark.ml.evaluation import MulticlassClassificationEvaluator\n",
    "from pyspark.ml.classification import RandomForestClassifier\n",
    "from pyspark.ml import Pipeline\n",
    "\n",
    "# Define the Random Forest classifier\n",
    "rf = RandomForestClassifier(featuresCol=\"scaledFeatures\", labelCol=\"indexedLabel\")\n",
    "\n",
    "# Define the parameter grid for hyperparameter tuning\n",
    "paramGrid = (ParamGridBuilder()\n",
    "             .addGrid(rf.maxDepth, [5, 10, 20])\n",
    "             .addGrid(rf.minInfoGain, [0.0, 0.1, 0.2])\n",
    "             .addGrid(rf.numTrees, [10, 20, 70])\n",
    "             .build())\n",
    "\n",
    "# Define the evaluator\n",
    "evaluator = MulticlassClassificationEvaluator(labelCol=\"indexedLabel\", predictionCol=\"prediction\", metricName=\"accuracy\")\n",
    "\n",
    "# Define the CrossValidator\n",
    "crossval = CrossValidator(estimator=rf,\n",
    "                          estimatorParamMaps=paramGrid,\n",
    "                          evaluator=evaluator,\n",
    "                          numFolds=3)  # 3-fold cross-validation\n",
    "\n",
    "# Define the stages of the pipeline\n",
    "stages = [indexer_pb, indexer_occupation, indexer_creditmix, indexer_label, indexer_Payment_of_Min_Amount, \n",
    "          encoder_occupation, encoder_creditmix, encoder_pb, encoder_PaymentofMin_Amount, assembler, mm, crossval]\n",
    "\n",
    "# Create the Pipeline\n",
    "pipeline = Pipeline(stages=stages)\n",
    "\n",
    "# Split the data into training and testing sets\n",
    "xtrain, xtest = train_df.randomSplit([0.8, 0.2])\n",
    "\n",
    "# Fit the pipeline with cross-validation\n",
    "cvModel = pipeline.fit(xtrain)\n",
    "\n",
    "# Transform the data using the best model\n",
    "train_transformed = cvModel.transform(xtrain)\n",
    "test_transformed = cvModel.transform(xtest)\n",
    "\n",
    "# Evaluate the best model\n",
    "training_accuracy = evaluator.evaluate(train_transformed)\n",
    "testing_accuracy = evaluator.evaluate(test_transformed)\n",
    "\n",
    "print(f\"Training Model Accuracy ----> {training_accuracy}\")\n",
    "print(f\"Testing Model Accuracy ----> {testing_accuracy}\")\n",
    "\n",
    "# Get the best model from cross-validation\n",
    "bestModel = cvModel.stages[-1].bestModel\n",
    "print(f\"Best Model Parameters: maxDepth={bestModel._java_obj.getMaxDepth()}, minInfoGain={bestModel._java_obj.getMinInfoGain()}, numTrees={bestModel._java_obj.getNumTrees()}\")\n"
   ]
  },
  {
   "cell_type": "markdown",
   "metadata": {
    "application/vnd.databricks.v1+cell": {
     "cellMetadata": {
      "byteLimit": 2048000,
      "rowLimit": 10000
     },
     "inputWidgets": {},
     "nuid": "4b4967c2-18de-40cd-9b8a-77332476b983",
     "showTitle": false,
     "title": ""
    }
   },
   "source": [
    "# Logistic Regression"
   ]
  },
  {
   "cell_type": "code",
   "execution_count": 0,
   "metadata": {
    "application/vnd.databricks.v1+cell": {
     "cellMetadata": {
      "byteLimit": 2048000,
      "rowLimit": 10000
     },
     "inputWidgets": {},
     "nuid": "947f8fb2-4d28-4005-9f95-694f6262c5cf",
     "showTitle": false,
     "title": ""
    }
   },
   "outputs": [],
   "source": [
    "from pyspark.ml.classification import LogisticRegression"
   ]
  },
  {
   "cell_type": "code",
   "execution_count": 0,
   "metadata": {
    "application/vnd.databricks.v1+cell": {
     "cellMetadata": {
      "byteLimit": 2048000,
      "rowLimit": 10000
     },
     "inputWidgets": {},
     "nuid": "97c6b4bb-d4c9-4700-bf0b-57427851ed3c",
     "showTitle": false,
     "title": ""
    }
   },
   "outputs": [
    {
     "output_type": "stream",
     "name": "stdout",
     "output_type": "stream",
     "text": [
      "Training Model Accuracy ----> 0.6454962479120441\nTesting Model Accuracy ----> 0.6413691980988978\n \n ---------------------------------------------------------------------------- \n \nTraining Model Recall Value ----> 0.6454962479120441\nTesting Model Recall Value ----> 0.6413691980988978\n"
     ]
    }
   ],
   "source": [
    "\n",
    "indexer_pb = StringIndexer(inputCol=\"Payment_Behaviour\", outputCol=\"PaymentBehaviourIndex\")\n",
    "indexer_occupation = StringIndexer(inputCol=\"Occupation\", outputCol=\"OccupationIndex\")\n",
    "indexer_creditmix = StringIndexer(inputCol=\"Credit_Mix\", outputCol=\"CreditMixIndex\")\n",
    "indexer_Payment_of_Min_Amount = StringIndexer(inputCol=\"Payment_of_Min_Amount\", outputCol=\"Payment_of_Min_AmountIndex\")\n",
    "indexer_label = StringIndexer(inputCol=\"Credit_Score\", outputCol=\"indexedLabel\") \n",
    "\n",
    "\n",
    "# Define OneHotEncoder stages for the indexed columns\n",
    "encoder_occupation = OneHotEncoder(dropLast=True,inputCol=\"OccupationIndex\", outputCol=\"OccupationVec\")\n",
    "encoder_creditmix = OneHotEncoder(dropLast=True,inputCol=\"CreditMixIndex\", outputCol=\"CreditMixVec\")\n",
    "encoder_pb = OneHotEncoder(dropLast=True,inputCol=\"PaymentBehaviourIndex\", outputCol=\"PaymentBehaviourVec\")\n",
    "encoder_PaymentofMin_Amount=OneHotEncoder(dropLast=True,inputCol=\"Payment_of_Min_AmountIndex\", outputCol=\"Payment_of_Min_AmountVec\")\n",
    "\n",
    "cols=[i for i,j in train_df.dtypes if j in ['int','bigint','double','float','long']]\n",
    "cols.append('OccupationVec')\n",
    "cols.append('CreditMixVec')\n",
    "cols.append('PaymentBehaviourVec')\n",
    "cols.append('Payment_of_Min_AmountVec')\n",
    "\n",
    "\n",
    "# Define the VectorAssembler stage\n",
    "assembler = VectorAssembler(inputCols=cols,outputCol=\"features\")\n",
    "\n",
    "# Define the StandardScaler stage\n",
    "mm = MinMaxScaler(inputCol=\"features\", outputCol=\"scaledFeatures\")\n",
    "\n",
    "#Random Forest\n",
    "lr = LogisticRegression(family='multinomial',featuresCol=\"scaledFeatures\", labelCol=\"indexedLabel\", maxIter=1000)\n",
    "\n",
    "\n",
    "stages = [indexer_pb,indexer_occupation,indexer_creditmix,indexer_label,indexer_Payment_of_Min_Amount,encoder_occupation,encoder_creditmix,encoder_pb,encoder_PaymentofMin_Amount,assembler,mm,lr]\n",
    "# Create the Pipeline\n",
    "pipeline = Pipeline(stages=stages)\n",
    "\n",
    "xtrain,xtest=train_df.randomSplit([0.8,0.2])\n",
    "\n",
    "# Fit the Pipeline\n",
    "lr_model = pipeline.fit(xtrain)\n",
    "\n",
    "# Transform the data\n",
    "tranidf_transformed = lr_model.transform(xtrain)\n",
    "\n",
    "# Evaluate the model\n",
    "\n",
    "#trainig accuracy\n",
    "evaluator = MulticlassClassificationEvaluator(labelCol=\"indexedLabel\", predictionCol=\"prediction\", metricName=\"accuracy\")\n",
    "training_accuracy = evaluator.evaluate(tranidf_transformed)\n",
    "\n",
    "#testing accuracy\n",
    "testdf_transformed = lr_model.transform(xtest)\n",
    "testing_accuracy = evaluator.evaluate(testdf_transformed)\n",
    "\n",
    "print(f\"Training Model Accuracy ----> {training_accuracy}\")\n",
    "print(f\"Testing Model Accuracy ----> {testing_accuracy}\")\n",
    "\n",
    "print(\" \")\n",
    "print(\" ---------------------------------------------------------------------------- \")\n",
    "print(\" \")\n",
    "\n",
    "#trainig recall\n",
    "recall_val = MulticlassClassificationEvaluator(labelCol=\"indexedLabel\", predictionCol=\"prediction\", metricName=\"weightedRecall\")\n",
    "training_recall = recall_val.evaluate(tranidf_transformed)\n",
    "\n",
    "#testing recall\n",
    "testdf_transformed = lr_model.transform(xtest)\n",
    "testing_recall = recall_val.evaluate(testdf_transformed)\n",
    "\n",
    "print(f\"Training Model Recall Value ----> {training_recall}\")\n",
    "print(f\"Testing Model Recall Value ----> {testing_recall}\")"
   ]
  },
  {
   "cell_type": "markdown",
   "metadata": {
    "application/vnd.databricks.v1+cell": {
     "cellMetadata": {
      "byteLimit": 2048000,
      "rowLimit": 10000
     },
     "inputWidgets": {},
     "nuid": "40f3ccc4-67ac-4c39-a001-19fabfd0ab73",
     "showTitle": false,
     "title": ""
    }
   },
   "source": [
    "# Support Vector Machine"
   ]
  },
  {
   "cell_type": "code",
   "execution_count": 0,
   "metadata": {
    "application/vnd.databricks.v1+cell": {
     "cellMetadata": {
      "byteLimit": 2048000,
      "rowLimit": 10000
     },
     "inputWidgets": {},
     "nuid": "9ee70d0a-b6f6-453e-9785-a9952f94b701",
     "showTitle": false,
     "title": ""
    }
   },
   "outputs": [
    {
     "output_type": "stream",
     "name": "stdout",
     "output_type": "stream",
     "text": [
      "Training Model Accuracy ----> 0.6106015291629647\nTesting Model Accuracy ----> 0.6127843879125803\n \n ---------------------------------------------------------------------------- \n \nTraining Model Recall Value ----> 0.6454962479120441\nTesting Model Recall Value ----> 0.6127843879125803\n"
     ]
    }
   ],
   "source": [
    "from pyspark.ml.classification import OneVsRest, LinearSVC\n",
    "from pyspark.ml.evaluation import MulticlassClassificationEvaluator\n",
    "\n",
    "indexer_pb = StringIndexer(inputCol=\"Payment_Behaviour\", outputCol=\"PaymentBehaviourIndex\")\n",
    "indexer_occupation = StringIndexer(inputCol=\"Occupation\", outputCol=\"OccupationIndex\")\n",
    "indexer_creditmix = StringIndexer(inputCol=\"Credit_Mix\", outputCol=\"CreditMixIndex\")\n",
    "indexer_Payment_of_Min_Amount = StringIndexer(inputCol=\"Payment_of_Min_Amount\", outputCol=\"Payment_of_Min_AmountIndex\")\n",
    "indexer_label = StringIndexer(inputCol=\"Credit_Score\", outputCol=\"indexedLabel\") \n",
    "\n",
    "\n",
    "# Define OneHotEncoder stages for the indexed columns\n",
    "encoder_occupation = OneHotEncoder(dropLast=True,inputCol=\"OccupationIndex\", outputCol=\"OccupationVec\")\n",
    "encoder_creditmix = OneHotEncoder(dropLast=True,inputCol=\"CreditMixIndex\", outputCol=\"CreditMixVec\")\n",
    "encoder_pb = OneHotEncoder(dropLast=True,inputCol=\"PaymentBehaviourIndex\", outputCol=\"PaymentBehaviourVec\")\n",
    "encoder_PaymentofMin_Amount=OneHotEncoder(dropLast=True,inputCol=\"Payment_of_Min_AmountIndex\", outputCol=\"Payment_of_Min_AmountVec\")\n",
    "\n",
    "cols=[i for i,j in train_df.dtypes if j in ['int','bigint','double','float','long']]\n",
    "cols.append('OccupationVec')\n",
    "cols.append('CreditMixVec')\n",
    "cols.append('PaymentBehaviourVec')\n",
    "cols.append('Payment_of_Min_AmountVec')\n",
    "\n",
    "# Define the VectorAssembler stage\n",
    "assembler = VectorAssembler(inputCols=cols, outputCol=\"features\")\n",
    "\n",
    "# Define the StandardScaler stage\n",
    "scaler = MinMaxScaler(inputCol=\"features\", outputCol=\"scaledFeatures\")\n",
    "\n",
    "# Define the LinearSVC model\n",
    "svc = LinearSVC(featuresCol=\"scaledFeatures\", labelCol=\"indexedLabel\", predictionCol=\"prediction\",maxIter=10000)\n",
    "\n",
    "# Define the OneVsRest strategy with LinearSVC\n",
    "ovr = OneVsRest(classifier=svc, labelCol=\"indexedLabel\", predictionCol=\"prediction\")\n",
    "\n",
    "# Define the Pipeline stages\n",
    "stages = [indexer_pb,indexer_occupation,indexer_creditmix,indexer_label,indexer_Payment_of_Min_Amount,encoder_occupation,encoder_creditmix,encoder_pb,encoder_PaymentofMin_Amount,assembler,mm,ovr]\n",
    "\n",
    "# Create the Pipeline\n",
    "pipeline = Pipeline(stages=stages)\n",
    "\n",
    "# Split the data\n",
    "xtrain, xtest = train_df.randomSplit([0.8, 0.2])\n",
    "\n",
    "# Fit the Pipeline\n",
    "model = pipeline.fit(xtrain)\n",
    "\n",
    "# Transform the data\n",
    "train_df_transformed = model.transform(xtrain)\n",
    "test_df_transformed = model.transform(xtest)\n",
    "\n",
    "# Evaluate the model\n",
    "evaluator = MulticlassClassificationEvaluator(labelCol=\"indexedLabel\", predictionCol=\"prediction\", metricName=\"accuracy\")\n",
    "\n",
    "# Training accuracy\n",
    "training_accuracy = evaluator.evaluate(train_df_transformed)\n",
    "\n",
    "# Testing accuracy\n",
    "testing_accuracy = evaluator.evaluate(test_df_transformed)\n",
    "\n",
    "print(f\"Training Model Accuracy ----> {training_accuracy}\")\n",
    "print(f\"Testing Model Accuracy ----> {testing_accuracy}\")\n",
    "\n",
    "print(\" \")\n",
    "print(\" ---------------------------------------------------------------------------- \")\n",
    "print(\" \")\n",
    "\n",
    "#trainig recall\n",
    "recall_val = MulticlassClassificationEvaluator(labelCol=\"indexedLabel\", predictionCol=\"prediction\", metricName=\"weightedRecall\")\n",
    "training_recall = recall_val.evaluate(tranidf_transformed)\n",
    "\n",
    "#testing recall\n",
    "testdf_transformed = model.transform(xtest)\n",
    "testing_recall = recall_val.evaluate(testdf_transformed)\n",
    "\n",
    "print(f\"Training Model Recall Value ----> {training_recall}\")\n",
    "print(f\"Testing Model Recall Value ----> {testing_recall}\")"
   ]
  },
  {
   "cell_type": "markdown",
   "metadata": {
    "application/vnd.databricks.v1+cell": {
     "cellMetadata": {
      "byteLimit": 2048000,
      "rowLimit": 10000
     },
     "inputWidgets": {},
     "nuid": "080a333e-1284-4eac-960c-c6b08be0e4c3",
     "showTitle": false,
     "title": ""
    }
   },
   "source": [
    "##  <p style=\"padding:10px;background-color:yellow ;margin:10;color:#000000;font-family:newtimeroman;font-size:100%;border-radius: 10px 10px ;overflow:hidden;font-weight:50\">Random Forest gave the highest accuracy and recall </p> \n"
   ]
  }
 ],
 "metadata": {
  "application/vnd.databricks.v1+notebook": {
   "dashboards": [],
   "environmentMetadata": null,
   "language": "python",
   "notebookMetadata": {
    "pythonIndentUnit": 4
   },
   "notebookName": "Credit Score Prediction : ML",
   "widgets": {}
  }
 },
 "nbformat": 4,
 "nbformat_minor": 0
}
