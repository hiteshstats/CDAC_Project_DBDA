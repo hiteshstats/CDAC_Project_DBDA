{
 "cells": [
  {
   "cell_type": "markdown",
   "metadata": {
    "application/vnd.databricks.v1+cell": {
     "cellMetadata": {},
     "inputWidgets": {},
     "nuid": "a8279f25-ff9e-4dfd-8ef5-5b23fa14fdf9",
     "showTitle": false,
     "title": ""
    }
   },
   "source": [
    "#  <p style=\"padding:10px;background-color:#87CEEB ;margin:10;color:#000000;font-family:newtimeroman;font-size:100%;text-align:center;border-radius: 10px 10px ;overflow:hidden;font-weight:50\"> Credit Score Predictor : System That Predicts Customer Credit Scores Based on Financial Data</p>"
   ]
  },
  {
   "cell_type": "markdown",
   "metadata": {
    "application/vnd.databricks.v1+cell": {
     "cellMetadata": {},
     "inputWidgets": {},
     "nuid": "6026a2c9-a040-4930-88e3-576af6c61377",
     "showTitle": false,
     "title": ""
    }
   },
   "source": [
    "##  <p style=\"padding:10px;background-color:Pink ;margin:10;color:#000000;font-family:newtimeroman;font-size:100%;border-radius: 10px 10px ;overflow:hidden;font-weight:50\">Data Ingestion</p>"
   ]
  },
  {
   "cell_type": "code",
   "execution_count": 0,
   "metadata": {
    "application/vnd.databricks.v1+cell": {
     "cellMetadata": {
      "byteLimit": 2048000,
      "rowLimit": 10000
     },
     "inputWidgets": {},
     "nuid": "fc37ac27-5d4e-47b1-a1ad-fad17eefb803",
     "showTitle": false,
     "title": ""
    }
   },
   "outputs": [
    {
     "output_type": "display_data",
     "data": {
      "text/html": [
       "<style scoped>\n",
       "  .table-result-container {\n",
       "    max-height: 300px;\n",
       "    overflow: auto;\n",
       "  }\n",
       "  table, th, td {\n",
       "    border: 1px solid black;\n",
       "    border-collapse: collapse;\n",
       "  }\n",
       "  th, td {\n",
       "    padding: 5px;\n",
       "  }\n",
       "  th {\n",
       "    text-align: left;\n",
       "  }\n",
       "</style><div class='table-result-container'><table class='table-result'><thead style='background-color: white'><tr><th>ID</th><th>Customer_ID</th><th>Month</th><th>Name</th><th>Age</th><th>SSN</th><th>Occupation</th><th>Annual_Income</th><th>Monthly_Inhand_Salary</th><th>Num_Bank_Accounts</th><th>Num_Credit_Card</th><th>Interest_Rate</th><th>Num_of_Loan</th><th>Type_of_Loan</th><th>Delay_from_due_date</th><th>Num_of_Delayed_Payment</th><th>Changed_Credit_Limit</th><th>Num_Credit_Inquiries</th><th>Credit_Mix</th><th>Outstanding_Debt</th><th>Credit_Utilization_Ratio</th><th>Credit_History_Age</th><th>Payment_of_Min_Amount</th><th>Total_EMI_per_month</th><th>Amount_invested_monthly</th><th>Payment_Behaviour</th><th>Monthly_Balance</th><th>Credit_Score</th></tr></thead><tbody><tr><td>0x1602</td><td>CUS_0xd40</td><td>January</td><td>Aaron Maashoh</td><td>23</td><td>821-00-0265</td><td>Scientist</td><td>19114.12</td><td>1824.8433333333328</td><td>3</td><td>4</td><td>3</td><td>4</td><td>Auto Loan, Credit-Builder Loan, Personal Loan, and Home Equity Loan</td><td>3</td><td>7</td><td>11.27</td><td>4.0</td><td>_</td><td>809.98</td><td>26.822619623699016</td><td>22 Years and 1 Months</td><td>No</td><td>49.57494921489417</td><td>80.41529543900253</td><td>High_spent_Small_value_payments</td><td>312.49408867943663</td><td>Good</td></tr><tr><td>0x1603</td><td>CUS_0xd40</td><td>February</td><td>Aaron Maashoh</td><td>23</td><td>821-00-0265</td><td>Scientist</td><td>19114.12</td><td>null</td><td>3</td><td>4</td><td>3</td><td>4</td><td>Auto Loan, Credit-Builder Loan, Personal Loan, and Home Equity Loan</td><td>-1</td><td>null</td><td>11.27</td><td>4.0</td><td>Good</td><td>809.98</td><td>31.94496005538421</td><td>NA</td><td>No</td><td>49.57494921489417</td><td>118.28022162236736</td><td>Low_spent_Large_value_payments</td><td>284.62916249607184</td><td>Good</td></tr><tr><td>0x1604</td><td>CUS_0xd40</td><td>March</td><td>Aaron Maashoh</td><td>-500</td><td>821-00-0265</td><td>Scientist</td><td>19114.12</td><td>null</td><td>3</td><td>4</td><td>3</td><td>4</td><td>Auto Loan, Credit-Builder Loan, Personal Loan, and Home Equity Loan</td><td>3</td><td>7</td><td>_</td><td>4.0</td><td>Good</td><td>809.98</td><td>28.60935202206993</td><td>22 Years and 3 Months</td><td>No</td><td>49.57494921489417</td><td>81.699521264648</td><td>Low_spent_Medium_value_payments</td><td>331.2098628537912</td><td>Good</td></tr><tr><td>0x1605</td><td>CUS_0xd40</td><td>April</td><td>Aaron Maashoh</td><td>23</td><td>821-00-0265</td><td>Scientist</td><td>19114.12</td><td>null</td><td>3</td><td>4</td><td>3</td><td>4</td><td>Auto Loan, Credit-Builder Loan, Personal Loan, and Home Equity Loan</td><td>5</td><td>4</td><td>6.27</td><td>4.0</td><td>Good</td><td>809.98</td><td>31.377861869582354</td><td>22 Years and 4 Months</td><td>No</td><td>49.57494921489417</td><td>199.4580743910713</td><td>Low_spent_Small_value_payments</td><td>223.45130972736786</td><td>Good</td></tr><tr><td>0x1606</td><td>CUS_0xd40</td><td>May</td><td>Aaron Maashoh</td><td>23</td><td>821-00-0265</td><td>Scientist</td><td>19114.12</td><td>1824.8433333333328</td><td>3</td><td>4</td><td>3</td><td>4</td><td>Auto Loan, Credit-Builder Loan, Personal Loan, and Home Equity Loan</td><td>6</td><td>null</td><td>11.27</td><td>4.0</td><td>Good</td><td>809.98</td><td>24.797346908844986</td><td>22 Years and 5 Months</td><td>No</td><td>49.57494921489417</td><td>41.420153086217326</td><td>High_spent_Medium_value_payments</td><td>341.48923103222177</td><td>Good</td></tr></tbody></table></div>"
      ]
     },
     "metadata": {
      "application/vnd.databricks.v1+output": {
       "addedWidgets": {},
       "aggData": [],
       "aggError": "",
       "aggOverflow": false,
       "aggSchema": [],
       "aggSeriesLimitReached": false,
       "aggType": "",
       "arguments": {},
       "columnCustomDisplayInfos": {},
       "data": [
        [
         "0x1602",
         "CUS_0xd40",
         "January",
         "Aaron Maashoh",
         "23",
         "821-00-0265",
         "Scientist",
         "19114.12",
         1824.8433333333328,
         3,
         4,
         3,
         "4",
         "Auto Loan, Credit-Builder Loan, Personal Loan, and Home Equity Loan",
         3,
         "7",
         "11.27",
         4.0,
         "_",
         "809.98",
         26.822619623699016,
         "22 Years and 1 Months",
         "No",
         49.57494921489417,
         "80.41529543900253",
         "High_spent_Small_value_payments",
         "312.49408867943663",
         "Good"
        ],
        [
         "0x1603",
         "CUS_0xd40",
         "February",
         "Aaron Maashoh",
         "23",
         "821-00-0265",
         "Scientist",
         "19114.12",
         null,
         3,
         4,
         3,
         "4",
         "Auto Loan, Credit-Builder Loan, Personal Loan, and Home Equity Loan",
         -1,
         null,
         "11.27",
         4.0,
         "Good",
         "809.98",
         31.94496005538421,
         "NA",
         "No",
         49.57494921489417,
         "118.28022162236736",
         "Low_spent_Large_value_payments",
         "284.62916249607184",
         "Good"
        ],
        [
         "0x1604",
         "CUS_0xd40",
         "March",
         "Aaron Maashoh",
         "-500",
         "821-00-0265",
         "Scientist",
         "19114.12",
         null,
         3,
         4,
         3,
         "4",
         "Auto Loan, Credit-Builder Loan, Personal Loan, and Home Equity Loan",
         3,
         "7",
         "_",
         4.0,
         "Good",
         "809.98",
         28.60935202206993,
         "22 Years and 3 Months",
         "No",
         49.57494921489417,
         "81.699521264648",
         "Low_spent_Medium_value_payments",
         "331.2098628537912",
         "Good"
        ],
        [
         "0x1605",
         "CUS_0xd40",
         "April",
         "Aaron Maashoh",
         "23",
         "821-00-0265",
         "Scientist",
         "19114.12",
         null,
         3,
         4,
         3,
         "4",
         "Auto Loan, Credit-Builder Loan, Personal Loan, and Home Equity Loan",
         5,
         "4",
         "6.27",
         4.0,
         "Good",
         "809.98",
         31.377861869582354,
         "22 Years and 4 Months",
         "No",
         49.57494921489417,
         "199.4580743910713",
         "Low_spent_Small_value_payments",
         "223.45130972736786",
         "Good"
        ],
        [
         "0x1606",
         "CUS_0xd40",
         "May",
         "Aaron Maashoh",
         "23",
         "821-00-0265",
         "Scientist",
         "19114.12",
         1824.8433333333328,
         3,
         4,
         3,
         "4",
         "Auto Loan, Credit-Builder Loan, Personal Loan, and Home Equity Loan",
         6,
         null,
         "11.27",
         4.0,
         "Good",
         "809.98",
         24.797346908844986,
         "22 Years and 5 Months",
         "No",
         49.57494921489417,
         "41.420153086217326",
         "High_spent_Medium_value_payments",
         "341.48923103222177",
         "Good"
        ]
       ],
       "datasetInfos": [],
       "dbfsResultPath": null,
       "isJsonSchema": true,
       "metadata": {},
       "overflow": false,
       "plotOptions": {
        "customPlotOptions": {},
        "displayType": "table",
        "pivotAggregation": null,
        "pivotColumns": null,
        "xColumns": null,
        "yColumns": null
       },
       "removedWidgets": [],
       "schema": [
        {
         "metadata": "{}",
         "name": "ID",
         "type": "\"string\""
        },
        {
         "metadata": "{}",
         "name": "Customer_ID",
         "type": "\"string\""
        },
        {
         "metadata": "{}",
         "name": "Month",
         "type": "\"string\""
        },
        {
         "metadata": "{}",
         "name": "Name",
         "type": "\"string\""
        },
        {
         "metadata": "{}",
         "name": "Age",
         "type": "\"string\""
        },
        {
         "metadata": "{}",
         "name": "SSN",
         "type": "\"string\""
        },
        {
         "metadata": "{}",
         "name": "Occupation",
         "type": "\"string\""
        },
        {
         "metadata": "{}",
         "name": "Annual_Income",
         "type": "\"string\""
        },
        {
         "metadata": "{}",
         "name": "Monthly_Inhand_Salary",
         "type": "\"double\""
        },
        {
         "metadata": "{}",
         "name": "Num_Bank_Accounts",
         "type": "\"long\""
        },
        {
         "metadata": "{}",
         "name": "Num_Credit_Card",
         "type": "\"long\""
        },
        {
         "metadata": "{}",
         "name": "Interest_Rate",
         "type": "\"long\""
        },
        {
         "metadata": "{}",
         "name": "Num_of_Loan",
         "type": "\"string\""
        },
        {
         "metadata": "{}",
         "name": "Type_of_Loan",
         "type": "\"string\""
        },
        {
         "metadata": "{}",
         "name": "Delay_from_due_date",
         "type": "\"long\""
        },
        {
         "metadata": "{}",
         "name": "Num_of_Delayed_Payment",
         "type": "\"string\""
        },
        {
         "metadata": "{}",
         "name": "Changed_Credit_Limit",
         "type": "\"string\""
        },
        {
         "metadata": "{}",
         "name": "Num_Credit_Inquiries",
         "type": "\"double\""
        },
        {
         "metadata": "{}",
         "name": "Credit_Mix",
         "type": "\"string\""
        },
        {
         "metadata": "{}",
         "name": "Outstanding_Debt",
         "type": "\"string\""
        },
        {
         "metadata": "{}",
         "name": "Credit_Utilization_Ratio",
         "type": "\"double\""
        },
        {
         "metadata": "{}",
         "name": "Credit_History_Age",
         "type": "\"string\""
        },
        {
         "metadata": "{}",
         "name": "Payment_of_Min_Amount",
         "type": "\"string\""
        },
        {
         "metadata": "{}",
         "name": "Total_EMI_per_month",
         "type": "\"double\""
        },
        {
         "metadata": "{}",
         "name": "Amount_invested_monthly",
         "type": "\"string\""
        },
        {
         "metadata": "{}",
         "name": "Payment_Behaviour",
         "type": "\"string\""
        },
        {
         "metadata": "{}",
         "name": "Monthly_Balance",
         "type": "\"string\""
        },
        {
         "metadata": "{}",
         "name": "Credit_Score",
         "type": "\"string\""
        }
       ],
       "type": "table"
      }
     },
     "output_type": "display_data"
    }
   ],
   "source": [
    "A=spark.read.parquet(\"dbfs:/mnt/ADLS_Landing/Bank_Data/Raw_Data/creditscore.parquet\")\n",
    "display(A.limit(5))\n"
   ]
  },
  {
   "cell_type": "markdown",
   "metadata": {
    "application/vnd.databricks.v1+cell": {
     "cellMetadata": {
      "byteLimit": 2048000,
      "rowLimit": 10000
     },
     "inputWidgets": {},
     "nuid": "0ea1b49f-8766-493d-b456-7c60dc0d26ac",
     "showTitle": false,
     "title": ""
    }
   },
   "source": [
    "##  <p style=\"padding:10px;background-color:Pink ;margin:10;color:#000000;font-family:newtimeroman;font-size:100%;border-radius: 10px 10px ;overflow:hidden;font-weight:50\">ETL</p>"
   ]
  },
  {
   "cell_type": "code",
   "execution_count": 0,
   "metadata": {
    "application/vnd.databricks.v1+cell": {
     "cellMetadata": {
      "byteLimit": 2048000,
      "rowLimit": 10000
     },
     "inputWidgets": {},
     "nuid": "64fd7eab-3e82-439d-a9df-db67b9935723",
     "showTitle": false,
     "title": ""
    }
   },
   "outputs": [],
   "source": [
    "from pyspark.sql.functions import col,expr,substring"
   ]
  },
  {
   "cell_type": "markdown",
   "metadata": {
    "application/vnd.databricks.v1+cell": {
     "cellMetadata": {
      "byteLimit": 2048000,
      "rowLimit": 10000
     },
     "inputWidgets": {},
     "nuid": "1fa1b5c4-1397-4149-a948-61cbb79a707e",
     "showTitle": false,
     "title": ""
    }
   },
   "source": [
    "## i) Ending with underscore "
   ]
  },
  {
   "cell_type": "code",
   "execution_count": 0,
   "metadata": {
    "application/vnd.databricks.v1+cell": {
     "cellMetadata": {
      "byteLimit": 2048000,
      "rowLimit": 10000
     },
     "inputWidgets": {},
     "nuid": "68487b71-daf4-4451-8684-4a2192c64720",
     "showTitle": false,
     "title": ""
    }
   },
   "outputs": [
    {
     "output_type": "stream",
     "name": "stdout",
     "output_type": "stream",
     "text": [
      "ID  ---->  0\nCustomer_ID  ---->  0\nMonth  ---->  0\nName  ---->  0\nAge  ---->  4939\nSSN  ---->  0\nOccupation  ---->  7062\nAnnual_Income  ---->  6980\nMonthly_Inhand_Salary  ---->  0\nNum_Bank_Accounts  ---->  0\nNum_Credit_Card  ---->  0\nInterest_Rate  ---->  0\nNum_of_Loan  ---->  4785\nType_of_Loan  ---->  0\nDelay_from_due_date  ---->  0\nNum_of_Delayed_Payment  ---->  2744\nChanged_Credit_Limit  ---->  2091\nNum_Credit_Inquiries  ---->  0\nCredit_Mix  ---->  20195\nOutstanding_Debt  ---->  1009\nCredit_Utilization_Ratio  ---->  0\nCredit_History_Age  ---->  0\nPayment_of_Min_Amount  ---->  0\nTotal_EMI_per_month  ---->  0\nAmount_invested_monthly  ---->  4305\nPayment_Behaviour  ---->  0\nMonthly_Balance  ---->  9\nCredit_Score  ---->  0\n"
     ]
    }
   ],
   "source": [
    "for i in A.columns:\n",
    "    counts= A.filter(col(i).endswith(\"_\")).count()\n",
    "    print(f\"{i}  ---->  {counts}\")"
   ]
  },
  {
   "cell_type": "markdown",
   "metadata": {
    "application/vnd.databricks.v1+cell": {
     "cellMetadata": {
      "byteLimit": 2048000,
      "rowLimit": 10000
     },
     "inputWidgets": {},
     "nuid": "6442ecc3-40ac-4013-8ff6-5fae3d7ecc9d",
     "showTitle": false,
     "title": ""
    }
   },
   "source": [
    "## ii) Starting with '!'"
   ]
  },
  {
   "cell_type": "code",
   "execution_count": 0,
   "metadata": {
    "application/vnd.databricks.v1+cell": {
     "cellMetadata": {
      "byteLimit": 2048000,
      "rowLimit": 10000
     },
     "inputWidgets": {},
     "nuid": "6d0f90c5-0a7d-45fa-9dee-7a8bc230f15e",
     "showTitle": false,
     "title": ""
    }
   },
   "outputs": [
    {
     "output_type": "stream",
     "name": "stdout",
     "output_type": "stream",
     "text": [
      "ID  ---->  0\nCustomer_ID  ---->  0\nMonth  ---->  0\nName  ---->  0\nAge  ---->  0\nSSN  ---->  0\nOccupation  ---->  0\nAnnual_Income  ---->  0\nMonthly_Inhand_Salary  ---->  0\nNum_Bank_Accounts  ---->  0\nNum_Credit_Card  ---->  0\nInterest_Rate  ---->  0\nNum_of_Loan  ---->  0\nType_of_Loan  ---->  0\nDelay_from_due_date  ---->  0\nNum_of_Delayed_Payment  ---->  0\nChanged_Credit_Limit  ---->  0\nNum_Credit_Inquiries  ---->  0\nCredit_Mix  ---->  0\nOutstanding_Debt  ---->  0\nCredit_Utilization_Ratio  ---->  0\nCredit_History_Age  ---->  0\nPayment_of_Min_Amount  ---->  0\nTotal_EMI_per_month  ---->  0\nAmount_invested_monthly  ---->  0\nPayment_Behaviour  ---->  7600\nMonthly_Balance  ---->  0\nCredit_Score  ---->  0\n"
     ]
    }
   ],
   "source": [
    "for i in A.columns:\n",
    "    counts= A.filter(col(i).startswith(\"!\")).count()\n",
    "    print(f\"{i}  ---->  {counts}\")"
   ]
  },
  {
   "cell_type": "code",
   "execution_count": 0,
   "metadata": {
    "application/vnd.databricks.v1+cell": {
     "cellMetadata": {
      "byteLimit": 2048000,
      "rowLimit": 10000
     },
     "inputWidgets": {},
     "nuid": "37d28d60-31ff-4d3d-b913-70b057286957",
     "showTitle": false,
     "title": ""
    }
   },
   "outputs": [],
   "source": [
    "A.createOrReplaceTempView(\"table\")"
   ]
  },
  {
   "cell_type": "code",
   "execution_count": 0,
   "metadata": {
    "application/vnd.databricks.v1+cell": {
     "cellMetadata": {
      "byteLimit": 2048000,
      "implicitDf": true,
      "rowLimit": 10000
     },
     "inputWidgets": {},
     "nuid": "74e5883a-3049-46a1-aab5-6141527df6a5",
     "showTitle": false,
     "title": ""
    }
   },
   "outputs": [
    {
     "output_type": "display_data",
     "data": {
      "text/html": [
       "<style scoped>\n",
       "  .table-result-container {\n",
       "    max-height: 300px;\n",
       "    overflow: auto;\n",
       "  }\n",
       "  table, th, td {\n",
       "    border: 1px solid black;\n",
       "    border-collapse: collapse;\n",
       "  }\n",
       "  th, td {\n",
       "    padding: 5px;\n",
       "  }\n",
       "  th {\n",
       "    text-align: left;\n",
       "  }\n",
       "</style><div class='table-result-container'><table class='table-result'><thead style='background-color: white'><tr><th>payment_behaviour</th><th>cnt</th></tr></thead><tbody><tr><td>Low_spent_Small_value_payments</td><td>25513</td></tr><tr><td>High_spent_Medium_value_payments</td><td>17540</td></tr><tr><td>High_spent_Small_value_payments</td><td>11340</td></tr><tr><td>Low_spent_Large_value_payments</td><td>10425</td></tr><tr><td>Low_spent_Medium_value_payments</td><td>13861</td></tr><tr><td>High_spent_Large_value_payments</td><td>13721</td></tr><tr><td>!@9#%8</td><td>7600</td></tr></tbody></table></div>"
      ]
     },
     "metadata": {
      "application/vnd.databricks.v1+output": {
       "addedWidgets": {},
       "aggData": [],
       "aggError": "",
       "aggOverflow": false,
       "aggSchema": [],
       "aggSeriesLimitReached": false,
       "aggType": "",
       "arguments": {},
       "columnCustomDisplayInfos": {},
       "data": [
        [
         "Low_spent_Small_value_payments",
         25513
        ],
        [
         "High_spent_Medium_value_payments",
         17540
        ],
        [
         "High_spent_Small_value_payments",
         11340
        ],
        [
         "Low_spent_Large_value_payments",
         10425
        ],
        [
         "Low_spent_Medium_value_payments",
         13861
        ],
        [
         "High_spent_Large_value_payments",
         13721
        ],
        [
         "!@9#%8",
         7600
        ]
       ],
       "datasetInfos": [],
       "dbfsResultPath": null,
       "isJsonSchema": true,
       "metadata": {},
       "overflow": false,
       "plotOptions": {
        "customPlotOptions": {},
        "displayType": "table",
        "pivotAggregation": null,
        "pivotColumns": null,
        "xColumns": null,
        "yColumns": null
       },
       "removedWidgets": [],
       "schema": [
        {
         "metadata": "{}",
         "name": "payment_behaviour",
         "type": "\"string\""
        },
        {
         "metadata": "{}",
         "name": "cnt",
         "type": "\"long\""
        }
       ],
       "type": "table"
      }
     },
     "output_type": "display_data"
    }
   ],
   "source": [
    "%sql\n",
    "select payment_behaviour,count(*) cnt from table group by payment_behaviour"
   ]
  },
  {
   "cell_type": "markdown",
   "metadata": {
    "application/vnd.databricks.v1+cell": {
     "cellMetadata": {
      "byteLimit": 2048000,
      "rowLimit": 10000
     },
     "inputWidgets": {},
     "nuid": "ec50198a-0f82-455b-a07c-ddfd9901b704",
     "showTitle": false,
     "title": ""
    }
   },
   "source": [
    "## iii) Negative values\n"
   ]
  },
  {
   "cell_type": "code",
   "execution_count": 0,
   "metadata": {
    "application/vnd.databricks.v1+cell": {
     "cellMetadata": {
      "byteLimit": 2048000,
      "rowLimit": 10000
     },
     "inputWidgets": {},
     "nuid": "f3edc6d4-1d90-4675-a74b-b25e56eb9a8d",
     "showTitle": false,
     "title": ""
    }
   },
   "outputs": [
    {
     "output_type": "stream",
     "name": "stdout",
     "output_type": "stream",
     "text": [
      "ID  ---->  0\nCustomer_ID  ---->  0\nMonth  ---->  0\nName  ---->  0\nAge  ---->  886\nSSN  ---->  0\nOccupation  ---->  0\nAnnual_Income  ---->  0\nMonthly_Inhand_Salary  ---->  0\nNum_Bank_Accounts  ---->  21\nNum_Credit_Card  ---->  0\nInterest_Rate  ---->  0\nNum_of_Loan  ---->  3876\nType_of_Loan  ---->  0\nDelay_from_due_date  ---->  591\nNum_of_Delayed_Payment  ---->  644\nChanged_Credit_Limit  ---->  1586\nNum_Credit_Inquiries  ---->  0\nCredit_Mix  ---->  0\nOutstanding_Debt  ---->  0\nCredit_Utilization_Ratio  ---->  0\nCredit_History_Age  ---->  0\nPayment_of_Min_Amount  ---->  0\nTotal_EMI_per_month  ---->  0\nAmount_invested_monthly  ---->  0\nPayment_Behaviour  ---->  0\nMonthly_Balance  ---->  0\nCredit_Score  ---->  0\n"
     ]
    }
   ],
   "source": [
    "for i in A.columns:\n",
    "    counts= A.filter(col(i).startswith(\"-\")).count()\n",
    "    print(f\"{i}  ---->  {counts}\")"
   ]
  },
  {
   "cell_type": "markdown",
   "metadata": {
    "application/vnd.databricks.v1+cell": {
     "cellMetadata": {
      "byteLimit": 2048000,
      "rowLimit": 10000
     },
     "inputWidgets": {},
     "nuid": "cddfd240-7f4c-4160-9163-df1de85f8e16",
     "showTitle": false,
     "title": ""
    }
   },
   "source": [
    "## iv) Empty spaces"
   ]
  },
  {
   "cell_type": "code",
   "execution_count": 0,
   "metadata": {
    "application/vnd.databricks.v1+cell": {
     "cellMetadata": {
      "byteLimit": 2048000,
      "implicitDf": true,
      "rowLimit": 10000
     },
     "inputWidgets": {},
     "nuid": "d3bff8e5-7d46-4b62-a424-7dee0da5a798",
     "showTitle": false,
     "title": ""
    }
   },
   "outputs": [
    {
     "output_type": "display_data",
     "data": {
      "text/html": [
       "<style scoped>\n",
       "  .table-result-container {\n",
       "    max-height: 300px;\n",
       "    overflow: auto;\n",
       "  }\n",
       "  table, th, td {\n",
       "    border: 1px solid black;\n",
       "    border-collapse: collapse;\n",
       "  }\n",
       "  th, td {\n",
       "    padding: 5px;\n",
       "  }\n",
       "  th {\n",
       "    text-align: left;\n",
       "  }\n",
       "</style><div class='table-result-container'><table class='table-result'><thead style='background-color: white'><tr><th>occupation</th><th>cnt</th></tr></thead><tbody><tr><td>Scientist</td><td>6299</td></tr><tr><td>Media_Manager</td><td>6232</td></tr><tr><td>Musician</td><td>5911</td></tr><tr><td>Lawyer</td><td>6575</td></tr><tr><td>Teacher</td><td>6215</td></tr><tr><td>Developer</td><td>6235</td></tr><tr><td>Writer</td><td>5885</td></tr><tr><td>Architect</td><td>6355</td></tr><tr><td>Mechanic</td><td>6291</td></tr><tr><td>Entrepreneur</td><td>6174</td></tr><tr><td>Journalist</td><td>6085</td></tr><tr><td>Doctor</td><td>6087</td></tr><tr><td>Engineer</td><td>6350</td></tr><tr><td>Accountant</td><td>6271</td></tr><tr><td>Manager</td><td>5973</td></tr><tr><td>_______</td><td>7062</td></tr></tbody></table></div>"
      ]
     },
     "metadata": {
      "application/vnd.databricks.v1+output": {
       "addedWidgets": {},
       "aggData": [],
       "aggError": "",
       "aggOverflow": false,
       "aggSchema": [],
       "aggSeriesLimitReached": false,
       "aggType": "",
       "arguments": {},
       "columnCustomDisplayInfos": {},
       "data": [
        [
         "Scientist",
         6299
        ],
        [
         "Media_Manager",
         6232
        ],
        [
         "Musician",
         5911
        ],
        [
         "Lawyer",
         6575
        ],
        [
         "Teacher",
         6215
        ],
        [
         "Developer",
         6235
        ],
        [
         "Writer",
         5885
        ],
        [
         "Architect",
         6355
        ],
        [
         "Mechanic",
         6291
        ],
        [
         "Entrepreneur",
         6174
        ],
        [
         "Journalist",
         6085
        ],
        [
         "Doctor",
         6087
        ],
        [
         "Engineer",
         6350
        ],
        [
         "Accountant",
         6271
        ],
        [
         "Manager",
         5973
        ],
        [
         "_______",
         7062
        ]
       ],
       "datasetInfos": [],
       "dbfsResultPath": null,
       "isJsonSchema": true,
       "metadata": {},
       "overflow": false,
       "plotOptions": {
        "customPlotOptions": {},
        "displayType": "table",
        "pivotAggregation": null,
        "pivotColumns": null,
        "xColumns": null,
        "yColumns": null
       },
       "removedWidgets": [],
       "schema": [
        {
         "metadata": "{}",
         "name": "occupation",
         "type": "\"string\""
        },
        {
         "metadata": "{}",
         "name": "cnt",
         "type": "\"long\""
        }
       ],
       "type": "table"
      }
     },
     "output_type": "display_data"
    }
   ],
   "source": [
    "%sql\n",
    "select occupation,count(*) cnt from table group by occupation"
   ]
  },
  {
   "cell_type": "markdown",
   "metadata": {
    "application/vnd.databricks.v1+cell": {
     "cellMetadata": {},
     "inputWidgets": {},
     "nuid": "6bcaa644-00b0-4b23-9969-6e80c1130909",
     "showTitle": false,
     "title": ""
    }
   },
   "source": [
    "##  <p style=\"padding:10px;background-color:yellow ;margin:10;color:#000000;font-family:newtimeroman;font-size:100%;border-radius: 10px 10px ;overflow:hidden;font-weight:50\">This data was cleaned in ADF using dataflow activity and stored in ADLS</p>"
   ]
  },
  {
   "cell_type": "code",
   "execution_count": 0,
   "metadata": {
    "application/vnd.databricks.v1+cell": {
     "cellMetadata": {
      "byteLimit": 2048000,
      "rowLimit": 10000
     },
     "inputWidgets": {},
     "nuid": "0caaab36-184b-494a-aef4-f6724ccb4ddc",
     "showTitle": false,
     "title": ""
    }
   },
   "outputs": [],
   "source": []
  }
 ],
 "metadata": {
  "application/vnd.databricks.v1+notebook": {
   "dashboards": [],
   "environmentMetadata": null,
   "language": "python",
   "notebookMetadata": {
    "mostRecentlyExecutedCommandWithImplicitDF": {
     "commandId": 2343768564671618,
     "dataframes": [
      "_sqldf"
     ]
    },
    "pythonIndentUnit": 4
   },
   "notebookName": "Credit Score Prediction : Stage-1",
   "widgets": {}
  }
 },
 "nbformat": 4,
 "nbformat_minor": 0
}
