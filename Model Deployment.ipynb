{
 "cells": [
  {
   "cell_type": "code",
   "execution_count": 0,
   "metadata": {
    "application/vnd.databricks.v1+cell": {
     "cellMetadata": {
      "byteLimit": 2048000,
      "rowLimit": 10000
     },
     "inputWidgets": {},
     "nuid": "078d347e-b563-4155-9d26-9a2acffbd26e",
     "showTitle": false,
     "title": ""
    }
   },
   "outputs": [],
   "source": [
    "def predict_credit_score():\n",
    "    path=input(\"Enter path of the file you want to predict: \")\n",
    "    xtest=spark.read.csv(path,header=True,inferSchema=True)\n",
    "    from pyspark.ml import PipelineModel\n",
    "    model_path = \"dbfs:/mnt/ADLS_Landing/Model/\"\n",
    "    loaded_rf_model = PipelineModel.load(model_path)\n",
    "    new_data_predictions = loaded_rf_model.transform(xtest)\n",
    "    # Select the required columns: 'Customer_ID' and 'prediction'\n",
    "    result_df = new_data_predictions.select(\"Customer_ID\", \"prediction\")\n",
    "    # Save the result as a CSV file to the specified output path\n",
    "    result_df.coalesce(1).write.mode(\"overwrite\").format(\"csv\").option(\"header\", \"true\").save(\"dbfs:/mnt/ADLS_Landing/output\")\n",
    "    # Plot bar chart using display function\n",
    "    from pyspark.sql.functions import count\n",
    "    op=result_df.groupBy('prediction').agg(count('*').alias('Count'))\n",
    "    pandas_df = op.toPandas()\n",
    "    display(pandas_df.plot(kind='bar', x='prediction', y='Count', title='Result'))"
   ]
  },
  {
   "cell_type": "code",
   "execution_count": 0,
   "metadata": {
    "application/vnd.databricks.v1+cell": {
     "cellMetadata": {
      "byteLimit": 2048000,
      "rowLimit": 10000
     },
     "inputWidgets": {},
     "nuid": "beb46342-8ee8-46d6-ae85-2be9c7662542",
     "showTitle": false,
     "title": ""
    }
   },
   "outputs": [
    {
     "output_type": "display_data",
     "data": {
      "text/plain": [
       "Enter path of the file you want to predict:  dbfs:/mnt/ADLS_Landing/test_data/part-00000-tid-289591972118319462-7a8aa09e-6775-4ad6-a5cb-c50a7a89019f-9879-1-c000.csv"
      ]
     },
     "metadata": {},
     "output_type": "display_data"
    },
    {
     "output_type": "stream",
     "name": "stdout",
     "output_type": "stream",
     "text": [
      "<AxesSubplot:title={'center':'Result'}, xlabel='prediction'>"
     ]
    },
    {
     "output_type": "display_data",
     "data": {
      "image/png": "[encoded data removed]"
     },
     "metadata": {
      "application/vnd.databricks.v1+output": {
       "addedWidgets": {},
       "arguments": {},
       "data": "data:image/png;base64,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\n",
       "datasetInfos": [],
       "metadata": {},
       "removedWidgets": [],
       "type": "image"
      }
     },
     "output_type": "display_data"
    }
   ],
   "source": [
    "predict_credit_score()"
   ]
  },
  {
   "cell_type": "markdown",
   "metadata": {
    "application/vnd.databricks.v1+cell": {
     "cellMetadata": {},
     "inputWidgets": {},
     "nuid": "e4dab4c4-a120-4ee1-aa55-360605b91cdc",
     "showTitle": false,
     "title": ""
    }
   },
   "source": [
    "#Standard - 0\n",
    "#poor - 1\n",
    "#Good - 2"
   ]
  },
  {
   "cell_type": "code",
   "execution_count": 0,
   "metadata": {
    "application/vnd.databricks.v1+cell": {
     "cellMetadata": {},
     "inputWidgets": {},
     "nuid": "edab7c52-3216-453f-9d61-182b84c3221e",
     "showTitle": false,
     "title": ""
    }
   },
   "outputs": [],
   "source": []
  }
 ],
 "metadata": {
  "application/vnd.databricks.v1+notebook": {
   "dashboards": [],
   "environmentMetadata": null,
   "language": "python",
   "notebookMetadata": {
    "pythonIndentUnit": 4
   },
   "notebookName": "Model Deployment",
   "widgets": {}
  }
 },
 "nbformat": 4,
 "nbformat_minor": 0
}
